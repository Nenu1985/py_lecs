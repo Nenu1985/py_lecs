{
 "cells": [
  {
   "cell_type": "markdown",
   "metadata": {},
   "source": [
    "# [Программирование на Python (SCS)](https://compscicenter.ru/courses/python/2015-autumn/classes/)\n",
    "# Слайды доступны по состоянию на август 2019 г.!\n",
    "\n",
    "|     **Дата**     |   **Название**  |   **Материалы**   |\n",
    "|:----------------:|:---------------:|:-----------------:|\n",
    "| 14 сентября      |    Всё, что вы хотели знать о функциях в Python | [Слайды (PDF)](https://compscicenter.ru/media/courses/2015-autumn/spb-python/slides/python_lecture_140915.pdf) \\ [Видео](https://youtu.be/3fE_08eXyE4)|\n",
    "\n",
    "# §II. Функции\n",
    "\n",
    "**Функция** - фрагмент программного кода (подпрограмма), к которому можно обратиться из другого места программы. \n",
    "**Функция** в `python` - объект, принимающий аргументы и возвращающий значение. Обычно функция определяется с помощью инструкции `def`.\n",
    "\n",
    "По умолчанию функция всегда возвращает `None`\n",
    "\n"
   ]
  },
  {
   "cell_type": "code",
   "execution_count": 1,
   "metadata": {},
   "outputs": [],
   "source": [
    "def foo():\n",
    "    return 42"
   ]
  },
  {
   "cell_type": "code",
   "execution_count": 2,
   "metadata": {},
   "outputs": [
    {
     "data": {
      "text/plain": [
       "42"
      ]
     },
     "execution_count": 2,
     "metadata": {},
     "output_type": "execute_result"
    }
   ],
   "source": [
    "foo()"
   ]
  },
  {
   "cell_type": "code",
   "execution_count": 11,
   "metadata": {},
   "outputs": [
    {
     "name": "stdout",
     "output_type": "stream",
     "text": [
      "42\n"
     ]
    }
   ],
   "source": [
    "print(foo())"
   ]
  },
  {
   "cell_type": "markdown",
   "metadata": {},
   "source": [
    "#### Документирование функции\n",
    "\n",
    "Для документирования используеться строковый литерал `\"\"\" \"\"\"`"
   ]
  },
  {
   "cell_type": "code",
   "execution_count": 5,
   "metadata": {},
   "outputs": [],
   "source": [
    "def foo():\n",
    "    \"\"\"I return 42\"\"\"\n",
    "    return 42"
   ]
  },
  {
   "cell_type": "markdown",
   "metadata": {},
   "source": [
    "Посмотреть, документацию можно используя метод `help()` или использовать атрибут `.__doc__`. В IPython можно использовать \"магию\" `?`\n",
    "\n",
    "```python\n",
    "foo?\n",
    "```"
   ]
  },
  {
   "cell_type": "code",
   "execution_count": 6,
   "metadata": {},
   "outputs": [
    {
     "data": {
      "text/plain": [
       "'I return 42'"
      ]
     },
     "execution_count": 6,
     "metadata": {},
     "output_type": "execute_result"
    }
   ],
   "source": [
    "foo.__doc__"
   ]
  },
  {
   "cell_type": "code",
   "execution_count": 7,
   "metadata": {},
   "outputs": [
    {
     "name": "stdout",
     "output_type": "stream",
     "text": [
      "Help on function foo in module __main__:\n",
      "\n",
      "foo()\n",
      "    I return 42\n",
      "\n"
     ]
    }
   ],
   "source": [
    "help(foo)"
   ]
  },
  {
   "cell_type": "markdown",
   "metadata": {},
   "source": [
    "Передача аргументов в функцию:\n",
    "1. Позиционная передача значений\n",
    "2. Именованная передача значений\n"
   ]
  },
  {
   "cell_type": "code",
   "execution_count": 8,
   "metadata": {},
   "outputs": [],
   "source": [
    "def min(x, y):\n",
    "    return x if x < y else y"
   ]
  },
  {
   "cell_type": "code",
   "execution_count": 9,
   "metadata": {},
   "outputs": [
    {
     "data": {
      "text/plain": [
       "-5"
      ]
     },
     "execution_count": 9,
     "metadata": {},
     "output_type": "execute_result"
    }
   ],
   "source": [
    "min(-5, 6)"
   ]
  },
  {
   "cell_type": "code",
   "execution_count": 10,
   "metadata": {},
   "outputs": [
    {
     "data": {
      "text/plain": [
       "-1"
      ]
     },
     "execution_count": 10,
     "metadata": {},
     "output_type": "execute_result"
    }
   ],
   "source": [
    "min(y=6, x=-1)"
   ]
  },
  {
   "cell_type": "code",
   "execution_count": 11,
   "metadata": {},
   "outputs": [
    {
     "ename": "TypeError",
     "evalue": "min() got an unexpected keyword argument 'z'",
     "output_type": "error",
     "traceback": [
      "\u001b[1;31m---------------------------------------------------------------------------\u001b[0m",
      "\u001b[1;31mTypeError\u001b[0m                                 Traceback (most recent call last)",
      "\u001b[1;32m<ipython-input-11-2dee875dd058>\u001b[0m in \u001b[0;36m<module>\u001b[1;34m()\u001b[0m\n\u001b[1;32m----> 1\u001b[1;33m \u001b[0mmin\u001b[0m\u001b[1;33m(\u001b[0m\u001b[0mz\u001b[0m\u001b[1;33m=\u001b[0m\u001b[1;36m0\u001b[0m\u001b[1;33m,\u001b[0m \u001b[0mx\u001b[0m\u001b[1;33m=\u001b[0m\u001b[1;36m3\u001b[0m\u001b[1;33m)\u001b[0m\u001b[1;33m\u001b[0m\u001b[0m\n\u001b[0m",
      "\u001b[1;31mTypeError\u001b[0m: min() got an unexpected keyword argument 'z'"
     ]
    }
   ],
   "source": [
    "min(z=0, x=3)"
   ]
  },
  {
   "cell_type": "markdown",
   "metadata": {},
   "source": [
    "## Упаковка и распоковка аргументов"
   ]
  },
  {
   "cell_type": "markdown",
   "metadata": {},
   "source": [
    "### Упаковка аргументов"
   ]
  },
  {
   "cell_type": "code",
   "execution_count": 14,
   "metadata": {},
   "outputs": [],
   "source": [
    "def min(*args):\n",
    "    res = float(\"inf\")\n",
    "    for arg in args:\n",
    "        if arg < res:\n",
    "            res = arg\n",
    "    return res"
   ]
  },
  {
   "cell_type": "code",
   "execution_count": 13,
   "metadata": {},
   "outputs": [
    {
     "data": {
      "text/plain": [
       "-5"
      ]
     },
     "execution_count": 13,
     "metadata": {},
     "output_type": "execute_result"
    }
   ],
   "source": [
    "min(-5, 12, 13)"
   ]
  },
  {
   "cell_type": "code",
   "execution_count": 14,
   "metadata": {},
   "outputs": [
    {
     "data": {
      "text/plain": [
       "inf"
      ]
     },
     "execution_count": 14,
     "metadata": {},
     "output_type": "execute_result"
    }
   ],
   "source": [
    "min()"
   ]
  },
  {
   "cell_type": "markdown",
   "metadata": {},
   "source": [
    "#### Делаем так, что бы был передан хотябы один аргумент"
   ]
  },
  {
   "cell_type": "code",
   "execution_count": 15,
   "metadata": {},
   "outputs": [],
   "source": [
    "def min(first, *args):\n",
    "    res = first\n",
    "    for arg in args:\n",
    "        if arg < res:\n",
    "            res = arg\n",
    "    return res"
   ]
  },
  {
   "cell_type": "code",
   "execution_count": 16,
   "metadata": {},
   "outputs": [
    {
     "ename": "TypeError",
     "evalue": "min() missing 1 required positional argument: 'first'",
     "output_type": "error",
     "traceback": [
      "\u001b[1;31m---------------------------------------------------------------------------\u001b[0m",
      "\u001b[1;31mTypeError\u001b[0m                                 Traceback (most recent call last)",
      "\u001b[1;32m<ipython-input-16-9c9b7bdfea4e>\u001b[0m in \u001b[0;36m<module>\u001b[1;34m()\u001b[0m\n\u001b[1;32m----> 1\u001b[1;33m \u001b[0mmin\u001b[0m\u001b[1;33m(\u001b[0m\u001b[1;33m)\u001b[0m\u001b[1;33m\u001b[0m\u001b[0m\n\u001b[0m",
      "\u001b[1;31mTypeError\u001b[0m: min() missing 1 required positional argument: 'first'"
     ]
    }
   ],
   "source": [
    "min()"
   ]
  },
  {
   "cell_type": "markdown",
   "metadata": {},
   "source": [
    "### Распоковка аргументов\n",
    "\n",
    "Синтаксис довольно прост, главное объект должен поддерживать протокол итератора."
   ]
  },
  {
   "cell_type": "code",
   "execution_count": 17,
   "metadata": {},
   "outputs": [
    {
     "data": {
      "text/plain": [
       "-5"
      ]
     },
     "execution_count": 17,
     "metadata": {},
     "output_type": "execute_result"
    }
   ],
   "source": [
    "xs = {-5, 12, 13}\n",
    "min(*xs)"
   ]
  },
  {
   "cell_type": "code",
   "execution_count": 18,
   "metadata": {},
   "outputs": [
    {
     "data": {
      "text/plain": [
       "-18"
      ]
     },
     "execution_count": 18,
     "metadata": {},
     "output_type": "execute_result"
    }
   ],
   "source": [
    "min(*[7, 12, -18])"
   ]
  },
  {
   "cell_type": "markdown",
   "metadata": {},
   "source": [
    "**Nota Bene:**\n",
    "Элементы множества распаковываются в случайном порядке.\n"
   ]
  },
  {
   "cell_type": "code",
   "execution_count": 19,
   "metadata": {},
   "outputs": [],
   "source": [
    "def min(first, *args, lo=float(\"-inf\"), hi=float(\"inf\")):\n",
    "   res = hi\n",
    "   for arg in (first, ) + args:\n",
    "       if arg < res and lo < arg < hi:\n",
    "           res = arg\n",
    "   return res if res > lo else lo"
   ]
  },
  {
   "cell_type": "code",
   "execution_count": 20,
   "metadata": {},
   "outputs": [
    {
     "data": {
      "text/plain": [
       "1"
      ]
     },
     "execution_count": 20,
     "metadata": {},
     "output_type": "execute_result"
    }
   ],
   "source": [
    "min(10, 4, 1, 6, 9, 1)"
   ]
  },
  {
   "cell_type": "markdown",
   "metadata": {},
   "source": [
    "В оригинале используют:\n",
    "```python\n",
    "return max(res, lo)\n",
    "```\n",
    "Я посчитал это не совсем корректно, мы же изобритаем свой велосипед...\n",
    "\n",
    "Так же мы видим, что мы сделали два аргуменета по умолчанию `lo=float(\"-inf\")` и `hi=float(\"inf\")`. В случае если мы явно не передадим в функцию аргументы `lo=` или `hi=`, то будут взяты значения по умолчанию, которые мы определили в аргументах функции.\n",
    "\n",
    "#### Подводные камни ключевых (именнованных) аргументов.\n",
    "\n",
    "Подстановки значений по умолчанию для именованных аргументов функций **генерируются _один_ раз в процессе компиляции кода**, поэтому нужно крайне осторожно использовать изменяемые объекты в качестве значений по умолчанию."
   ]
  },
  {
   "cell_type": "code",
   "execution_count": 21,
   "metadata": {},
   "outputs": [],
   "source": [
    "xs = [1, 1, 2, 3]\n",
    "\n",
    "def unique(iterable, seen=set()):\n",
    "   result = []\n",
    "   for item in iterable:\n",
    "       if item not in seen:\n",
    "           result.append(item)\n",
    "       seen.add(item)\n",
    "   return result"
   ]
  },
  {
   "cell_type": "code",
   "execution_count": 22,
   "metadata": {},
   "outputs": [
    {
     "data": {
      "text/plain": [
       "[1, 2, 3]"
      ]
     },
     "execution_count": 22,
     "metadata": {},
     "output_type": "execute_result"
    }
   ],
   "source": [
    "unique(xs)"
   ]
  },
  {
   "cell_type": "code",
   "execution_count": 23,
   "metadata": {},
   "outputs": [
    {
     "data": {
      "text/plain": [
       "[]"
      ]
     },
     "execution_count": 23,
     "metadata": {},
     "output_type": "execute_result"
    }
   ],
   "source": [
    "unique(xs)"
   ]
  },
  {
   "cell_type": "code",
   "execution_count": 24,
   "metadata": {},
   "outputs": [
    {
     "data": {
      "text/plain": [
       "({1, 2, 3},)"
      ]
     },
     "execution_count": 24,
     "metadata": {},
     "output_type": "execute_result"
    }
   ],
   "source": [
    "unique.__defaults__"
   ]
  },
  {
   "cell_type": "markdown",
   "metadata": {},
   "source": [
    "В данном случае нужно заменить объявление функции:\n",
    "```python\n",
    "def unique(iterable, seen=None):\n",
    "   seen = set(seen or [])\n",
    "```\n",
    "\n",
    "**Nota Bene:**    \n",
    "`falsy values` - это значения не являющиеся `bool`, но могут быть представленны как `False`. Всё, что не относится к `falsy values`, относится к `truthy values`.\n",
    "\n",
    "**falsy:**    \n",
    "`None`    \n",
    "`False`    \n",
    "`0`    \n",
    "`0.0`    \n",
    "`0j`    \n",
    "`[]` - an empty list    \n",
    "`{}` - an empty dict    \n",
    "`()` - an empty tuple    \n",
    "`''` - an empty str    \n",
    "`b''` - an empty bytes    \n",
    "`set()` - an empty set    \n"
   ]
  },
  {
   "cell_type": "code",
   "execution_count": 25,
   "metadata": {},
   "outputs": [],
   "source": [
    "xs = [1, 1, 2, 3]\n",
    "\n",
    "def unique(iterable, seen=None):\n",
    "   seen = set(seen or [])  # None === falsy\n",
    "   result = []\n",
    "   for item in iterable:\n",
    "       if item not in seen:\n",
    "           result.append(item)\n",
    "       seen.add(item)\n",
    "   return result"
   ]
  },
  {
   "cell_type": "code",
   "execution_count": 26,
   "metadata": {},
   "outputs": [
    {
     "data": {
      "text/plain": [
       "[1, 2, 3]"
      ]
     },
     "execution_count": 26,
     "metadata": {},
     "output_type": "execute_result"
    }
   ],
   "source": [
    "unique(xs)"
   ]
  },
  {
   "cell_type": "code",
   "execution_count": 27,
   "metadata": {},
   "outputs": [
    {
     "data": {
      "text/plain": [
       "[1, 2, 3]"
      ]
     },
     "execution_count": 27,
     "metadata": {},
     "output_type": "execute_result"
    }
   ],
   "source": [
    "unique(xs)"
   ]
  },
  {
   "cell_type": "markdown",
   "metadata": {},
   "source": [
    "### Ключевые аргументы: и только ключевые\n",
    "\n",
    "Если функция имеет фиксированную арность, то именные параметры можно передавать в неё и без явного указания имени."
   ]
  },
  {
   "cell_type": "code",
   "execution_count": 28,
   "metadata": {},
   "outputs": [],
   "source": [
    "def flatten(xs, depth=None):\n",
    "    pass"
   ]
  },
  {
   "cell_type": "code",
   "execution_count": 29,
   "metadata": {},
   "outputs": [],
   "source": [
    "flatten([1, [2], 3], depth=1)"
   ]
  },
  {
   "cell_type": "code",
   "execution_count": 30,
   "metadata": {},
   "outputs": [],
   "source": [
    "flatten([1, [2], 3], 1)"
   ]
  },
  {
   "cell_type": "markdown",
   "metadata": {},
   "source": [
    "Но можно потребовать, чтобы именные параметры всегда передавались только как именные."
   ]
  },
  {
   "cell_type": "code",
   "execution_count": 31,
   "metadata": {},
   "outputs": [],
   "source": [
    "def flatten(xs, *, depth=None):\n",
    "    pass"
   ]
  },
  {
   "cell_type": "code",
   "execution_count": 32,
   "metadata": {},
   "outputs": [
    {
     "ename": "TypeError",
     "evalue": "flatten() takes 1 positional argument but 2 were given",
     "output_type": "error",
     "traceback": [
      "\u001b[1;31m---------------------------------------------------------------------------\u001b[0m",
      "\u001b[1;31mTypeError\u001b[0m                                 Traceback (most recent call last)",
      "\u001b[1;32m<ipython-input-32-b6a4e571f05c>\u001b[0m in \u001b[0;36m<module>\u001b[1;34m()\u001b[0m\n\u001b[1;32m----> 1\u001b[1;33m \u001b[0mflatten\u001b[0m\u001b[1;33m(\u001b[0m\u001b[1;33m[\u001b[0m\u001b[1;36m1\u001b[0m\u001b[1;33m,\u001b[0m \u001b[1;33m[\u001b[0m\u001b[1;36m2\u001b[0m\u001b[1;33m]\u001b[0m\u001b[1;33m,\u001b[0m \u001b[1;36m3\u001b[0m\u001b[1;33m]\u001b[0m\u001b[1;33m,\u001b[0m \u001b[1;36m2\u001b[0m\u001b[1;33m)\u001b[0m\u001b[1;33m\u001b[0m\u001b[0m\n\u001b[0m",
      "\u001b[1;31mTypeError\u001b[0m: flatten() takes 1 positional argument but 2 were given"
     ]
    }
   ],
   "source": [
    "flatten([1, [2], 3], 2)"
   ]
  },
  {
   "cell_type": "markdown",
   "metadata": {},
   "source": [
    "Ключевые аргументы аналогично позиционным можно упаковывать и распаковывать.\n",
    "\n",
    "Слайд 15. Синтаксис распаковки работает в цикле for:"
   ]
  },
  {
   "cell_type": "code",
   "execution_count": 1,
   "metadata": {},
   "outputs": [
    {
     "name": "stdout",
     "output_type": "stream",
     "text": [
      "[1, 2, 3]\n",
      "[1]\n"
     ]
    }
   ],
   "source": [
    "for a, *b in [range(4), range(2)]:\n",
    "    print(b)"
   ]
  },
  {
   "cell_type": "markdown",
   "metadata": {},
   "source": [
    "Слайд 16. Распаковка и байт код(1)"
   ]
  },
  {
   "cell_type": "code",
   "execution_count": 2,
   "metadata": {},
   "outputs": [
    {
     "name": "stdout",
     "output_type": "stream",
     "text": [
      "  1           0 LOAD_CONST               4 (('a', 'b', 'c'))\n",
      "              2 EXTENDED_ARG             1\n",
      "              4 UNPACK_EX              257\n",
      "              6 STORE_NAME               0 (first)\n",
      "              8 STORE_NAME               1 (rest)\n",
      "             10 STORE_NAME               2 (last)\n",
      "             12 LOAD_CONST               3 (None)\n",
      "             14 RETURN_VALUE\n"
     ]
    }
   ],
   "source": [
    "import dis\n",
    "dis.dis(\"first, *rest, last = ('a', 'b', 'c')\")"
   ]
  },
  {
   "cell_type": "markdown",
   "metadata": {},
   "source": [
    "Мораль\n",
    "Присваивание работает слева направо."
   ]
  },
  {
   "cell_type": "code",
   "execution_count": 3,
   "metadata": {},
   "outputs": [],
   "source": [
    "x, (x, y) = 1, (2, 3)"
   ]
  },
  {
   "cell_type": "code",
   "execution_count": 4,
   "metadata": {},
   "outputs": [
    {
     "data": {
      "text/plain": [
       "2"
      ]
     },
     "execution_count": 4,
     "metadata": {},
     "output_type": "execute_result"
    }
   ],
   "source": [
    "x"
   ]
  },
  {
   "cell_type": "markdown",
   "metadata": {},
   "source": [
    "# Слайд 18. Упаковка и распаковка: резюме\n",
    "\n",
    "• Функции в Python могут принимать произвольное\n",
    "количество позиционных и ключевых аргументов.\n",
    "\n",
    "• Для объявления таких функций используют синтаксис\n",
    "упаковки, а для вызова синтаксис распаковки\n",
    "```\n",
    ">>> def f(*args, **kwargs):\n",
    "... pass\n",
    "...\n",
    ">>> f(1, 2, 3, **{\"foo\": 42})\n",
    "```\n",
    "• Синтаксис распаковки также можно использовать при\n",
    "присваивании нескольких аргументов и в цикле for\n",
    "```\n",
    ">>> first, *rest = range(4)\n",
    ">>> for first, *rest in [range(4), range(2)]:\n",
    "... pass\n",
    "...\n",
    "```\n",
    "# Области видимости\n",
    "Слайд 20.\n",
    "• В отличие от Java (< 8), C/C++ (< 11) в Python функции —\n",
    "объекты первого класса, то есть с ними можно делать всё\n",
    "то же самое, что и с другими значениями.\n",
    "\n",
    "• Например, можно объявлять функции внутри других\n",
    "функций\n"
   ]
  },
  {
   "cell_type": "code",
   "execution_count": 5,
   "metadata": {},
   "outputs": [],
   "source": [
    "def wrapper():\n",
    "    def identity(x):\n",
    "        return x\n",
    "    return identity"
   ]
  },
  {
   "cell_type": "code",
   "execution_count": 6,
   "metadata": {},
   "outputs": [],
   "source": [
    "f = wrapper()"
   ]
  },
  {
   "cell_type": "code",
   "execution_count": 7,
   "metadata": {},
   "outputs": [
    {
     "data": {
      "text/plain": [
       "42"
      ]
     },
     "execution_count": 7,
     "metadata": {},
     "output_type": "execute_result"
    }
   ],
   "source": [
    "f(42)"
   ]
  },
  {
   "cell_type": "markdown",
   "metadata": {},
   "source": [
    "Слайд 21. Финальный аккорд - make_min. Фабрика лимитированного мин()"
   ]
  },
  {
   "cell_type": "code",
   "execution_count": 18,
   "metadata": {},
   "outputs": [],
   "source": [
    "def make_min(*, lo, hi):\n",
    "    def inner(first, *args):\n",
    "        print(f'lo = {lo}; hi = {hi}')\n",
    "        res = hi\n",
    "        for arg in (first, ) + args:\n",
    "            if arg < res and lo < arg < hi:\n",
    "                res = arg\n",
    "        return max(res, lo)\n",
    "    return inner"
   ]
  },
  {
   "cell_type": "code",
   "execution_count": 19,
   "metadata": {},
   "outputs": [],
   "source": [
    "bounded_min = make_min(lo=0, hi=255)"
   ]
  },
  {
   "cell_type": "code",
   "execution_count": 22,
   "metadata": {},
   "outputs": [
    {
     "name": "stdout",
     "output_type": "stream",
     "text": [
      "lo = 0; hi = 255\n"
     ]
    },
    {
     "data": {
      "text/plain": [
       "13"
      ]
     },
     "execution_count": 22,
     "metadata": {},
     "output_type": "execute_result"
    }
   ],
   "source": [
    "bounded_min(-5, 13, 23, 300)"
   ]
  },
  {
   "cell_type": "markdown",
   "metadata": {},
   "source": [
    "Cлайд 22. Области видимости: LEGB\n",
    "```\n",
    ">>> min                  # builtin\n",
    "<built-in function min>\n",
    ">>> min = 42             # global\n",
    ">>> def f(*args):\n",
    "... min = 2\n",
    "... def g():             # enclosing\n",
    "... min = 4              # local\n",
    "... print(min)\n",
    "...\n",
    "```\n",
    "<b>Правило LEGB</b><br>\n",
    "Поиск имени ведётся не более, чем в четырёх областях\n",
    "видимости: локальной, затем в объемлющей функции (если\n",
    "такая имеется), затем в глобальной и, наконец, во встроенной"
   ]
  },
  {
   "cell_type": "code",
   "execution_count": 24,
   "metadata": {},
   "outputs": [],
   "source": [
    "min = 42    # globals()[\"min\"] = 42"
   ]
  },
  {
   "cell_type": "code",
   "execution_count": 26,
   "metadata": {},
   "outputs": [
    {
     "data": {
      "text/plain": [
       "42"
      ]
     },
     "execution_count": 26,
     "metadata": {},
     "output_type": "execute_result"
    }
   ],
   "source": [
    "globals()[\"min\"]"
   ]
  },
  {
   "cell_type": "code",
   "execution_count": 27,
   "metadata": {},
   "outputs": [],
   "source": [
    "def f():\n",
    "    min = 2\n",
    "    print(locals())"
   ]
  },
  {
   "cell_type": "code",
   "execution_count": 28,
   "metadata": {},
   "outputs": [
    {
     "name": "stdout",
     "output_type": "stream",
     "text": [
      "{'min': 2}\n"
     ]
    }
   ],
   "source": [
    "f()"
   ]
  },
  {
   "cell_type": "markdown",
   "metadata": {},
   "source": [
    "\n",
    "# Слайд 24. Замыкания\n",
    "• Функции в Python могут использовать переменные,\n",
    "определенные во внешних областях видимости.<br>\n",
    "• Важно помнить, что поиск переменных осуществляется во\n",
    "время исполнения функции, а не во время её объявления."
   ]
  },
  {
   "cell_type": "code",
   "execution_count": 29,
   "metadata": {},
   "outputs": [],
   "source": [
    "def f():\n",
    "    print(i)"
   ]
  },
  {
   "cell_type": "code",
   "execution_count": 30,
   "metadata": {},
   "outputs": [
    {
     "name": "stdout",
     "output_type": "stream",
     "text": [
      "0\n",
      "1\n",
      "2\n",
      "3\n"
     ]
    }
   ],
   "source": [
    "for i in range(4):\n",
    "    f()"
   ]
  },
  {
   "cell_type": "markdown",
   "metadata": {},
   "source": [
    "Слайд 25. Области видимости: присваивание<br>\n",
    "• Для присваивания правило LEGB не работает<br>\n",
    "• По умолчанию операция присваивания создаёт локальную\n",
    "переменную.<br>\n",
    "• Изменить это поведение можно с помощью операторов\n",
    "<b>global</b> и <b>nonlocal</b>."
   ]
  },
  {
   "cell_type": "code",
   "execution_count": 31,
   "metadata": {},
   "outputs": [],
   "source": [
    "min = 42"
   ]
  },
  {
   "cell_type": "code",
   "execution_count": 32,
   "metadata": {},
   "outputs": [],
   "source": [
    "def f():\n",
    "    min += 1\n",
    "    return min"
   ]
  },
  {
   "cell_type": "code",
   "execution_count": 33,
   "metadata": {},
   "outputs": [
    {
     "ename": "UnboundLocalError",
     "evalue": "local variable 'min' referenced before assignment",
     "output_type": "error",
     "traceback": [
      "\u001b[0;31m---------------------------------------------------------------------------\u001b[0m",
      "\u001b[0;31mUnboundLocalError\u001b[0m                         Traceback (most recent call last)",
      "\u001b[0;32m<ipython-input-33-c43e34e6d405>\u001b[0m in \u001b[0;36m<module>\u001b[0;34m\u001b[0m\n\u001b[0;32m----> 1\u001b[0;31m \u001b[0mf\u001b[0m\u001b[0;34m(\u001b[0m\u001b[0;34m)\u001b[0m\u001b[0;34m\u001b[0m\u001b[0;34m\u001b[0m\u001b[0m\n\u001b[0m",
      "\u001b[0;32m<ipython-input-32-c0466ef9d6e3>\u001b[0m in \u001b[0;36mf\u001b[0;34m()\u001b[0m\n\u001b[1;32m      1\u001b[0m \u001b[0;32mdef\u001b[0m \u001b[0mf\u001b[0m\u001b[0;34m(\u001b[0m\u001b[0;34m)\u001b[0m\u001b[0;34m:\u001b[0m\u001b[0;34m\u001b[0m\u001b[0;34m\u001b[0m\u001b[0m\n\u001b[0;32m----> 2\u001b[0;31m     \u001b[0mmin\u001b[0m \u001b[0;34m+=\u001b[0m \u001b[0;36m1\u001b[0m\u001b[0;34m\u001b[0m\u001b[0;34m\u001b[0m\u001b[0m\n\u001b[0m\u001b[1;32m      3\u001b[0m     \u001b[0;32mreturn\u001b[0m \u001b[0mmin\u001b[0m\u001b[0;34m\u001b[0m\u001b[0;34m\u001b[0m\u001b[0m\n",
      "\u001b[0;31mUnboundLocalError\u001b[0m: local variable 'min' referenced before assignment"
     ]
    }
   ],
   "source": [
    "f()"
   ]
  },
  {
   "cell_type": "markdown",
   "metadata": {},
   "source": [
    "Слайд 26. Оператор global<br>\n",
    "• <b>global</b> Позволяет модифицировать значение переменной из\n",
    "глобальной области видимости<br>\n",
    "• Использование global порочно, почти всегда лучше\n",
    "заменить global на thread-local объект."
   ]
  },
  {
   "cell_type": "code",
   "execution_count": 34,
   "metadata": {},
   "outputs": [],
   "source": [
    "min = 42\n",
    "def f():\n",
    "    global min\n",
    "    min += 1\n",
    "    return min"
   ]
  },
  {
   "cell_type": "code",
   "execution_count": 35,
   "metadata": {},
   "outputs": [
    {
     "data": {
      "text/plain": [
       "43"
      ]
     },
     "execution_count": 35,
     "metadata": {},
     "output_type": "execute_result"
    }
   ],
   "source": [
    "f()"
   ]
  },
  {
   "cell_type": "code",
   "execution_count": 36,
   "metadata": {},
   "outputs": [
    {
     "data": {
      "text/plain": [
       "44"
      ]
     },
     "execution_count": 36,
     "metadata": {},
     "output_type": "execute_result"
    }
   ],
   "source": [
    "f()"
   ]
  },
  {
   "cell_type": "markdown",
   "metadata": {},
   "source": [
    "Слайд 27. Оператор nonlocal<br>\n",
    "• <b>nonlocal</b> Позволяет модифицировать значение переменной из объемлющей области видимости<br>\n",
    "• Прочитать мысли разработчиков на эту тему можно по\n",
    "ссылке http://python.org/dev/peps/pep-3104<br><br>\n"
   ]
  },
  {
   "cell_type": "code",
   "execution_count": 37,
   "metadata": {},
   "outputs": [],
   "source": [
    "# делаем изменяемую ячейку с инкапсулированным полем value\n",
    "def cell(value=None):   \n",
    "    def get():\n",
    "        return value\n",
    "    def set(update):\n",
    "        nonlocal value\n",
    "        value = update\n",
    "    return get, set"
   ]
  },
  {
   "cell_type": "code",
   "execution_count": 38,
   "metadata": {},
   "outputs": [],
   "source": [
    "get, set = cell()"
   ]
  },
  {
   "cell_type": "code",
   "execution_count": 39,
   "metadata": {},
   "outputs": [],
   "source": [
    "set(42)"
   ]
  },
  {
   "cell_type": "code",
   "execution_count": 40,
   "metadata": {},
   "outputs": [
    {
     "data": {
      "text/plain": [
       "42"
      ]
     },
     "execution_count": 40,
     "metadata": {},
     "output_type": "execute_result"
    }
   ],
   "source": [
    "get()"
   ]
  },
  {
   "cell_type": "markdown",
   "metadata": {},
   "source": [
    "Слайд 28.\n",
    "# Области видимости: резюме<br>\n",
    "• В Python четыре области видимости: встроенная,\n",
    "глобальная, объемлющая и локальная.<br>\n",
    "• Правило LEGB: поиск имени осуществляется от локальной\n",
    "к встроенной.<br>\n",
    "• При использовании операции присваивания имя считается\n",
    "локальным. Это поведение можно изменить с помощью\n",
    "операторов global и nonlocal."
   ]
  },
  {
   "cell_type": "markdown",
   "metadata": {},
   "source": [
    "# Функциональное программирвание\n",
    "<br> Слайд 29<br>\n",
    "• Python не функциональный язык, но в нём есть элементы\n",
    "функционального программирования.<br>\n",
    "• Анонимные функции имеют вид<br>\n",
    "```lambda arguments: expression```<br>\n",
    "и эквивалентны по поведению<br>\n",
    "```def <lambda>(arguments):```<br>```\n",
    "... return expression\n",
    "```<br>\n",
    "• Всё, сказанное про аргументы именованных функций,\n",
    "справедливо и для анонимных"
   ]
  },
  {
   "cell_type": "code",
   "execution_count": 41,
   "metadata": {},
   "outputs": [
    {
     "data": {
      "text/plain": [
       "<function __main__.<lambda>(foo, *args, bar=None, **kwargs)>"
      ]
     },
     "execution_count": 41,
     "metadata": {},
     "output_type": "execute_result"
    }
   ],
   "source": [
    "lambda foo, *args, bar=None, **kwargs: 42"
   ]
  },
  {
   "cell_type": "markdown",
   "metadata": {},
   "source": [
    "# Слайд 30. Функция map<br>\n",
    "Применяет функцию к каждому элементу последовательности (iterable - объект, поддерживающий протокол итератора)"
   ]
  },
  {
   "cell_type": "code",
   "execution_count": 1,
   "metadata": {},
   "outputs": [],
   "source": [
    "def identity(x):\n",
    "    return x"
   ]
  },
  {
   "cell_type": "code",
   "execution_count": 3,
   "metadata": {},
   "outputs": [
    {
     "data": {
      "text/plain": [
       "<map at 0x7f86e81a6518>"
      ]
     },
     "execution_count": 3,
     "metadata": {},
     "output_type": "execute_result"
    }
   ],
   "source": [
    "map(identity, range(4))  # map ленивый. Ничего не возвращает"
   ]
  },
  {
   "cell_type": "code",
   "execution_count": 6,
   "metadata": {},
   "outputs": [
    {
     "data": {
      "text/plain": [
       "'builtins'"
      ]
     },
     "execution_count": 6,
     "metadata": {},
     "output_type": "execute_result"
    }
   ],
   "source": [
    "zip.__module__"
   ]
  },
  {
   "cell_type": "code",
   "execution_count": 47,
   "metadata": {},
   "outputs": [
    {
     "data": {
      "text/plain": [
       "[0, 1, 2, 3]"
      ]
     },
     "execution_count": 47,
     "metadata": {},
     "output_type": "execute_result"
    }
   ],
   "source": [
    "list(map(identity, range(4)))"
   ]
  },
  {
   "cell_type": "code",
   "execution_count": 65,
   "metadata": {},
   "outputs": [],
   "source": [
    "# something went wrong :(\n",
    "# 'set' doesn't print result (???)\n",
    "set(map(lambda x: x % 7, [1, 9, 16, -1, 2, 5]))  "
   ]
  },
  {
   "cell_type": "code",
   "execution_count": 67,
   "metadata": {},
   "outputs": [
    {
     "data": {
      "text/plain": [
       "[2, 9]"
      ]
     },
     "execution_count": 67,
     "metadata": {},
     "output_type": "execute_result"
    }
   ],
   "source": [
    "# Применение функции к последовательностям\n",
    "# Количество элементов определяется длиной \n",
    "# наименьшей из последовательностей (в примере - 2)\n",
    "list(map(lambda x, n: x ** n,\n",
    "        [2,3], range(1, 8)))"
   ]
  },
  {
   "cell_type": "markdown",
   "metadata": {},
   "source": [
    "# Слайд 31. filter\n",
    "<br>\n",
    "Убирает из последовательности элементы, не удовлетворяющие предикату"
   ]
  },
  {
   "cell_type": "code",
   "execution_count": 80,
   "metadata": {},
   "outputs": [
    {
     "data": {
      "text/plain": [
       "<filter at 0x7fdba8467240>"
      ]
     },
     "execution_count": 80,
     "metadata": {},
     "output_type": "execute_result"
    }
   ],
   "source": [
    "filter(lambda x: x % 2 != 0, range(10))"
   ]
  },
  {
   "cell_type": "code",
   "execution_count": 70,
   "metadata": {},
   "outputs": [
    {
     "data": {
      "text/plain": [
       "[1, 3, 5, 7, 9]"
      ]
     },
     "execution_count": 70,
     "metadata": {},
     "output_type": "execute_result"
    }
   ],
   "source": [
    "list(filter(lambda x: x % 2 != 0, range(10)))"
   ]
  },
  {
   "cell_type": "code",
   "execution_count": 77,
   "metadata": {},
   "outputs": [
    {
     "data": {
      "text/plain": [
       "[42]"
      ]
     },
     "execution_count": 77,
     "metadata": {},
     "output_type": "execute_result"
    }
   ],
   "source": [
    "# Вместо предиката можно передать None, в этом случае\n",
    "# в последовательности останутся только truthy значения\n",
    "#del set  # осталась ссылка из примера для ячейки\n",
    "xs = [0, None, [], {}, set(), \"\", 42]\n",
    "list(filter(None, xs))"
   ]
  },
  {
   "cell_type": "markdown",
   "metadata": {},
   "source": [
    "# Слайд 32. zip\n",
    "\n",
    "Cтроит последовательности кортежей из элементов нескольких последовательностей"
   ]
  },
  {
   "cell_type": "code",
   "execution_count": 82,
   "metadata": {},
   "outputs": [
    {
     "data": {
      "text/plain": [
       "[('a', 0, 42j), ('b', 1, 42j), ('c', 2, 42j)]"
      ]
     },
     "execution_count": 82,
     "metadata": {},
     "output_type": "execute_result"
    }
   ],
   "source": [
    "list(zip(\"abc\", range(3), [42j, 42j, 42j]))"
   ]
  },
  {
   "cell_type": "code",
   "execution_count": 83,
   "metadata": {},
   "outputs": [
    {
     "data": {
      "text/plain": [
       "[('a', 0), ('b', 1), ('c', 2)]"
      ]
     },
     "execution_count": 83,
     "metadata": {},
     "output_type": "execute_result"
    }
   ],
   "source": [
    "# Поведение в случае последовательностей различной\n",
    "# длины аналогично map\n",
    "list(zip(\"abc\", range(10)))"
   ]
  },
  {
   "cell_type": "code",
   "execution_count": 86,
   "metadata": {},
   "outputs": [
    {
     "data": {
      "text/plain": [
       "[('a', 0, 42j), ('b', 1, 42j), ('c', 2, 42j)]"
      ]
     },
     "execution_count": 86,
     "metadata": {},
     "output_type": "execute_result"
    }
   ],
   "source": [
    "# Выразим zip через map:\n",
    "list(map(lambda *alfa: alfa, \"abc\", range(3), [42j, 42j, 42j]))"
   ]
  },
  {
   "cell_type": "markdown",
   "metadata": {},
   "source": [
    "# Слайд 33. Генераторы списков\n"
   ]
  },
  {
   "cell_type": "code",
   "execution_count": 87,
   "metadata": {},
   "outputs": [
    {
     "data": {
      "text/plain": [
       "[1, 9, 25, 49, 81]"
      ]
     },
     "execution_count": 87,
     "metadata": {},
     "output_type": "execute_result"
    }
   ],
   "source": [
    "[x ** 2 for x in range(10) if x % 2 == 1]"
   ]
  },
  {
   "cell_type": "code",
   "execution_count": 88,
   "metadata": {},
   "outputs": [
    {
     "data": {
      "text/plain": [
       "[1, 9, 25, 49, 81]"
      ]
     },
     "execution_count": 88,
     "metadata": {},
     "output_type": "execute_result"
    }
   ],
   "source": [
    "# альтернатива map и zip:\n",
    "list(map(lambda x: x ** 2,\n",
    "        filter(lambda x: x % 2 == 1, \n",
    "               range(10))))"
   ]
  },
  {
   "cell_type": "code",
   "execution_count": 93,
   "metadata": {},
   "outputs": [
    {
     "data": {
      "text/plain": [
       "[0, 1, 2, 3, 4, 8, 9]"
      ]
     },
     "execution_count": 93,
     "metadata": {},
     "output_type": "execute_result"
    }
   ],
   "source": [
    "# Вложенные генераторы:\n",
    "nested = [range(5), range(8, 10)]\n",
    "[x for xs in nested for x in xs]"
   ]
  },
  {
   "cell_type": "code",
   "execution_count": 89,
   "metadata": {},
   "outputs": [
    {
     "data": {
      "text/plain": [
       "{1, 2, 5, 6}"
      ]
     },
     "execution_count": 89,
     "metadata": {},
     "output_type": "execute_result"
    }
   ],
   "source": [
    "{x % 7 for x in [1, 9, 16, -1, 2, 5]}"
   ]
  },
  {
   "cell_type": "code",
   "execution_count": 90,
   "metadata": {},
   "outputs": [],
   "source": [
    "date = {\"year\": 2014, \"month\": \"September\", \"day\": \"\"}"
   ]
  },
  {
   "cell_type": "code",
   "execution_count": 91,
   "metadata": {},
   "outputs": [
    {
     "data": {
      "text/plain": [
       "{'year': 2014, 'month': 'September'}"
      ]
     },
     "execution_count": 91,
     "metadata": {},
     "output_type": "execute_result"
    }
   ],
   "source": [
    "{k: v for k, v in date.items() if v}"
   ]
  },
  {
   "cell_type": "code",
   "execution_count": 92,
   "metadata": {},
   "outputs": [
    {
     "data": {
      "text/plain": [
       "{0: 0, 1: 1, 2: 4, 3: 9}"
      ]
     },
     "execution_count": 92,
     "metadata": {},
     "output_type": "execute_result"
    }
   ],
   "source": [
    "{x: x ** 2 for x in range(4)}"
   ]
  },
  {
   "cell_type": "markdown",
   "metadata": {},
   "source": [
    "# Слайд 35. Функциональное программирование: резюме\n",
    "\n",
    "• Наличие элементов функционального программирования\n",
    "позволяет компактно выражать вычисления.\n",
    "\n",
    "• В Python есть типичные для функциональных языков:<br>\n",
    "- анонимные функции lambda,<br>\n",
    "- функции map, filter и zip,<br>\n",
    "- генераторы списков.<br>\n",
    "    \n",
    "• Синтаксис Python также поддерживает генерацию других\n",
    "типов коллекций: множеств и словарей."
   ]
  },
  {
   "cell_type": "markdown",
   "metadata": {},
   "source": [
    "# Слайд 36. PEP 8\n",
    "### KEEP CALM and FOLLOW PEP 8"
   ]
  }
 ],
 "metadata": {
  "kernelspec": {
   "display_name": "Python 3",
   "language": "python",
   "name": "python3"
  },
  "language_info": {
   "codemirror_mode": {
    "name": "ipython",
    "version": 3
   },
   "file_extension": ".py",
   "mimetype": "text/x-python",
   "name": "python",
   "nbconvert_exporter": "python",
   "pygments_lexer": "ipython3",
   "version": "3.7.3"
  }
 },
 "nbformat": 4,
 "nbformat_minor": 2
}
