{
 "cells": [
  {
   "cell_type": "markdown",
   "metadata": {},
   "source": [
    "# [Программирование на Python (SCS)](https://compscicenter.ru/courses/python/2015-autumn/classes/)\n",
    "## Лектор Сергей Лебедев\n",
    "\n",
    "\n",
    "|     **Дата**     |   **Название**  |     |\n",
    "|:----------------:|:---------------:|:-----------------:|\n",
    "| 5 октября 2015      |    Встроенные коллекции и модуль collections | \n",
    "\n",
    "# 5. Встроенные коллекции и модуль collections\n",
    "\n",
    "Встроенных коллекций в Python немного: **tuple**, **list**, **set** и **dict**.\n",
    "\n",
    "Мы уже кратко обсуждали базовые методы работы с ними.\n",
    "Создать коллекцию можно с помощью литералов или\n",
    "конструктора типов:"
   ]
  },
  {
   "cell_type": "code",
   "execution_count": 2,
   "metadata": {},
   "outputs": [
    {
     "name": "stdout",
     "output_type": "stream",
     "text": [
      "() (0, 0)\n",
      "set()\n",
      "[] [0, 0]\n",
      "{} {}\n"
     ]
    }
   ],
   "source": [
    "print(tuple(), (0, ) * 2)\n",
    "print(set())\n",
    "print(list(), [0] * 2)\n",
    "print(dict(), {})"
   ]
  },
  {
   "cell_type": "markdown",
   "metadata": {},
   "source": [
    "- Функция len возвращает длину переданной коллекции.\n",
    "- elem in collection и elem not in collection\n",
    "проверяют, содержится ли в коллекции элемент,\n",
    "- Удалить элемент по ключу или по индексу можно с\n",
    "помощью оператора del .\n"
   ]
  },
  {
   "cell_type": "markdown",
   "metadata": {},
   "source": [
    "# Слайд 2. Кортеж и литералы\n",
    "Литералы кортежа — обычные скобки, почти всегда их можно и нужно опускать:\n",
    "\n",
    "Эта рекомендация не касается одноэлементых кортежей!"
   ]
  },
  {
   "cell_type": "code",
   "execution_count": 7,
   "metadata": {},
   "outputs": [
    {
     "name": "stdout",
     "output_type": "stream",
     "text": [
      "(5, 4) ('October', 5)\n"
     ]
    }
   ],
   "source": [
    "x, y = 5, 4\n",
    "point = x, y\n",
    "date = \"October\", 5\n",
    "print(point, date)"
   ]
  },
  {
   "cell_type": "markdown",
   "metadata": {},
   "source": [
    "# Кортеж и слайсы\n",
    "С помощью слайсов можно выделить подпоследовательность в любой коллекции, в частности, в\n",
    "кортеже:"
   ]
  },
  {
   "cell_type": "code",
   "execution_count": 10,
   "metadata": {},
   "outputs": [
    {
     "name": "stdout",
     "output_type": "stream",
     "text": [
      "('George', 'Carlin')\n",
      "('May', 12, 1937)\n"
     ]
    }
   ],
   "source": [
    "person = (\"George\", \"Carlin\", \"May\", 12, 1937)\n",
    "name, birthday = person[:2], person[2:]\n",
    "print(name)\n",
    "print(birthday)"
   ]
  },
  {
   "cell_type": "markdown",
   "metadata": {},
   "source": [
    "Избавиться от “магических” констант помогут **именованные слайсы**:"
   ]
  },
  {
   "cell_type": "code",
   "execution_count": 12,
   "metadata": {},
   "outputs": [
    {
     "name": "stdout",
     "output_type": "stream",
     "text": [
      "('George', 'Carlin')\n",
      "('May', 12, 1937)\n"
     ]
    }
   ],
   "source": [
    "NAME, BIRTHDAY = slice(2), slice(2, None)\n",
    "print(person[NAME])\n",
    "print(person[BIRTHDAY])"
   ]
  },
  {
   "cell_type": "markdown",
   "metadata": {},
   "source": [
    "# Cлайсы и функция reversed\n",
    "Напоминание: функция reversed принимает одну последовательность и возвращает другую, перечисляющую\n",
    "элементы первой в обратном порядке:"
   ]
  },
  {
   "cell_type": "code",
   "execution_count": 19,
   "metadata": {},
   "outputs": [
    {
     "name": "stdout",
     "output_type": "stream",
     "text": [
      "(3, 2, 1)\n",
      "(3, 2, 1)\n"
     ]
    }
   ],
   "source": [
    "print(tuple(reversed((1, 2, 3))))\n",
    "# Эту операцию также можно выразить через слайс с отрицательным шагом:\n",
    "print((1, 2, 3)[::-1])"
   ]
  },
  {
   "cell_type": "markdown",
   "metadata": {},
   "source": [
    "# Конкатенация кортежей\n",
    "Кортежи можно конкатенировать с помощью бинарной операции + . Результатом конкатенации всегда является новый кортеж:"
   ]
  },
  {
   "cell_type": "code",
   "execution_count": 21,
   "metadata": {},
   "outputs": [
    {
     "name": "stdout",
     "output_type": "stream",
     "text": [
      "82582088 89106696\n",
      "89085096\n",
      "(1, 2, 3)\n"
     ]
    }
   ],
   "source": [
    "xs, ys = (1, 2), (3, )\n",
    "print(id(xs), id(ys))\n",
    "print(id(xs + ys))  # id суммы кортежей - новый кортеж\n",
    "print((xs + ys))  "
   ]
  },
  {
   "cell_type": "markdown",
   "metadata": {},
   "source": [
    "Сравнение кортежей происходит в лексикографическом порядке, причём длина учитывается, только если одна последовательность является префиксом другой:"
   ]
  },
  {
   "cell_type": "code",
   "execution_count": 23,
   "metadata": {},
   "outputs": [
    {
     "name": "stdout",
     "output_type": "stream",
     "text": [
      "True\n",
      "True\n",
      "True\n"
     ]
    }
   ],
   "source": [
    "print((1, 2, 3) < (1, 2, 4))\n",
    "print((1, 2, 3, 4) < (1, 2, 4))\n",
    "print((1, 2) < (1, 2, 42))"
   ]
  },
  {
   "cell_type": "markdown",
   "metadata": {},
   "source": [
    "# collections.namedtuple\n",
    "Функция `namedtuple` возвращает тип кортежа, специализированный на фиксированное множество полей:"
   ]
  },
  {
   "cell_type": "code",
   "execution_count": 29,
   "metadata": {},
   "outputs": [
    {
     "name": "stdout",
     "output_type": "stream",
     "text": [
      "('name', 'age')\n",
      "George 77\n",
      "OrderedDict([('name', 'George'), ('age', 77)])\n",
      "Person(name='Bill', age=77)\n"
     ]
    }
   ],
   "source": [
    "from collections import namedtuple\n",
    "Person = namedtuple(\"Person\", [\"name\", \"age\"])\n",
    "p = Person(\"George\", age=77)\n",
    "print(p._fields)\n",
    "print( p.name, p.age)\n",
    "print(p._asdict())\n",
    "print(p._replace(name=\"Bill\"))"
   ]
  },
  {
   "cell_type": "code",
   "execution_count": 30,
   "metadata": {},
   "outputs": [
    {
     "name": "stdout",
     "output_type": "stream",
     "text": [
      "Help on function namedtuple in module collections:\n",
      "\n",
      "namedtuple(typename, field_names, *, rename=False, defaults=None, module=None)\n",
      "    Returns a new subclass of tuple with named fields.\n",
      "    \n",
      "    >>> Point = namedtuple('Point', ['x', 'y'])\n",
      "    >>> Point.__doc__                   # docstring for the new class\n",
      "    'Point(x, y)'\n",
      "    >>> p = Point(11, y=22)             # instantiate with positional args or keywords\n",
      "    >>> p[0] + p[1]                     # indexable like a plain tuple\n",
      "    33\n",
      "    >>> x, y = p                        # unpack like a regular tuple\n",
      "    >>> x, y\n",
      "    (11, 22)\n",
      "    >>> p.x + p.y                       # fields also accessible by name\n",
      "    33\n",
      "    >>> d = p._asdict()                 # convert to a dictionary\n",
      "    >>> d['x']\n",
      "    11\n",
      "    >>> Point(**d)                      # convert from a dictionary\n",
      "    Point(x=11, y=22)\n",
      "    >>> p._replace(x=100)               # _replace() is like str.replace() but targets named fields\n",
      "    Point(x=100, y=22)\n",
      "\n"
     ]
    }
   ],
   "source": [
    "help(namedtuple)"
   ]
  },
  {
   "attachments": {},
   "cell_type": "markdown",
   "metadata": {},
   "source": [
    "# Слайд 7. Список. Инициализация\n",
    "Напоминание: синтаксис инициализации создаёт список\n",
    "указанной длины и заполняет его начальным значением:\n",
    "\n"
   ]
  },
  {
   "cell_type": "code",
   "execution_count": 36,
   "metadata": {},
   "outputs": [
    {
     "name": "stdout",
     "output_type": "stream",
     "text": [
      "[5, 5]\n",
      "['', '', '']\n"
     ]
    }
   ],
   "source": [
    "print([5] * 2)\n",
    "print([''] * 3)"
   ]
  },
  {
   "cell_type": "code",
   "execution_count": 38,
   "metadata": {},
   "outputs": [
    {
     "name": "stdout",
     "output_type": "stream",
     "text": [
      "[[0], [0]]\n",
      "[[42], [42]]\n"
     ]
    }
   ],
   "source": [
    "# Важно понимать, что копирование начального значения при этом не происходит:\n",
    "chunks = [[0]] * 2 # матрица 2 x 1 из нулей\n",
    "print(chunks)\n",
    "chunks[0][0] = 42\n",
    "print(chunks)"
   ]
  },
  {
   "cell_type": "markdown",
   "metadata": {},
   "source": [
    "\n",
    "# Слайд 8. Cписки добавление элементов\n",
    "\n",
    "Методы `append` и `extend` добавлют в конец списка один элемент или произвольную последовательность\n",
    "соответственно:"
   ]
  },
  {
   "cell_type": "code",
   "execution_count": 40,
   "metadata": {},
   "outputs": [
    {
     "name": "stdout",
     "output_type": "stream",
     "text": [
      "[1, 2, 3, 42, -1, -2]\n"
     ]
    }
   ],
   "source": [
    "xs = [1, 2, 3]\n",
    "xs.append(42)        # ==> [1, 2, 3, 42]\n",
    "xs.extend({-1, -2})  # ==> [1, 2, 3, 42, -1, -2]\n",
    "print(xs)"
   ]
  },
  {
   "cell_type": "code",
   "execution_count": 41,
   "metadata": {},
   "outputs": [
    {
     "name": "stdout",
     "output_type": "stream",
     "text": [
      "[4, 1, 2, 3]\n",
      "[4, 1, 2, 42, 3]\n"
     ]
    }
   ],
   "source": [
    "# Вставить элемент перед элементом с указанным индексом можно с помощью метода insert \n",
    "xs = [1, 2, 3]\n",
    "xs.insert(0, 4) # ==> [4, 1, 2, 3]\n",
    "print(xs)\n",
    "xs.insert(-1, 42) # ==> [4, 1, 2, 42, 3]\n",
    "print(xs)"
   ]
  },
  {
   "cell_type": "code",
   "execution_count": 43,
   "metadata": {},
   "outputs": [
    {
     "name": "stdout",
     "output_type": "stream",
     "text": [
      "[0, 0, 3]\n"
     ]
    }
   ],
   "source": [
    "# Можно также заменить подпоследовательность на элементы другой последовательности:\n",
    "xs = [1, 2, 3]\n",
    "xs[:2] = [0] * 2\n",
    "print(xs)"
   ]
  },
  {
   "cell_type": "markdown",
   "metadata": {},
   "source": [
    "# Слайд 9. Cписки. Конкатенация\n",
    "Конкатенация списков работает аналогично конкатенации кортежей: результатом всегда является новый список."
   ]
  },
  {
   "cell_type": "code",
   "execution_count": 45,
   "metadata": {},
   "outputs": [
    {
     "name": "stdout",
     "output_type": "stream",
     "text": [
      "83313800 89184136\n",
      "89168328\n",
      "[1, 2, 3]\n"
     ]
    }
   ],
   "source": [
    "xs, ys = [1, 2], [3]\n",
    "print( id(xs), id(ys))\n",
    "print(id(xs + ys))\n",
    "print((xs + ys))\n"
   ]
  },
  {
   "cell_type": "markdown",
   "metadata": {},
   "source": [
    "В отличие от кортежей списки поддерживают inplace конкатенацию:"
   ]
  },
  {
   "cell_type": "code",
   "execution_count": 48,
   "metadata": {},
   "outputs": [
    {
     "name": "stdout",
     "output_type": "stream",
     "text": [
      "83313800\n",
      "[1, 2, 3, 3, 3]\n"
     ]
    }
   ],
   "source": [
    "xs += ys # ≈ xs = xs.extend(ys)\n",
    "print(id(xs))\n",
    "print((xs))"
   ]
  },
  {
   "cell_type": "code",
   "execution_count": 54,
   "metadata": {},
   "outputs": [
    {
     "name": "stdout",
     "output_type": "stream",
     "text": [
      "[42]\n"
     ]
    }
   ],
   "source": [
    "xs = []\n",
    "def f():\n",
    "    global xs\n",
    "    xs += [42]\n",
    "f()\n",
    "print(xs)"
   ]
  },
  {
   "cell_type": "markdown",
   "metadata": {},
   "source": [
    "# Слайд 10. Списки. Удаление элементов\n",
    "С помощью оператора **del** можно удалить не только один элемент по его индексу, но и целую\n",
    "подпоследовательность:"
   ]
  },
  {
   "cell_type": "code",
   "execution_count": 4,
   "metadata": {},
   "outputs": [
    {
     "name": "stdout",
     "output_type": "stream",
     "text": [
      "[3]\n",
      "[]\n"
     ]
    }
   ],
   "source": [
    "xs = [1, 2, 3]\n",
    "del xs[:2]\n",
    "print(xs)\n",
    "\n",
    "del xs[:]\n",
    "print(xs)"
   ]
  },
  {
   "cell_type": "markdown",
   "metadata": {},
   "source": [
    "Иногда при удалении элемента по индексу может быть удобно также получить его значение функцией **pop**:"
   ]
  },
  {
   "cell_type": "code",
   "execution_count": 6,
   "metadata": {},
   "outputs": [
    {
     "name": "stdout",
     "output_type": "stream",
     "text": [
      "2\n",
      "[1, 3]\n"
     ]
    }
   ],
   "source": [
    "xs = [1, 2, 3]\n",
    "print(xs.pop(1))\n",
    "print(xs)"
   ]
  },
  {
   "cell_type": "code",
   "execution_count": 7,
   "metadata": {},
   "outputs": [
    {
     "data": {
      "text/plain": [
       "[1, 0]"
      ]
     },
     "execution_count": 7,
     "metadata": {},
     "output_type": "execute_result"
    }
   ],
   "source": [
    "# Удалить первое вхождение элемента в списке можно с помощью метода remove \n",
    "xs = [1, 1, 0]\n",
    "xs.remove(1)\n",
    "xs"
   ]
  },
  {
   "cell_type": "markdown",
   "metadata": {},
   "source": [
    "# Слайд 11. Списки. reversed"
   ]
  },
  {
   "cell_type": "code",
   "execution_count": 9,
   "metadata": {},
   "outputs": [
    {
     "name": "stdout",
     "output_type": "stream",
     "text": [
      "[3, 2, 1]\n",
      "[3, 2, 1]\n"
     ]
    }
   ],
   "source": [
    "print(list(reversed([1, 2, 3])))\n",
    "# Можно также перевернуть список inplace:\n",
    "xs = [1, 2, 3]\n",
    "\n",
    "# Обратите внимание, что в отличие от функции reversed inlpace операция возвращает None , подсказывая\n",
    "# пользователю, что список был изменён.\n",
    "xs.reverse()\n",
    "print(xs)\n"
   ]
  },
  {
   "cell_type": "markdown",
   "metadata": {},
   "source": [
    "# Слайд 12. Списки. sorted\n"
   ]
  },
  {
   "cell_type": "code",
   "execution_count": 11,
   "metadata": {},
   "outputs": [
    {
     "name": "stdout",
     "output_type": "stream",
     "text": [
      "[1, 2, 3] [3, 2, 1]\n",
      "[1, 2, 3]\n"
     ]
    }
   ],
   "source": [
    "xs = [3, 2, 1]\n",
    "print(sorted(xs), xs)\n",
    "\n",
    "xs.sort()\n",
    "print(xs)\n"
   ]
  },
  {
   "cell_type": "markdown",
   "metadata": {},
   "source": [
    "Функции **sorted** и методу **sort** можно опционально указать `направление сортировки`, а также `функцию-ключ`:"
   ]
  },
  {
   "cell_type": "code",
   "execution_count": 13,
   "metadata": {},
   "outputs": [
    {
     "name": "stdout",
     "output_type": "stream",
     "text": [
      "[3, 1, 2]\n"
     ]
    }
   ],
   "source": [
    "xs = [3, 2, 1]\n",
    "xs.sort(key=lambda x: x % 2, reverse=True)\n",
    "print(xs)"
   ]
  },
  {
   "cell_type": "markdown",
   "metadata": {},
   "source": [
    "# Слайд 13. Список - это стек. Список - это очередь!"
   ]
  },
  {
   "cell_type": "code",
   "execution_count": 16,
   "metadata": {},
   "outputs": [
    {
     "name": "stdout",
     "output_type": "stream",
     "text": [
      "3\n",
      "[1, 2]\n"
     ]
    }
   ],
   "source": [
    "stack = []\n",
    "stack.append(1)\n",
    "stack.append(2)\n",
    "stack.append(3)\n",
    "print(stack.pop())\n",
    "print(stack)"
   ]
  },
  {
   "cell_type": "code",
   "execution_count": 17,
   "metadata": {},
   "outputs": [
    {
     "name": "stdout",
     "output_type": "stream",
     "text": [
      "1\n",
      "[2, 3]\n"
     ]
    }
   ],
   "source": [
    "q = []\n",
    "q.append(1)\n",
    "q.append(2)\n",
    "q.append(3)\n",
    "print(q.pop(0))\n",
    "print(q)"
   ]
  },
  {
   "cell_type": "markdown",
   "metadata": {},
   "source": [
    "# Слайд 14. deque - двусторонняя очередь\n",
    "\n",
    "Добавление и удаление элемента с обеих сторон очереди работает за константное время, индексирование — за время, линейное от размера очереди.\n",
    "\n",
    "Конструктор **deque** принимает опциональный аргумент `maxlen`, ограничивающий максимальную длину очереди.\n",
    "\n"
   ]
  },
  {
   "cell_type": "code",
   "execution_count": 23,
   "metadata": {},
   "outputs": [
    {
     "name": "stdout",
     "output_type": "stream",
     "text": [
      "deque([1, 2, 3])\n",
      "deque([0, 1, 2, 3])\n",
      "deque([0, 1, 2, 3, 4])\n",
      "0\n",
      "deque([1, 2, 3, 4])\n"
     ]
    }
   ],
   "source": [
    "from collections import deque\n",
    "q = deque([1, 2, 3])\n",
    "print(q)\n",
    "q.appendleft(0)\n",
    "print(q)\n",
    "q.append(4)\n",
    "print(q)\n",
    "print(q.popleft())\n",
    "print(q)"
   ]
  },
  {
   "cell_type": "markdown",
   "metadata": {},
   "source": [
    "При добавлении элемента к ограниченной очереди лишние элементы “вываливаются” с противоположной\n",
    "стороны:"
   ]
  },
  {
   "cell_type": "code",
   "execution_count": 26,
   "metadata": {},
   "outputs": [
    {
     "name": "stdout",
     "output_type": "stream",
     "text": [
      "deque([1, 2], maxlen=2)\n",
      "deque([0, 1], maxlen=2)\n",
      "deque([1, 2], maxlen=2)\n"
     ]
    }
   ],
   "source": [
    "q = deque([1, 2], maxlen=2)\n",
    "print(q)\n",
    "q.appendleft(0)\n",
    "print(q)\n",
    "q.append(2)\n",
    "print(q)"
   ]
  },
  {
   "cell_type": "markdown",
   "metadata": {},
   "source": [
    "# Слайд 16. Множество\n",
    "Базовые операции при работе с множествами:"
   ]
  },
  {
   "cell_type": "code",
   "execution_count": 28,
   "metadata": {},
   "outputs": [
    {
     "name": "stdout",
     "output_type": "stream",
     "text": [
      "{1, 2, 3, 4}\n",
      "set()\n",
      "{1}\n"
     ]
    }
   ],
   "source": [
    "xs, ys, zs = {1, 2}, {2, 3}, {3, 4}\n",
    "print(set.union(xs, ys, zs))        # xs | ys | zs\n",
    "print(set.intersection(xs, ys, zs)) # xs & ys & zs\n",
    "print(set.difference(xs, ys, zs))   # xs - ys - zs"
   ]
  },
  {
   "cell_type": "markdown",
   "metadata": {},
   "source": [
    "Операции сравнения множеств:"
   ]
  },
  {
   "cell_type": "code",
   "execution_count": 29,
   "metadata": {},
   "outputs": [
    {
     "name": "stdout",
     "output_type": "stream",
     "text": [
      "False\n",
      "False\n",
      "False\n",
      "True\n"
     ]
    }
   ],
   "source": [
    "print(xs.isdisjoint(ys))\n",
    "print(xs <= ys)         # xs ⊆ ys\n",
    "print(xs < xs)          # xs ⊂ xs\n",
    "print(xs | ys >= xs)    # xs∪ys ⊇ x"
   ]
  },
  {
   "cell_type": "markdown",
   "metadata": {},
   "source": [
    "# Слайд 17. Множества: добавление\n",
    "\n",
    "Добавить один элемент в множестве можно с помощью метода **add**, добавить последовательность элементов — с помощью метода **update**.\n",
    "\n",
    "Метод **update** принимает произвольное количество аргументов:"
   ]
  },
  {
   "cell_type": "code",
   "execution_count": 34,
   "metadata": {},
   "outputs": [
    {
     "name": "stdout",
     "output_type": "stream",
     "text": [
      "{42}\n",
      "{1, 42, 2}\n",
      "{3, 1, 42, 2}\n"
     ]
    }
   ],
   "source": [
    "seen = set()\n",
    "seen.add(42)\n",
    "print(seen)\n",
    "seen.update([1, 2])\n",
    "print(seen)\n",
    "seen.update([], [1], [2], [3])\n",
    "print(seen)"
   ]
  },
  {
   "cell_type": "markdown",
   "metadata": {},
   "source": [
    "# Слайд 18.  Множества: удаление\n",
    "\n",
    "Метод **remove** удаляет из множества существующий элемент или поднимает исключение, если элемент во\n",
    "множестве не содержится:\n",
    "\n",
    "Удалить все элементы из множества можно с помощью метода **clear** "
   ]
  },
  {
   "cell_type": "code",
   "execution_count": 36,
   "metadata": {},
   "outputs": [
    {
     "name": "stdout",
     "output_type": "stream",
     "text": [
      "{1, 2}\n"
     ]
    },
    {
     "ename": "KeyError",
     "evalue": "1050",
     "output_type": "error",
     "traceback": [
      "\u001b[1;31m---------------------------------------------------------------------------\u001b[0m",
      "\u001b[1;31mKeyError\u001b[0m                                  Traceback (most recent call last)",
      "\u001b[1;32m<ipython-input-36-100978f0dacb>\u001b[0m in \u001b[0;36m<module>\u001b[1;34m\u001b[0m\n\u001b[0;32m      2\u001b[0m \u001b[0mseen\u001b[0m\u001b[1;33m.\u001b[0m\u001b[0mremove\u001b[0m\u001b[1;33m(\u001b[0m\u001b[1;36m3\u001b[0m\u001b[1;33m)\u001b[0m\u001b[1;33m\u001b[0m\u001b[1;33m\u001b[0m\u001b[0m\n\u001b[0;32m      3\u001b[0m \u001b[0mprint\u001b[0m\u001b[1;33m(\u001b[0m\u001b[0mseen\u001b[0m\u001b[1;33m)\u001b[0m\u001b[1;33m\u001b[0m\u001b[1;33m\u001b[0m\u001b[0m\n\u001b[1;32m----> 4\u001b[1;33m \u001b[0mseen\u001b[0m\u001b[1;33m.\u001b[0m\u001b[0mremove\u001b[0m\u001b[1;33m(\u001b[0m\u001b[1;36m1050\u001b[0m\u001b[1;33m)\u001b[0m\u001b[1;33m\u001b[0m\u001b[1;33m\u001b[0m\u001b[0m\n\u001b[0m",
      "\u001b[1;31mKeyError\u001b[0m: 1050"
     ]
    }
   ],
   "source": [
    "seen = {1, 2, 3}\n",
    "seen.remove(3)\n",
    "print(seen)\n",
    "seen.remove(1050)"
   ]
  },
  {
   "cell_type": "markdown",
   "metadata": {},
   "source": [
    "В отличие от метода `remove` метод **discard** удаляет элемент, только если он содержится во множестве:"
   ]
  },
  {
   "cell_type": "code",
   "execution_count": 37,
   "metadata": {},
   "outputs": [
    {
     "name": "stdout",
     "output_type": "stream",
     "text": [
      "{1, 2}\n"
     ]
    }
   ],
   "source": [
    "seen.discard(100500)\n",
    "print(seen)"
   ]
  },
  {
   "cell_type": "markdown",
   "metadata": {},
   "source": [
    "# Слайд 17. Форматирование строк: format\n",
    "В Python есть два способа форматирования строк. Первый,\n",
    "который мы рассмотрим, использует метод **format**:"
   ]
  },
  {
   "cell_type": "code",
   "execution_count": 27,
   "metadata": {},
   "outputs": [
    {
     "name": "stdout",
     "output_type": "stream",
     "text": [
      "Hello, Sally, how are you?\n",
      "Today is October, 8th.\n"
     ]
    }
   ],
   "source": [
    "print(\"{}, {}, how are you?\".format(\"Hello\", \"Sally\"))\n",
    "print(\"Today is October, {}th.\".format(8))\n"
   ]
  },
  {
   "cell_type": "markdown",
   "metadata": {},
   "source": [
    "В Python 3 есть три различных по смыслу способа\n",
    "преобразовать объект в строку:\n",
    "- `str` возвращает человекочитаемое представление объекта,\n",
    "- `repr` возвращает представление объекта, по которому\n",
    "можно однозначно восстановить его значение,\n",
    "- `ascii` аналогичен repr по смыслу, но возвращаемая строка\n",
    "состоит только из символов ASCII.\n",
    "\n",
    "Примеры:"
   ]
  },
  {
   "cell_type": "code",
   "execution_count": 30,
   "metadata": {},
   "outputs": [
    {
     "name": "stdout",
     "output_type": "stream",
     "text": [
      "я строка\n",
      "'я строка'\n",
      "'\\u044f \\u0441\\u0442\\u0440\\u043e\\u043a\\u0430'\n",
      "\"I'm a string\"\n"
     ]
    }
   ],
   "source": [
    "print(str(\"я строка\"))\n",
    "print(repr(\"я строка\"))\n",
    "print(ascii(\"я строка\"))\n",
    "print(ascii(\"I'm a string\"))"
   ]
  },
  {
   "cell_type": "markdown",
   "metadata": {},
   "source": [
    "# Слайд 19. Форматирование строк: {}\n",
    "- Напоминание: внутри {} можно опционально указать\n",
    "способ преобразования объекта в строку и спецификацию\n",
    "формата.\n",
    "- Для преобразования объекта в строку используются\n",
    "первые буквы соответствующих функций:"
   ]
  },
  {
   "cell_type": "code",
   "execution_count": 32,
   "metadata": {},
   "outputs": [
    {
     "name": "stdout",
     "output_type": "stream",
     "text": [
      "я строка\n",
      "'я строка'\n",
      "'\\u044f \\u0441\\u0442\\u0440\\u043e\\u043a\\u0430'\n",
      "\"I'm a string\"\n"
     ]
    }
   ],
   "source": [
    "print(\"{!s}\".format(\"я строка\"))  # str\n",
    "print(\"{!r}\".format(\"я строка\"))  # repr\n",
    "print(\"{!a}\".format(\"я строка\"))  # ascii\n",
    "print(\"{!a}\".format(\"I'm a string\"))  # ascii"
   ]
  },
  {
   "cell_type": "markdown",
   "metadata": {},
   "source": [
    "# Слайд 20. Спецификация формата\n",
    "Спецификация формата позволяет:"
   ]
  },
  {
   "cell_type": "code",
   "execution_count": 41,
   "metadata": {},
   "outputs": [
    {
     "name": "stdout",
     "output_type": "stream",
     "text": [
      "~~~~foo bar~~~~~\n",
      "int: 42 hex: 2a\n",
      "oct: 52 bin: 101010\n",
      "-042.42\n",
      "~~~'foo bar'~~~~\n"
     ]
    }
   ],
   "source": [
    "# выровнять строку в “блоке” фиксированной длины,\n",
    "print(\"{:~^16}\".format(\"foo bar\"))\n",
    "\n",
    "# привести число к другой системе счисления,\n",
    "print(\"int: {0:d} hex: {0:x}\".format(42))\n",
    "print(\"oct: {0:o} bin: {0:b}\".format(42))\n",
    "\n",
    "# потребовать наличие знака в строковом представлении числа и зафиксировать \n",
    "# количество знаков до или после запятой.\n",
    "print(\"{:+07.2f}\".format(-42.42))\n",
    "\n",
    "# Комбинированный пример:\n",
    "print(\"{!r:~^16}\".format(\"foo bar\"))"
   ]
  },
  {
   "cell_type": "markdown",
   "metadata": {},
   "source": [
    "# Слайд 21. Форматирование: позиционные и ключ. арг.\n",
    "Внутри {} можно также явно указывать номер\n",
    "позиционного или имя ключевого аргумента:"
   ]
  },
  {
   "cell_type": "code",
   "execution_count": 42,
   "metadata": {},
   "outputs": [
    {
     "name": "stdout",
     "output_type": "stream",
     "text": [
      "hello, kitty, hello\n",
      "hello, kitty, hello\n",
      "x = 0, y = 10\n",
      "x = 0, y = 10\n"
     ]
    }
   ],
   "source": [
    "print(\"{0}, {1}, {0}\".format(\"hello\", \"kitty\"))\n",
    "print(\"{0}, {who}, {0}\".format(\"hello\", who=\"kitty\"))\n",
    "\n",
    "# Если один из аргументов — контейнер, то при форматировании можно \n",
    "# обращаться к его элементам по индексу или ключу:\n",
    "point = 0, 10\n",
    "print(\"x = {0[0]}, y = {0[1]}\".format(point))\n",
    "point = {\"x\": 0, \"y\": 10}\n",
    "print(\"x = {0[x]}, y = {0[y]}\".format(point))\n"
   ]
  },
  {
   "cell_type": "markdown",
   "metadata": {},
   "source": [
    "# Слайд 22. Форматирование: олдскул\n",
    "- пропустил. Даёшь молодежь!"
   ]
  },
  {
   "cell_type": "markdown",
   "metadata": {},
   "source": [
    "# Слайд 23. Форматирование: резюме:\n",
    "В Python есть два механизма форматирования строк:\n",
    "- с использованием метода format и\n",
    "- с помощью оператора %.\n",
    "- Метод format объективно более лучше, поэтому\n",
    "рекомендуется использовать его.\n",
    "\n",
    "# Слайд 24. Модуль string\n",
    "\n",
    "В модуле string можно найти полезные при работе со\n",
    "строками константы:"
   ]
  },
  {
   "cell_type": "code",
   "execution_count": 55,
   "metadata": {},
   "outputs": [
    {
     "name": "stdout",
     "output_type": "stream",
     "text": [
      "abcdefghijklmnopqrstuvwxyzABCDEFGHIJKLMNOPQRSTUVWXYZ\n",
      "0123456789\n",
      "!\"#$%&'()*+,-./:;<=>?@[\\]^_`{|}~\n",
      "' \\t\\n\\r\\x0b\\x0c'\n",
      " \t\n",
      "\r",
      "\u000b",
      "\f",
      "\n"
     ]
    }
   ],
   "source": [
    "import string \n",
    "\n",
    "print(string.ascii_letters)\n",
    "print(string.digits)\n",
    "print(string.punctuation)\n",
    "print(\"{!r}\".format(string.whitespace))\n",
    "print(string.whitespace)"
   ]
  },
  {
   "cell_type": "markdown",
   "metadata": {},
   "source": [
    "# Слайд 25: Строки: резюме\n",
    "- Строки в Python 3 — это последовательности символов\n",
    "(правильнее codepoints) Юникод.\n",
    "- В отличие от C/C++ или Java:\n",
    "- нет разницы между одинарными и двойными кавычками,\n",
    "- символ строки — это тоже строка,\n",
    "- можно использовать тройные кавычки для многострочных\n",
    "блоков текста.\n",
    "- Обилие методов у класса `str` позволяет не изобретать\n",
    "велосипед при работе с текстовыми данными.\n",
    "- Для форматирования строк следует использовать метод\n",
    "`format`, но полезно знать также про синтаксис с\n",
    "использованием оператора `%` (врядли)."
   ]
  },
  {
   "cell_type": "markdown",
   "metadata": {},
   "source": [
    "# Слайд 26. БАЙТЫ\n",
    "Тип bytes — неизменяемая последовательность байтов.\n",
    "- Аналогично строковым литералам в Python есть литералы\n",
    "для байтов и “сырых” байтов:"
   ]
  },
  {
   "cell_type": "code",
   "execution_count": 56,
   "metadata": {},
   "outputs": [
    {
     "name": "stdout",
     "output_type": "stream",
     "text": [
      "b'\\x00\"\\x14\\x00'\n",
      "b'\\\\00\\\\42\\\\24\\\\00'\n",
      "b'\\xd1\\x8f \\xd1\\x81\\xd1\\x82\\xd1\\x80\\xd0\\xbe\\xd0\\xba\\xd0\\xb0'\n",
      "я строка\n"
     ]
    }
   ],
   "source": [
    "print(b\"\\00\\42\\24\\00\")   # байты\n",
    "print(rb\"\\00\\42\\24\\00\")  # \"сырые\" байты\n",
    "\n",
    "# Байты и строки тесно связаны:\n",
    "# - строку можно закодировать последовательностью байтов\n",
    "chunk = \"я строка\".encode(\"utf-8\")\n",
    "print(chunk)\n",
    "# - и из последовательности байтов можно раскодировать строку\n",
    "print(chunk.decode(\"utf-8\"))  #  utf-8 - одна из кодировок Юникода.\n"
   ]
  },
  {
   "cell_type": "markdown",
   "metadata": {},
   "source": [
    "# Слайд 27. Байты, строки и кодировки\n",
    "Кодировка специфицирует преобразование текстовой\n",
    "строки в последовательность байтов. Стандартная\n",
    "библиотека Python поддерживает более сотни кодировок.\n",
    "- Любители Windows наверняка узнают магическое\n",
    "сочетание букв в следующем примере:"
   ]
  },
  {
   "cell_type": "code",
   "execution_count": 58,
   "metadata": {},
   "outputs": [
    {
     "name": "stdout",
     "output_type": "stream",
     "text": [
      "b'\\xff \\xf1\\xf2\\xf0\\xee\\xea\\xe0'\n"
     ]
    }
   ],
   "source": [
    "chunk = \"я строка\".encode(\"cp1251\")\n",
    "print(chunk)"
   ]
  },
  {
   "cell_type": "code",
   "execution_count": 59,
   "metadata": {},
   "outputs": [
    {
     "ename": "UnicodeDecodeError",
     "evalue": "'utf-8' codec can't decode byte 0xff in position 0: invalid start byte",
     "output_type": "error",
     "traceback": [
      "\u001b[1;31m---------------------------------------------------------------------------\u001b[0m",
      "\u001b[1;31mUnicodeDecodeError\u001b[0m                        Traceback (most recent call last)",
      "\u001b[1;32m<ipython-input-59-83793b8ebe6d>\u001b[0m in \u001b[0;36m<module>\u001b[1;34m\u001b[0m\n\u001b[0;32m      1\u001b[0m \u001b[1;31m# Что будет, если указать неверную кодировку?\u001b[0m\u001b[1;33m\u001b[0m\u001b[1;33m\u001b[0m\u001b[1;33m\u001b[0m\u001b[0m\n\u001b[1;32m----> 2\u001b[1;33m \u001b[0mchunk\u001b[0m\u001b[1;33m.\u001b[0m\u001b[0mdecode\u001b[0m\u001b[1;33m(\u001b[0m\u001b[1;34m\"utf-8\"\u001b[0m\u001b[1;33m)\u001b[0m\u001b[1;33m\u001b[0m\u001b[1;33m\u001b[0m\u001b[0m\n\u001b[0m",
      "\u001b[1;31mUnicodeDecodeError\u001b[0m: 'utf-8' codec can't decode byte 0xff in position 0: invalid start byte"
     ]
    }
   ],
   "source": [
    "# Что будет, если указать неверную кодировку? - ошибка!\n",
    "chunk.decode(\"utf-8\")"
   ]
  },
  {
   "cell_type": "markdown",
   "metadata": {},
   "source": [
    "# Слайд 28. Кодировки и ошибки\n",
    "- Методы *encode* и __decode__ принимают опциональный\n",
    "аргумент, контролирующий логику обработки ошибок:\n",
    "> - \"strict\" — ошибочные символы поднимают исключение, \n",
    "> - \"ignore\" — ошибочные символы пропускаются,\n",
    "> - \"replace\" — ошибочные символы заменяются на \"\\ufffd\".\n",
    "\n",
    "Пример:"
   ]
  },
  {
   "cell_type": "code",
   "execution_count": 62,
   "metadata": {},
   "outputs": [
    {
     "name": "stdout",
     "output_type": "stream",
     "text": [
      " \n"
     ]
    },
    {
     "data": {
      "text/plain": [
       "'� ������'"
      ]
     },
     "execution_count": 62,
     "metadata": {},
     "output_type": "execute_result"
    }
   ],
   "source": [
    "chunk = \"я строка\".encode(\"cp1251\")\n",
    "print(chunk.decode(\"utf-8\", \"ignore\"))\n",
    "chunk.decode(\"utf-8\", \"replace\")"
   ]
  },
  {
   "cell_type": "markdown",
   "metadata": {},
   "source": [
    "Если не указывать кодировку, то Python будет\n",
    "использовать системную кодировку по умолчанию:"
   ]
  },
  {
   "cell_type": "code",
   "execution_count": 64,
   "metadata": {},
   "outputs": [
    {
     "data": {
      "text/plain": [
       "'utf-8'"
      ]
     },
     "execution_count": 64,
     "metadata": {},
     "output_type": "execute_result"
    }
   ],
   "source": [
    "import sys\n",
    "sys.getdefaultencoding()"
   ]
  },
  {
   "cell_type": "markdown",
   "metadata": {},
   "source": [
    "# Слайд 30. Байты резюме\n",
    "- Байты в Python 3 — это специальный тип для\n",
    "последовательности байтов.\n",
    "- Байты — это не строки, а строки — это не байты, но:\n",
    ">- строку можно кодировать байтами,\n",
    ">- а байты можно декодировать в строку.\n",
    "- Большинство операций, поддерживаемых строками,\n",
    "реализованы и для байтов:"
   ]
  },
  {
   "cell_type": "code",
   "execution_count": 65,
   "metadata": {},
   "outputs": [
    {
     "data": {
      "text/plain": [
       "b'~~~~Foo Bar~~~~~'"
      ]
     },
     "execution_count": 65,
     "metadata": {},
     "output_type": "execute_result"
    }
   ],
   "source": [
    "b\"foo bar\".title().center(16, b\"~\")"
   ]
  },
  {
   "cell_type": "markdown",
   "metadata": {},
   "source": [
    "# Слайд 31. Файлы и ввод-вывод: open\n",
    "\n",
    "Текстовые и бинарные файлы в Python — это две большие разницы.\n",
    "Создать объект типа `файл` можно с помощью функции **open**, которая принимает один обязательный аргумент — путь к файлу:"
   ]
  },
  {
   "cell_type": "code",
   "execution_count": 68,
   "metadata": {},
   "outputs": [
    {
     "data": {
      "text/plain": [
       "<_io.TextIOWrapper name='./HBA1.txt' mode='r' encoding='cp1251'>"
      ]
     },
     "execution_count": 68,
     "metadata": {},
     "output_type": "execute_result"
    }
   ],
   "source": [
    "open(\"./HBA1.txt\")"
   ]
  },
  {
   "cell_type": "markdown",
   "metadata": {},
   "source": [
    "Аргументов у функции **open** довольно много, нас будут интересовать:\n",
    "- mode — определяет, в каком режиме будет открыт файл,\n",
    "возможные значения:\n",
    "> \"r\", \"w\", \"x\", \"a\", \"+\",<br>\n",
    "> \"b\", \"t\".\n",
    "- для текстовых файлов можно также указать `encoding` и\n",
    "`errors`."
   ]
  },
  {
   "cell_type": "code",
   "execution_count": 75,
   "metadata": {},
   "outputs": [
    {
     "name": "stdout",
     "output_type": "stream",
     "text": [
      "<_io.BufferedRandom name='./csc.db'>\n",
      "<_io.TextIOWrapper name='./admin.log' mode='a' encoding='cp1251'>\n",
      "<_io.TextIOWrapper name='./lecture4.tex' mode='x' encoding='cp1251'>\n"
     ]
    }
   ],
   "source": [
    "# Открыть бинарный файл для чтения и записи:\n",
    "print(open(\"./csc.db\", \"r+b\"))\n",
    "\n",
    "# Открыть текстовый в файл в кодировке \"cp1251\" для\n",
    "# добавления, игнорируя ошибки кодирования:\n",
    "print(open(\"./admin.log\", \"a\", encoding=\"cp1251\", errors=\"ignore\"))\n",
    "\n",
    "# Создать новый текстовый файл в системной кодировке и\n",
    "# открыть его для записи:\n",
    "print(open(\"./lecture4.tex\", \"x\"))"
   ]
  },
  {
   "cell_type": "markdown",
   "metadata": {},
   "source": [
    "# Слайд 33. Методы работы с файлами: чтение\n",
    "Метод read читает не более, чем n символов из файла:"
   ]
  },
  {
   "cell_type": "code",
   "execution_count": 5,
   "metadata": {},
   "outputs": [
    {
     "data": {
      "text/plain": [
       "'Some text in the'"
      ]
     },
     "execution_count": 5,
     "metadata": {},
     "output_type": "execute_result"
    }
   ],
   "source": [
    "handle = open(\"./HBA1.txt\")\n",
    "handle.read(16)"
   ]
  },
  {
   "cell_type": "markdown",
   "metadata": {},
   "source": [
    "Методы `readline` и `readline`s читают одну или все строчки\n",
    "соотвественно. Можно указать максимальное количество\n",
    "символов, которые надо прочитать:"
   ]
  },
  {
   "cell_type": "code",
   "execution_count": 24,
   "metadata": {},
   "outputs": [
    {
     "name": "stdout",
     "output_type": "stream",
     "text": [
      "27\n",
      "\n",
      "file type: 't\n",
      "[\"xt'\\n\", '\\n']\n"
     ]
    }
   ],
   "source": [
    "handle = open(\"./HBA1.txt\")\n",
    "print(len(handle.readline()))\n",
    "print(handle.readline() + handle.readline(13))\n",
    "print(handle.readlines())"
   ]
  },
  {
   "cell_type": "markdown",
   "metadata": {},
   "source": [
    "# Слайд 34. Запись\n",
    "Метод write записывает строку в файл:"
   ]
  },
  {
   "cell_type": "code",
   "execution_count": 26,
   "metadata": {},
   "outputs": [
    {
     "data": {
      "text/plain": [
       "11"
      ]
     },
     "execution_count": 26,
     "metadata": {},
     "output_type": "execute_result"
    }
   ],
   "source": [
    "handle = open(\"./example.txt\", \"w\")\n",
    "handle.write(\"abracadabra\")  # количество записанных байт"
   ]
  },
  {
   "cell_type": "markdown",
   "metadata": {},
   "source": [
    "Неявного добавления символа окончания строки при этом\n",
    "не происходит.\n",
    "- Записать последовательность строк можно с помощью\n",
    "метода writelines "
   ]
  },
  {
   "cell_type": "code",
   "execution_count": 28,
   "metadata": {},
   "outputs": [],
   "source": [
    "handle.writelines([\"foo\", \"bar\"])"
   ]
  },
  {
   "cell_type": "markdown",
   "metadata": {},
   "source": [
    "# Слайд 35. Другие операции"
   ]
  },
  {
   "cell_type": "code",
   "execution_count": 51,
   "metadata": {},
   "outputs": [
    {
     "name": "stdout",
     "output_type": "stream",
     "text": [
      "4\n",
      "0\n",
      "8\n",
      "8\n",
      "bytes wrote 21\n"
     ]
    }
   ],
   "source": [
    "handle = open(\"./example.txt\", \"r+\")\n",
    "print(handle.fileno())  # Returns underlying file descriptor if one exists\n",
    "print(handle.tell())  # Return current stream position\n",
    "print(handle.seek(8))  # Change the stream position to the given byte offset\n",
    "                       # Return the new absolute position\n",
    "print(handle.tell())\n",
    "\n",
    "# Write string to stream\n",
    "print(\"bytes wrote \" +  str(handle.write(\"something unimportant\")))  \n",
    "handle.flush()  # Flush write buffers, if applicable\n",
    "handle.close()  # Flush and close the IO object"
   ]
  },
  {
   "cell_type": "markdown",
   "metadata": {},
   "source": [
    "# Слайд 36. Cтандартные потоки\n",
    "\n",
    "Интерпретатор Python предоставляет три **текстовых**\n",
    "файла, называемых стандартными потоками\n",
    "ввода/вывода: ``sys.stdin , sys.stdout и sys.stderr ``\n",
    "\n",
    "Для чтения `sys.stdin` используют функцию <font color=green>**input**</font> "
   ]
  },
  {
   "cell_type": "code",
   "execution_count": 53,
   "metadata": {},
   "outputs": [
    {
     "name": "stdout",
     "output_type": "stream",
     "text": [
      "Name: sdfa\n"
     ]
    },
    {
     "data": {
      "text/plain": [
       "'sdfa'"
      ]
     },
     "execution_count": 53,
     "metadata": {},
     "output_type": "execute_result"
    }
   ],
   "source": [
    "input(\"Name: \")"
   ]
  },
  {
   "cell_type": "markdown",
   "metadata": {},
   "source": [
    "Для записи в sys.stdout или sys.stderr — функцию <font color=green>**print**</font>"
   ]
  },
  {
   "cell_type": "code",
   "execution_count": 64,
   "metadata": {},
   "outputs": [
    {
     "name": "stdout",
     "output_type": "stream",
     "text": [
      "Hello, `sys.stdout`!\n"
     ]
    },
    {
     "name": "stderr",
     "output_type": "stream",
     "text": [
      "Hello, `sys.stderr`!\n"
     ]
    }
   ],
   "source": [
    "import sys\n",
    "print(\"Hello, `sys.stdout`!\", file=sys.stdout)\n",
    "print(\"Hello, `sys.stderr`!\", file=sys.stderr)"
   ]
  },
  {
   "cell_type": "markdown",
   "metadata": {},
   "source": [
    "# Cлайд 37. print"
   ]
  },
  {
   "cell_type": "code",
   "execution_count": 60,
   "metadata": {},
   "outputs": [
    {
     "name": "stdout",
     "output_type": "stream",
     "text": [
      "range(0, 4)\n",
      "0 1 2 3\n",
      "0_1_2_3\n"
     ]
    }
   ],
   "source": [
    "# Функция print позволяет изменять разделитель между\n",
    "# аругументами\n",
    "print(range(4))\n",
    "print(*range(4))\n",
    "print(*range(4), sep=\"_\")"
   ]
  },
  {
   "cell_type": "code",
   "execution_count": 62,
   "metadata": {},
   "outputs": [
    {
     "name": "stdout",
     "output_type": "stream",
     "text": [
      "0 1 2 3\n",
      "--\n"
     ]
    }
   ],
   "source": [
    "# указывать последовательность, которой заканчивается вывод:\n",
    "print(*range(4), end=\"\\n--\\n\")"
   ]
  },
  {
   "cell_type": "code",
   "execution_count": 63,
   "metadata": {},
   "outputs": [],
   "source": [
    "# и форсировать вызов flush у файла, в который осуществляется вывод:\n",
    "handle = open(\"./example.txt\", \"w\")\n",
    "print(*range(4), file=handle, flush=True)"
   ]
  },
  {
   "cell_type": "markdown",
   "metadata": {},
   "source": [
    "# Слайд 38. Модуль io\n",
    "В модуле io реализованы базовые классы для работы с\n",
    "текстовыми и бинарными данными.\n",
    "\n",
    "Класс `io.StringIO` позволяет получить файловый объект\n",
    "из строки, а `io.BytesIO` из байтов:"
   ]
  },
  {
   "cell_type": "code",
   "execution_count": 78,
   "metadata": {},
   "outputs": [
    {
     "name": "stdout",
     "output_type": "stream",
     "text": [
      "foo\n",
      "\n",
      "3\n",
      "content: \n",
      "'''\n",
      "foo\n",
      "boo\n",
      "'''\n"
     ]
    }
   ],
   "source": [
    "import io\n",
    "handle = io.StringIO(\"foo\\n\\bar\")\n",
    "print(handle.readline())\n",
    "print(handle.write(\"boo\"))\n",
    "\n",
    "# Retrieve the entire contents of the object.\n",
    "print(\"content: \\n'''\\n\" + handle.getvalue() + \"\\n'''\")  "
   ]
  },
  {
   "cell_type": "code",
   "execution_count": 68,
   "metadata": {},
   "outputs": [
    {
     "name": "stdout",
     "output_type": "stream",
     "text": [
      "Help on built-in function getvalue:\n",
      "\n",
      "getvalue() method of _io.StringIO instance\n",
      "    Retrieve the entire contents of the object.\n",
      "\n"
     ]
    }
   ],
   "source": [
    "help(handle.getvalue)"
   ]
  },
  {
   "cell_type": "markdown",
   "metadata": {},
   "source": [
    "# Слайд 39. Резюме\n",
    "Файлы бывают текстовые и бинарные, их можно читать и в\n",
    "них можно писать.\n",
    "\n",
    "- Методы работы с файлами глобально не отличаются от\n",
    "других языков:\n",
    "```\n",
    "handle = open(\"./example.txt\", \"w\")\n",
    "handle.write(\"foobar\")\n",
    "handle.close()\n",
    "```\n",
    "- Стандартные потоки ввода/вывода в Python тоже\n",
    "представляются в виде текстовых файлов. Для работы с\n",
    "ними удобно использовать функции input и print .\n",
    "- В модуле io реализована иерархия низкоуровневых\n",
    "классов для работы с вводом/выводом. Полезные для\n",
    "обычных людей классы: io.StringIO и io.BytesIO "
   ]
  },
  {
   "cell_type": "code",
   "execution_count": null,
   "metadata": {},
   "outputs": [],
   "source": []
  }
 ],
 "metadata": {
  "kernelspec": {
   "display_name": "Python 3",
   "language": "python",
   "name": "python3"
  },
  "language_info": {
   "codemirror_mode": {
    "name": "ipython",
    "version": 3
   },
   "file_extension": ".py",
   "mimetype": "text/x-python",
   "name": "python",
   "nbconvert_exporter": "python",
   "pygments_lexer": "ipython3",
   "version": "3.7.4"
  }
 },
 "nbformat": 4,
 "nbformat_minor": 2
}
