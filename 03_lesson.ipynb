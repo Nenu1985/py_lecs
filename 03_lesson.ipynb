{
 "cells": [
  {
   "cell_type": "markdown",
   "metadata": {},
   "source": [
    "# [Программирование на Python (SCS)](https://compscicenter.ru/courses/python/2015-autumn/classes/)\n",
    "# Слайды  и видeо доступны по состоянию на август 2019 г.!\n",
    "\n",
    "### Лектор Сергей Лебедев. Дата проведения лекции - сентябрь 2015\n",
    "\n",
    "# 3. Декораторы и модуль functools\n",
    "\n",
    "**Декоратор** - функция, которая принимает другую функцию и что-то возвращает\n",
    "```\n",
    ">>> @trace\n",
    "... def foo(x):\n",
    "... return 42\n",
    "...\n",
    "```\n",
    "• Аналогичная по смыслу версия без синтаксического сахара:\n",
    "```\n",
    ">>> def foo(x):\n",
    "... return 42\n",
    "...\n",
    ">>> foo = trace(foo)\n",
    "```\n",
    "\n",
    "• Теперь понятно, что по имени foo будет доступно то, что\n",
    "вернула функция trace. Это и есть результат применения\n",
    "декоратора.\n",
    "\n",
    "• Возвращаемый объект может быть любого типа."
   ]
  },
  {
   "cell_type": "markdown",
   "metadata": {},
   "source": [
    "Слайд 2. @trace\n",
    "\n",
    "• Декоратор trace выводит на экран сообщение с информацией о вызове декорируемой функции. Он подменяет декорируемую функцию на свою - 'inner', которая, в свою очередь, делает махинации (выводит имя и аргументы) и вызывает декорируемую функцию"
   ]
  },
  {
   "cell_type": "code",
   "execution_count": 2,
   "metadata": {},
   "outputs": [],
   "source": [
    "def trace(func):\n",
    "    def inner(*args, **kwargs):\n",
    "        print(func.__name__, args, kwargs)\n",
    "        return func(*args, **kwargs)\n",
    "    return inner"
   ]
  },
  {
   "cell_type": "code",
   "execution_count": 4,
   "metadata": {},
   "outputs": [
    {
     "name": "stdout",
     "output_type": "stream",
     "text": [
      "identity (42,) {}\n"
     ]
    },
    {
     "data": {
      "text/plain": [
       "42"
      ]
     },
     "execution_count": 4,
     "metadata": {},
     "output_type": "execute_result"
    }
   ],
   "source": [
    "# • Применим его к тождественной функции\n",
    "@trace\n",
    "def identity(x):\n",
    "    \"I do nothing useful.\"\n",
    "    return x\n",
    "identity(42)"
   ]
  },
  {
   "cell_type": "markdown",
   "metadata": {},
   "source": [
    "\n",
    "Далее в лекции будут рассмотрены:\n",
    "\n",
    "• Возможность глобально отключать trace без лишних\n",
    "телодвижений. <br>\n",
    "• Явное указание файла при использовании `trace`<br>\n",
    "    ```\n",
    "    @trace(sys.stderr)\n",
    "... def identity(x):\n",
    "... return x\n",
    "```<br>\n",
    "• Использование sys.stdout для вывода по умолчанию."
   ]
  },
  {
   "cell_type": "code",
   "execution_count": 5,
   "metadata": {},
   "outputs": [
    {
     "name": "stdout",
     "output_type": "stream",
     "text": [
      "Help on function inner in module __main__:\n",
      "\n",
      "inner(*args, **kwargs)\n",
      "\n"
     ]
    }
   ],
   "source": [
    "# • Проблема1. Декорируемая функция потеряла атрибуты help и др.\n",
    "# Решим эту проблему дальше\n",
    "help(identity)"
   ]
  },
  {
   "cell_type": "markdown",
   "metadata": {},
   "source": [
    "• Также реализуем возможность глобально отключать `trace` без лишних телодвижений \n",
    "\n",
    "• Реализуем явное указание файла, куда будем выводить сообщения при использовании `trace`\n",
    "\n",
    "```>>> @trace(sys.stderr)\n",
    "... def identity(x):\n",
    "... return x```\n",
    "\n",
    "* по умолачиню используем sys.out"
   ]
  },
  {
   "cell_type": "markdown",
   "metadata": {},
   "source": [
    "# Слайд 4. Декораторы и help: проблема"
   ]
  },
  {
   "cell_type": "code",
   "execution_count": 8,
   "metadata": {},
   "outputs": [
    {
     "data": {
      "text/plain": [
       "('identity', 'I do nothing useful.')"
      ]
     },
     "execution_count": 8,
     "metadata": {},
     "output_type": "execute_result"
    }
   ],
   "source": [
    "def identity(x):\n",
    "    \"I do nothing useful.\"\n",
    "    return x\n",
    "identity.__name__, identity.__doc__"
   ]
  },
  {
   "cell_type": "code",
   "execution_count": 9,
   "metadata": {},
   "outputs": [
    {
     "data": {
      "text/plain": [
       "('inner', None)"
      ]
     },
     "execution_count": 9,
     "metadata": {},
     "output_type": "execute_result"
    }
   ],
   "source": [
    "identity = trace(identity)\n",
    "identity.__name__, identity.__doc__"
   ]
  },
  {
   "cell_type": "markdown",
   "metadata": {},
   "source": [
    "**__module__**\n",
    "У любой функции в Python есть атрибут __module__,\n",
    "содержащий имя модуля, в котором функция была определена.\n",
    "Для функций, определённых в интерпретаторе, например:"
   ]
  },
  {
   "cell_type": "code",
   "execution_count": 10,
   "metadata": {},
   "outputs": [
    {
     "data": {
      "text/plain": [
       "'__main__'"
      ]
     },
     "execution_count": 10,
     "metadata": {},
     "output_type": "execute_result"
    }
   ],
   "source": [
    "identity.__module__"
   ]
  },
  {
   "cell_type": "code",
   "execution_count": 3,
   "metadata": {},
   "outputs": [
    {
     "data": {
      "text/plain": [
       "('identity', 'I do nothing useful')"
      ]
     },
     "execution_count": 3,
     "metadata": {},
     "output_type": "execute_result"
    }
   ],
   "source": [
    "# Решение в лоб\n",
    "def trace(func):\n",
    "    def inner(*args, **kwargs):\n",
    "        print(func.__name__, args, kwargs)\n",
    "        return func(*args, **kwargs)\n",
    "    inner.__module__ = func.__module__\n",
    "    inner.__name__ = func.__name__\n",
    "    inner.__doc__ = func.__doc__\n",
    "    return inner\n",
    "@trace\n",
    "def identity(x):\n",
    "    \"I do nothing useful\"\n",
    "    return x\n",
    "identity.__name__, identity.__doc__"
   ]
  },
  {
   "cell_type": "markdown",
   "metadata": {},
   "source": [
    "# Слайд 6. Модуль functools"
   ]
  },
  {
   "cell_type": "code",
   "execution_count": 72,
   "metadata": {},
   "outputs": [],
   "source": [
    "import functools\n",
    "\n",
    "# функция, реализующая логику копирования:\n",
    "def trace(func):\n",
    "    def inner(*args, **kwargs):\n",
    "        print(func.__name__, args, kwargs)\n",
    "        return func(*args, **kwargs)\n",
    "    functools.update_wrapper(inner, func)\n",
    "    return inner\n",
    "@trace\n",
    "def identity(x):\n",
    "    \"I do nothing useful\"\n",
    "    return x"
   ]
  },
  {
   "cell_type": "code",
   "execution_count": 78,
   "metadata": {},
   "outputs": [
    {
     "name": "stdout",
     "output_type": "stream",
     "text": [
      "identity (34,) {}\n",
      "Evaluation: 4.0531158447265625e-06\n"
     ]
    },
    {
     "data": {
      "text/plain": [
       "34"
      ]
     },
     "execution_count": 78,
     "metadata": {},
     "output_type": "execute_result"
    }
   ],
   "source": [
    "identity(34)"
   ]
  },
  {
   "cell_type": "code",
   "execution_count": 76,
   "metadata": {},
   "outputs": [],
   "source": [
    "import functools\n",
    "import time\n",
    "\n",
    "# В бок от темы. Декоратор для измерения времени выполнения ф-ии\n",
    "def stopwatch(func):\n",
    "    def inner(*args, **kwargs):\n",
    "        print(func.__name__, args, kwargs)\n",
    "        start = time.time()\n",
    "        result =  func(*args, **kwargs)\n",
    "        print(f\"Evaluation: {time.time() - start}\")\n",
    "        return result\n",
    "    functools.update_wrapper(inner, func)\n",
    "    \n",
    "    return inner\n",
    "@stopwatch\n",
    "def identity(x):\n",
    "    \"I do nothing useful\"\n",
    "    return x"
   ]
  },
  {
   "cell_type": "code",
   "execution_count": 77,
   "metadata": {},
   "outputs": [
    {
     "name": "stdout",
     "output_type": "stream",
     "text": [
      "identity (33,) {}\n",
      "Evaluation: 4.76837158203125e-06\n"
     ]
    },
    {
     "data": {
      "text/plain": [
       "33"
      ]
     },
     "execution_count": 77,
     "metadata": {},
     "output_type": "execute_result"
    }
   ],
   "source": [
    "identity(33)\n"
   ]
  },
  {
   "cell_type": "code",
   "execution_count": 15,
   "metadata": {},
   "outputs": [],
   "source": [
    "# либо тоже самое с помощью декоратора 'wraps'\n",
    "def trace(func):\n",
    "    @functools.wraps(func)\n",
    "    def inner(*args, **kwargs):\n",
    "        print(func.__name__, args, kwargs)\n",
    "        return func(*args, **kwargs)\n",
    "    return inner"
   ]
  },
  {
   "cell_type": "markdown",
   "metadata": {},
   "source": [
    "# Cлайд 7. Управление поведением trace\n",
    "Заведём глобальную переменную `trace_enabled` и с её\n",
    "помощью будем отключать и включать `trace`.\n",
    "\n",
    "Если `trace` **выключен**, то результатом применения\n",
    "декоратора является сама функция func — никаких\n",
    "дополнительных действий в момент её исполнения\n",
    "производиться не будет."
   ]
  },
  {
   "cell_type": "code",
   "execution_count": 17,
   "metadata": {},
   "outputs": [],
   "source": [
    "trace_enabled = False\n",
    "def trace(func):\n",
    "    @functools.wraps(func)\n",
    "    def inner(*args, **kwargs):\n",
    "        print(func.__name__, args, kwargs)\n",
    "        return func(*args, **kwargs)\n",
    "    return inner if trace_enabled else func"
   ]
  },
  {
   "attachments": {
    "%D0%B4%D0%B5%D0%BA%D0%BE%D1%80%D0%B0%D1%82%D0%BE%D1%80%D1%8B_%D1%81%D0%B8%D0%BD%D1%82%D0%B0%D0%BA%D1%81%D0%B8%D1%81.jpg": {
     "image/jpeg": "[encoded data removed]"
    }
   },
   "cell_type": "markdown",
   "metadata": {},
   "source": [
    "# Слайд 8. Декораторы с аргументами: синтаксис\n",
    "![%D0%B4%D0%B5%D0%BA%D0%BE%D1%80%D0%B0%D1%82%D0%BE%D1%80%D1%8B_%D1%81%D0%B8%D0%BD%D1%82%D0%B0%D0%BA%D1%81%D0%B8%D1%81.jpg](attachment:%D0%B4%D0%B5%D0%BA%D0%BE%D1%80%D0%B0%D1%82%D0%BE%D1%80%D1%8B_%D1%81%D0%B8%D0%BD%D1%82%D0%B0%D0%BA%D1%81%D0%B8%D1%81.jpg)\n",
    "# Реализация:"
   ]
  },
  {
   "cell_type": "code",
   "execution_count": 20,
   "metadata": {},
   "outputs": [],
   "source": [
    "def trace(handle):\n",
    "    def decorator(func):\n",
    "        @functools.wraps(func)\n",
    "        def inner(*args, **kwargs):\n",
    "            print(func.__name__, args, kwargs, file=handle)\n",
    "            return func(*args, **kwargs)\n",
    "        return inner\n",
    "    return decorator"
   ]
  },
  {
   "cell_type": "markdown",
   "metadata": {},
   "source": [
    "# Слайд 10. Декораторы с аргументами: @with_arguments\n",
    "\n",
    "На предыдущем слайде тройная вложенность декораторов нечитабельна. Подобные проблемы в Python часто решаются с помощью декораторов. Рассмотрим решение на примере декоратора `with_arguments`\n",
    "\n",
    "Можно обобщить логику декоратора с аргументами в виде\n",
    "декоратора `with_arguments`. Это декоратор **для** декоратора, поэтому он принимает **декоратор**! Что происходит:\n",
    "1. with_arguments принимает декоратор deco,\n",
    "2. заворачивает его во wrapper, так как deco — декоратор с\n",
    "аргументами, а затем в decorator.\n",
    "3. decorator конструирует новый декоратор с помощью deco\n",
    "и копирует в него внутренние атрибуты функции func.\n",
    "\n",
    "Здесь все настолько сложно, что нет смысла в этом разбираться :)\n"
   ]
  },
  {
   "cell_type": "code",
   "execution_count": 87,
   "metadata": {},
   "outputs": [],
   "source": [
    "import sys\n",
    "\n",
    "def with_arguments(deco):\n",
    "    @functools.wraps(deco)\n",
    "    def wrapper(*dargs, **dkwargs):\n",
    "        def decorator(func):\n",
    "            result = deco(func, *dargs, **dkwargs)\n",
    "            functools.update_wrapper(result, func)\n",
    "            return result\n",
    "        return decorator\n",
    "    return wrapper\n",
    "\n",
    "@with_arguments\n",
    "def trace(func, handle):\n",
    "    def inner(*args, **kwargs):\n",
    "        print(func.__name__, args, kwargs, file=handle)\n",
    "        return func(*args, **kwargs)\n",
    "    return inner\n",
    "    \n",
    "@trace(sys.stderr)\n",
    "def identity(x):\n",
    "    return x"
   ]
  },
  {
   "cell_type": "code",
   "execution_count": 88,
   "metadata": {},
   "outputs": [
    {
     "name": "stderr",
     "output_type": "stream",
     "text": [
      "identity (45,) {}\n"
     ]
    },
    {
     "data": {
      "text/plain": [
       "45"
      ]
     },
     "execution_count": 88,
     "metadata": {},
     "output_type": "execute_result"
    }
   ],
   "source": [
    "identity(45)"
   ]
  },
  {
   "cell_type": "markdown",
   "metadata": {},
   "source": [
    "# Слайд 14. Опциональные аргументы: магическая версия\n",
    "\n",
    "Декоратор объявляем с функцией и именнованным аргументом (обязательно именованным). Если декорировать будем без аргумента, то `func` будет **не** None, поэтому код выполнится как для обычного декоратора. \n",
    "\n",
    "Если же аргумент\n",
    "будет передан, причём ключевой `handle = ...` то `func` = None, значит выполним код 'with braces' который возвращает анонимную функцию (лябмда=trace(func, handle)). Лябмда принимает функцию и передает декоратору (рекурсия) с аргументами функции и аргумента (обертка, которая принимает функцию и ключевой аргумент).\n",
    "\n",
    "P.S. В питоне 2 нет только ключевых аргументов, поэтому такой трюк не проходит, и нужно писать трёхуровневые декораторы"
   ]
  },
  {
   "cell_type": "code",
   "execution_count": 8,
   "metadata": {},
   "outputs": [
    {
     "name": "stderr",
     "output_type": "stream",
     "text": [
      "identity (23,) {}\n"
     ]
    },
    {
     "data": {
      "text/plain": [
       "23"
      ]
     },
     "execution_count": 8,
     "metadata": {},
     "output_type": "execute_result"
    }
   ],
   "source": [
    "import sys, functools\n",
    "\n",
    "def trace(func=None, *, handle=sys.stdout):\n",
    "#     with braces\n",
    "    if func is None:\n",
    "        return lambda func: trace(func, handle=handle)\n",
    "    \n",
    "#     wihtout braces\n",
    "    @functools.wraps(func)\n",
    "    def inner(*args, **kwargs):\n",
    "        print(func.__name__, args, kwargs, file=handle)\n",
    "        return func(*args, **kwargs)\n",
    "    return inner\n",
    "\n",
    "@trace(handle=sys.stderr)\n",
    "def identity(x):\n",
    "    return x\n",
    "\n",
    "identity(23)"
   ]
  },
  {
   "cell_type": "code",
   "execution_count": 97,
   "metadata": {},
   "outputs": [
    {
     "name": "stdout",
     "output_type": "stream",
     "text": [
      "identity (23,) {}\n"
     ]
    },
    {
     "data": {
      "text/plain": [
       "23"
      ]
     },
     "execution_count": 97,
     "metadata": {},
     "output_type": "execute_result"
    }
   ],
   "source": [
    "@trace\n",
    "def identity(x):\n",
    "    return x\n",
    "identity(23)"
   ]
  },
  {
   "cell_type": "markdown",
   "metadata": {},
   "source": [
    "# Cлайд 15. Декораторы: резюме\n",
    "• Декоратор — способ модифицировать поведение функции,\n",
    "сохраняя читаемость кода.\n",
    "\n",
    "• Декораторы бывают:\n",
    "    - без аргументов @trace <br>\n",
    "    - с аргументами @trace(sys.stderr)<br>\n",
    "    - с опциональными аргументами.\n",
    "    "
   ]
  },
  {
   "cell_type": "markdown",
   "metadata": {},
   "source": [
    "# Cлайд 16. Практика применения декораторов. \n",
    "## @timethis\n",
    "- запускает функцию указанное количество раз и выводит минимальное время выполнения"
   ]
  },
  {
   "cell_type": "code",
   "execution_count": 3,
   "metadata": {},
   "outputs": [
    {
     "name": "stdout",
     "output_type": "stream",
     "text": [
      "sum ... 0.05698316799998793\n"
     ]
    }
   ],
   "source": [
    "import time, functools\n",
    "\n",
    "def timethis(func=None, *, n_iter=100):\n",
    "    if func is None:\n",
    "        return lambda func: timethis(func, n_iter=n_iter)\n",
    "\n",
    "    @functools.wraps(func)\n",
    "    def inner(*args, **kwargs):\n",
    "        print(func.__name__, end=\" ... \")\n",
    "        acc = float(\"inf\")\n",
    "        for i in range(n_iter):\n",
    "            tick = time.perf_counter()\n",
    "            result = func(*args, **kwargs)\n",
    "            acc = min(acc, time.perf_counter() - tick)\n",
    "        print(acc)\n",
    "        return result\n",
    "    return inner\n",
    "    \n",
    "result = timethis(sum)(range(10 ** 6))\n",
    "\n",
    "# ps\n",
    "# время i5 u8250 (ноут: 4 ядра 1.6 GHz - 2018г):        0,01336\n",
    "# время AMD Phenom II x4 (4 ядра 3 GHz - 2009г):        0,05698 (в 4 раза медленней)"
   ]
  },
  {
   "cell_type": "code",
   "execution_count": 7,
   "metadata": {},
   "outputs": [
    {
     "data": {
      "text/plain": [
       "499999500000"
      ]
     },
     "execution_count": 7,
     "metadata": {},
     "output_type": "execute_result"
    }
   ],
   "source": [
    "result"
   ]
  },
  {
   "cell_type": "markdown",
   "metadata": {},
   "source": [
    "# Слайд 17. @profiled\n",
    "- профилирование для бедных. Выводит количество вызовов функции"
   ]
  },
  {
   "cell_type": "code",
   "execution_count": 5,
   "metadata": {},
   "outputs": [],
   "source": [
    "def profiled(func):\n",
    "    @functools.wraps(func)\n",
    "    def inner(*args, **kwargs):\n",
    "        inner.ncalls += 1\n",
    "        return func(*args, **kwargs)\n",
    "\n",
    "    inner.ncalls = 0\n",
    "    return inner\n",
    "\n",
    "@profiled\n",
    "def identity(x):\n",
    "    return x\n",
    "\n",
    "\n"
   ]
  },
  {
   "cell_type": "code",
   "execution_count": 11,
   "metadata": {},
   "outputs": [
    {
     "name": "stdout",
     "output_type": "stream",
     "text": [
      "42\n"
     ]
    },
    {
     "data": {
      "text/plain": [
       "6"
      ]
     },
     "execution_count": 11,
     "metadata": {},
     "output_type": "execute_result"
    }
   ],
   "source": [
    "print(identity(42))\n",
    "identity.ncalls"
   ]
  },
  {
   "cell_type": "markdown",
   "metadata": {},
   "source": [
    "# Слайд 18. @once\n",
    "- Запускает функцию один раз"
   ]
  },
  {
   "cell_type": "code",
   "execution_count": null,
   "metadata": {},
   "outputs": [],
   "source": [
    "def once(func):\n",
    "    @functools.wraps(func)\n",
    "    def inner(*args, **kwargs):\n",
    "        if not inner.called:\n",
    "            func(*args, **kwargs)\n",
    "            inner.called = True\n",
    "    inner.called = False\n",
    "    return inner\n",
    "\n",
    "@once\n",
    "def initialize_settings():\n",
    "    print(\"Settings initialized.\")\n",
    "\n",
    "print(initialize_settings())\n",
    "\n",
    "initialize_settings()\n"
   ]
  },
  {
   "cell_type": "code",
   "execution_count": 33,
   "metadata": {},
   "outputs": [
    {
     "name": "stdout",
     "output_type": "stream",
     "text": [
      "Settings initialized.\n",
      "42\n"
     ]
    },
    {
     "data": {
      "text/plain": [
       "42"
      ]
     },
     "execution_count": 33,
     "metadata": {},
     "output_type": "execute_result"
    }
   ],
   "source": [
    "# Модифицированный декоратор для функции, которые что-то возвращают\n",
    "def once(func):\n",
    "    @functools.wraps(func)\n",
    "    def inner(*args, **kwargs):\n",
    "        if not inner.called:\n",
    "            inner.result = func(*args, **kwargs)\n",
    "            inner.called = True\n",
    "            return inner.result\n",
    "        else:\n",
    "            return inner.result\n",
    "    inner.called = False\n",
    "    inner.result = None\n",
    "    return inner\n",
    "\n",
    "@once\n",
    "def initialize_settings():\n",
    "    print(\"Settings initialized.\")\n",
    "    return 42\n",
    "\n",
    "print(initialize_settings())\n",
    "\n",
    "initialize_settings()"
   ]
  },
  {
   "cell_type": "markdown",
   "metadata": {},
   "source": [
    "# Слайд 19. @memoized\n",
    "• Мемоизация — сохранение результатов выполнения\n",
    "функции для предотвращения избыточных вычислений.<br>\n",
    "• Напишем декоратор для автоматической мемоизации\n",
    "“любой” функции."
   ]
  },
  {
   "cell_type": "code",
   "execution_count": 42,
   "metadata": {},
   "outputs": [],
   "source": [
    "def memoized(func):\n",
    "    cache = {}\n",
    "\n",
    "    @functools.wraps(func)\n",
    "    def inner(*args, **kwargs):\n",
    "        key = args + kwargs\n",
    "        \n",
    "        if key not in cache:\n",
    "            cache[key] = func(*args, **kwargs)\n",
    "        return cache[key]\n",
    "    return inner"
   ]
  },
  {
   "cell_type": "code",
   "execution_count": 84,
   "metadata": {},
   "outputs": [],
   "source": [
    "# Здесь ф-я аккерман декорируется, но есть рекурсивные вызовы. Каждый вызов \n",
    "# внутри функции будет искать ссылку функции по имени и находить декорируемый\n",
    "# аккерман, поэтому все должно работать.\n",
    "# Но не работает кеширование! - из-за того, что словарь kwargs нехешируемый обект\n",
    "@memoized\n",
    "def ackerman(m, n):\n",
    "    if not m:\n",
    "        return n + 1\n",
    "    elif not n:\n",
    "        return ackerman(m - 1, 1)\n",
    "    else:\n",
    "        return ackerman(m - 1, ackerman(m, n - 1))"
   ]
  },
  {
   "cell_type": "code",
   "execution_count": 44,
   "metadata": {},
   "outputs": [
    {
     "name": "stdout",
     "output_type": "stream",
     "text": [
      "(3, 4, {})\n"
     ]
    },
    {
     "ename": "TypeError",
     "evalue": "unhashable type: 'dict'",
     "output_type": "error",
     "traceback": [
      "\u001b[0;31m---------------------------------------------------------------------------\u001b[0m",
      "\u001b[0;31mTypeError\u001b[0m                                 Traceback (most recent call last)",
      "\u001b[0;32m<ipython-input-44-a2d5f5572013>\u001b[0m in \u001b[0;36m<module>\u001b[0;34m\u001b[0m\n\u001b[0;32m----> 1\u001b[0;31m \u001b[0mackerman\u001b[0m\u001b[0;34m(\u001b[0m\u001b[0;36m3\u001b[0m\u001b[0;34m,\u001b[0m \u001b[0;36m4\u001b[0m\u001b[0;34m)\u001b[0m\u001b[0;34m\u001b[0m\u001b[0;34m\u001b[0m\u001b[0m\n\u001b[0m",
      "\u001b[0;32m<ipython-input-42-4aef992c16c6>\u001b[0m in \u001b[0;36minner\u001b[0;34m(*args, **kwargs)\u001b[0m\n\u001b[1;32m      6\u001b[0m         \u001b[0mkey\u001b[0m \u001b[0;34m=\u001b[0m \u001b[0margs\u001b[0m \u001b[0;34m+\u001b[0m \u001b[0;34m(\u001b[0m\u001b[0mkwargs\u001b[0m\u001b[0;34m,\u001b[0m\u001b[0;34m)\u001b[0m\u001b[0;34m\u001b[0m\u001b[0;34m\u001b[0m\u001b[0m\n\u001b[1;32m      7\u001b[0m         \u001b[0mprint\u001b[0m\u001b[0;34m(\u001b[0m\u001b[0mkey\u001b[0m\u001b[0;34m)\u001b[0m\u001b[0;34m\u001b[0m\u001b[0;34m\u001b[0m\u001b[0m\n\u001b[0;32m----> 8\u001b[0;31m         \u001b[0;32mif\u001b[0m \u001b[0mkey\u001b[0m \u001b[0;32mnot\u001b[0m \u001b[0;32min\u001b[0m \u001b[0mcache\u001b[0m\u001b[0;34m:\u001b[0m\u001b[0;34m\u001b[0m\u001b[0;34m\u001b[0m\u001b[0m\n\u001b[0m\u001b[1;32m      9\u001b[0m             \u001b[0mcache\u001b[0m\u001b[0;34m[\u001b[0m\u001b[0mkey\u001b[0m\u001b[0;34m]\u001b[0m \u001b[0;34m=\u001b[0m \u001b[0mfunc\u001b[0m\u001b[0;34m(\u001b[0m\u001b[0;34m*\u001b[0m\u001b[0margs\u001b[0m\u001b[0;34m,\u001b[0m \u001b[0;34m**\u001b[0m\u001b[0mkwargs\u001b[0m\u001b[0;34m)\u001b[0m\u001b[0;34m\u001b[0m\u001b[0;34m\u001b[0m\u001b[0m\n\u001b[1;32m     10\u001b[0m         \u001b[0;32mreturn\u001b[0m \u001b[0mcache\u001b[0m\u001b[0;34m[\u001b[0m\u001b[0mkey\u001b[0m\u001b[0;34m]\u001b[0m\u001b[0;34m\u001b[0m\u001b[0;34m\u001b[0m\u001b[0m\n",
      "\u001b[0;31mTypeError\u001b[0m: unhashable type: 'dict'"
     ]
    }
   ],
   "source": [
    "ackerman(3, 4)"
   ]
  },
  {
   "cell_type": "code",
   "execution_count": 100,
   "metadata": {},
   "outputs": [
    {
     "data": {
      "text/plain": [
       "125"
      ]
     },
     "execution_count": 100,
     "metadata": {},
     "output_type": "execute_result"
    }
   ],
   "source": [
    "# Исправляем проблему нехешируемости словаря приведением kwargs к кортежу. \n",
    "# Сортировка - дополнительная мера, чтобы порядок именованных аргументов\n",
    "# не влиял на результат.\n",
    "def memoized(func):\n",
    "    cache = {}\n",
    "\n",
    "    @functools.wraps(func)\n",
    "    def inner(*args, **kwargs):\n",
    "        key = args + tuple(sorted(kwargs.items()))\n",
    "        \n",
    "        if key not in cache:\n",
    "            cache[key] = func(*args, **kwargs)\n",
    "        return cache[key]\n",
    "    return inner\n",
    "\n",
    "# Теперь аккерман работает\n",
    "@memoized\n",
    "def ackerman(m, n):\n",
    "    if not m:\n",
    "        return n + 1\n",
    "    elif not n:\n",
    "        return ackerman(m - 1, 1)\n",
    "    else:\n",
    "        return ackerman(m - 1, ackerman(m, n - 1))\n",
    "ackerman(3, 4)"
   ]
  },
  {
   "cell_type": "code",
   "execution_count": 103,
   "metadata": {},
   "outputs": [],
   "source": [
    "a = {'str': 2, 3: 'mol'}"
   ]
  },
  {
   "cell_type": "code",
   "execution_count": 104,
   "metadata": {},
   "outputs": [
    {
     "data": {
      "text/plain": [
       "False"
      ]
     },
     "execution_count": 104,
     "metadata": {},
     "output_type": "execute_result"
    }
   ],
   "source": [
    "tuple((a.items()) ) in a"
   ]
  },
  {
   "cell_type": "code",
   "execution_count": 109,
   "metadata": {},
   "outputs": [
    {
     "data": {
      "text/plain": [
       "False"
      ]
     },
     "execution_count": 109,
     "metadata": {},
     "output_type": "execute_result"
    }
   ],
   "source": [
    "tuple(a.items()) == (a.items(),)\n"
   ]
  },
  {
   "cell_type": "markdown",
   "metadata": {},
   "source": [
    "Приведенное решение (приведение словаря kwargs к кортежу) не универсальное, т.к. в случае передачи нехешируемых объектов в позиционных аргументах либо в значениях kwargs приведённый кортеж становится нехешируемый (некоторые его объекты нехешируемы) и всё ломается:"
   ]
  },
  {
   "cell_type": "code",
   "execution_count": 112,
   "metadata": {},
   "outputs": [],
   "source": [
    "@memoized\n",
    "def my_f(x):\n",
    "    return x"
   ]
  },
  {
   "cell_type": "code",
   "execution_count": 114,
   "metadata": {},
   "outputs": [
    {
     "data": {
      "text/plain": [
       "4"
      ]
     },
     "execution_count": 114,
     "metadata": {},
     "output_type": "execute_result"
    }
   ],
   "source": [
    "# передаем хешируемый объект\n",
    "my_f(4)"
   ]
  },
  {
   "cell_type": "code",
   "execution_count": 116,
   "metadata": {},
   "outputs": [
    {
     "ename": "TypeError",
     "evalue": "unhashable type: 'list'",
     "output_type": "error",
     "traceback": [
      "\u001b[0;31m---------------------------------------------------------------------------\u001b[0m",
      "\u001b[0;31mTypeError\u001b[0m                                 Traceback (most recent call last)",
      "\u001b[0;32m<ipython-input-116-4f5e3e0fe08f>\u001b[0m in \u001b[0;36m<module>\u001b[0;34m\u001b[0m\n\u001b[1;32m      1\u001b[0m \u001b[0;31m# Передаем нехешируемый объект - ошибка!\u001b[0m\u001b[0;34m\u001b[0m\u001b[0;34m\u001b[0m\u001b[0;34m\u001b[0m\u001b[0m\n\u001b[0;32m----> 2\u001b[0;31m \u001b[0mmy_f\u001b[0m\u001b[0;34m(\u001b[0m\u001b[0;34m[\u001b[0m\u001b[0;36m1\u001b[0m\u001b[0;34m,\u001b[0m \u001b[0;36m2\u001b[0m\u001b[0;34m,\u001b[0m \u001b[0;36m3\u001b[0m\u001b[0;34m]\u001b[0m\u001b[0;34m)\u001b[0m\u001b[0;34m\u001b[0m\u001b[0;34m\u001b[0m\u001b[0m\n\u001b[0m\u001b[1;32m      3\u001b[0m \u001b[0;34m\u001b[0m\u001b[0m\n\u001b[1;32m      4\u001b[0m \u001b[0;34m\u001b[0m\u001b[0m\n",
      "\u001b[0;32m<ipython-input-100-d2ed005b6aaa>\u001b[0m in \u001b[0;36minner\u001b[0;34m(*args, **kwargs)\u001b[0m\n\u001b[1;32m      9\u001b[0m         \u001b[0mkey\u001b[0m \u001b[0;34m=\u001b[0m \u001b[0margs\u001b[0m \u001b[0;34m+\u001b[0m \u001b[0mtuple\u001b[0m\u001b[0;34m(\u001b[0m\u001b[0msorted\u001b[0m\u001b[0;34m(\u001b[0m\u001b[0mkwargs\u001b[0m\u001b[0;34m.\u001b[0m\u001b[0mitems\u001b[0m\u001b[0;34m(\u001b[0m\u001b[0;34m)\u001b[0m\u001b[0;34m)\u001b[0m\u001b[0;34m)\u001b[0m\u001b[0;34m\u001b[0m\u001b[0;34m\u001b[0m\u001b[0m\n\u001b[1;32m     10\u001b[0m \u001b[0;34m\u001b[0m\u001b[0m\n\u001b[0;32m---> 11\u001b[0;31m         \u001b[0;32mif\u001b[0m \u001b[0mkey\u001b[0m \u001b[0;32mnot\u001b[0m \u001b[0;32min\u001b[0m \u001b[0mcache\u001b[0m\u001b[0;34m:\u001b[0m\u001b[0;34m\u001b[0m\u001b[0;34m\u001b[0m\u001b[0m\n\u001b[0m\u001b[1;32m     12\u001b[0m             \u001b[0mcache\u001b[0m\u001b[0;34m[\u001b[0m\u001b[0mkey\u001b[0m\u001b[0;34m]\u001b[0m \u001b[0;34m=\u001b[0m \u001b[0mfunc\u001b[0m\u001b[0;34m(\u001b[0m\u001b[0;34m*\u001b[0m\u001b[0margs\u001b[0m\u001b[0;34m,\u001b[0m \u001b[0;34m**\u001b[0m\u001b[0mkwargs\u001b[0m\u001b[0;34m)\u001b[0m\u001b[0;34m\u001b[0m\u001b[0;34m\u001b[0m\u001b[0m\n\u001b[1;32m     13\u001b[0m         \u001b[0;32mreturn\u001b[0m \u001b[0mcache\u001b[0m\u001b[0;34m[\u001b[0m\u001b[0mkey\u001b[0m\u001b[0;34m]\u001b[0m\u001b[0;34m\u001b[0m\u001b[0;34m\u001b[0m\u001b[0m\n",
      "\u001b[0;31mTypeError\u001b[0m: unhashable type: 'list'"
     ]
    }
   ],
   "source": [
    "# Передаем нехешируемый объект - ошибка!\n",
    "my_f([1, 2, 3])"
   ]
  },
  {
   "cell_type": "markdown",
   "metadata": {},
   "source": [
    "Универсального решения для декоратора `memoized` **нет**!\n",
    "Возможные доп. решения (хотя и наше неплохое):\n",
    "Можно сериализовывать аргументы в строку, например, через str\n",
    "или, что более осмысленно, через pickle"
   ]
  },
  {
   "cell_type": "markdown",
   "metadata": {},
   "source": [
    "# Слайд 22. @deprecated\n"
   ]
  },
  {
   "cell_type": "code",
   "execution_count": 13,
   "metadata": {},
   "outputs": [
    {
     "name": "stderr",
     "output_type": "stream",
     "text": [
      "d:\\opencv\\py_lecs\\env\\lib\\site-packages\\ipykernel_launcher.py:14: DeprecationWarning: identity is deprecated.\n",
      "  \n"
     ]
    },
    {
     "data": {
      "text/plain": [
       "23"
      ]
     },
     "execution_count": 13,
     "metadata": {},
     "output_type": "execute_result"
    }
   ],
   "source": [
    "# Чего-то нет варнинга, поэтому пока используем простой 'warn'\n",
    "# вместо warn_explicit (который более низкоуровневый и посзволяет вставлять код, номер строки и т.п.)\n",
    "import warnings\n",
    "\n",
    "def deprecated(func):\n",
    "    code = func.__code__\n",
    "#     warnings.warn_explicit(\n",
    "#         func.__name__ + \" is deprecated.\",\n",
    "#         category=DeprecationWarning,\n",
    "#         filename=code.co_filename,\n",
    "#         lineno=code.co_firstlineno + 1)\n",
    "    warnings.warn(\n",
    "        func.__name__ + \" is deprecated.\",\n",
    "        category=DeprecationWarning,\n",
    "    )\n",
    "    return func\n",
    "\n",
    "@deprecated\n",
    "def identity(x):\n",
    "    return x\n",
    "\n",
    "identity(23)"
   ]
  },
  {
   "cell_type": "markdown",
   "metadata": {},
   "source": [
    "# Слайд 23. Контракты pre и post\n",
    "• Контрактное программирование — способ проектирования\n",
    "программ, основывающийся на формальном описании\n",
    "интерфейсов в терминах предусловий, постусловий и\n",
    "инвариантов.\n",
    "\n",
    "• В Python контрактное программирование можно\n",
    "реализовать в виде библиотеки декораторов https://pypi.python.org/pypi/contracts:"
   ]
  },
  {
   "cell_type": "code",
   "execution_count": 136,
   "metadata": {},
   "outputs": [
    {
     "data": {
      "text/plain": [
       "13"
      ]
     },
     "execution_count": 136,
     "metadata": {},
     "output_type": "execute_result"
    }
   ],
   "source": [
    "# Проверяем чтобы в функцию расчета логарифма не передали отрицательное число\n",
    "@pre(lambda x: x >= 0, \"negative argument\")\n",
    "def checked_log(x):\n",
    "    pass\n",
    "\n",
    "is_not_nan = post(lambda r: not math.isnan(r), \"not a number\")\n",
    "\n",
    "# Проверяем чтобы результат нашей мегафункции не был NaN\n",
    "@is_not_nan\n",
    "def somethind_useful():\n",
    "    pass"
   ]
  },
  {
   "cell_type": "code",
   "execution_count": 152,
   "metadata": {},
   "outputs": [
    {
     "ename": "AssertionError",
     "evalue": "negative argument",
     "output_type": "error",
     "traceback": [
      "\u001b[0;31m---------------------------------------------------------------------------\u001b[0m",
      "\u001b[0;31mAssertionError\u001b[0m                            Traceback (most recent call last)",
      "\u001b[0;32m<ipython-input-152-03e98db375c4>\u001b[0m in \u001b[0;36m<module>\u001b[0;34m\u001b[0m\n\u001b[1;32m     13\u001b[0m     \u001b[0;32mreturn\u001b[0m \u001b[0mmath\u001b[0m\u001b[0;34m.\u001b[0m\u001b[0mlog\u001b[0m\u001b[0;34m(\u001b[0m\u001b[0mx\u001b[0m\u001b[0;34m)\u001b[0m\u001b[0;34m\u001b[0m\u001b[0;34m\u001b[0m\u001b[0m\n\u001b[1;32m     14\u001b[0m \u001b[0;34m\u001b[0m\u001b[0m\n\u001b[0;32m---> 15\u001b[0;31m \u001b[0mchecked_log\u001b[0m\u001b[0;34m(\u001b[0m\u001b[0;34m-\u001b[0m\u001b[0;36m42\u001b[0m\u001b[0;34m)\u001b[0m\u001b[0;34m\u001b[0m\u001b[0;34m\u001b[0m\u001b[0m\n\u001b[0m",
      "\u001b[0;32m<ipython-input-152-03e98db375c4>\u001b[0m in \u001b[0;36minner\u001b[0;34m(*args, **kwargs)\u001b[0m\n\u001b[1;32m      4\u001b[0m         \u001b[0;34m@\u001b[0m\u001b[0mfunctools\u001b[0m\u001b[0;34m.\u001b[0m\u001b[0mwraps\u001b[0m\u001b[0;34m(\u001b[0m\u001b[0mfunc\u001b[0m\u001b[0;34m)\u001b[0m\u001b[0;34m\u001b[0m\u001b[0;34m\u001b[0m\u001b[0m\n\u001b[1;32m      5\u001b[0m         \u001b[0;32mdef\u001b[0m \u001b[0minner\u001b[0m\u001b[0;34m(\u001b[0m\u001b[0;34m*\u001b[0m\u001b[0margs\u001b[0m\u001b[0;34m,\u001b[0m \u001b[0;34m**\u001b[0m\u001b[0mkwargs\u001b[0m\u001b[0;34m)\u001b[0m\u001b[0;34m:\u001b[0m\u001b[0;34m\u001b[0m\u001b[0;34m\u001b[0m\u001b[0m\n\u001b[0;32m----> 6\u001b[0;31m             \u001b[0;32massert\u001b[0m \u001b[0mcond\u001b[0m\u001b[0;34m(\u001b[0m\u001b[0;34m*\u001b[0m\u001b[0margs\u001b[0m\u001b[0;34m,\u001b[0m \u001b[0;34m**\u001b[0m\u001b[0mkwargs\u001b[0m\u001b[0;34m)\u001b[0m\u001b[0;34m,\u001b[0m \u001b[0mmessage\u001b[0m\u001b[0;34m\u001b[0m\u001b[0;34m\u001b[0m\u001b[0m\n\u001b[0m\u001b[1;32m      7\u001b[0m             \u001b[0;32mreturn\u001b[0m \u001b[0mfunc\u001b[0m\u001b[0;34m(\u001b[0m\u001b[0;34m*\u001b[0m\u001b[0margs\u001b[0m\u001b[0;34m,\u001b[0m \u001b[0;34m**\u001b[0m\u001b[0mkwargs\u001b[0m\u001b[0;34m)\u001b[0m\u001b[0;34m\u001b[0m\u001b[0;34m\u001b[0m\u001b[0m\n\u001b[1;32m      8\u001b[0m         \u001b[0;32mreturn\u001b[0m \u001b[0minner\u001b[0m\u001b[0;34m\u001b[0m\u001b[0;34m\u001b[0m\u001b[0m\n",
      "\u001b[0;31mAssertionError\u001b[0m: negative argument"
     ]
    }
   ],
   "source": [
    "# РЕАЛИЗАЦИЯ PRE:\n",
    "def pre(cond, message):\n",
    "    def wrapper(func):\n",
    "        @functools.wraps(func)\n",
    "        def inner(*args, **kwargs):\n",
    "            assert cond(*args, **kwargs), message\n",
    "            return func(*args, **kwargs)\n",
    "        return inner\n",
    "    return wrapper\n",
    "\n",
    "@pre(lambda x: x >= 0, 'negative argument')\n",
    "def checked_log(x):\n",
    "    return math.log(x)\n",
    "\n",
    "checked_log(-42)\n"
   ]
  },
  {
   "cell_type": "code",
   "execution_count": 161,
   "metadata": {},
   "outputs": [
    {
     "ename": "AssertionError",
     "evalue": "not a number",
     "output_type": "error",
     "traceback": [
      "\u001b[0;31m---------------------------------------------------------------------------\u001b[0m",
      "\u001b[0;31mAssertionError\u001b[0m                            Traceback (most recent call last)",
      "\u001b[0;32m<ipython-input-161-f1f13d90698c>\u001b[0m in \u001b[0;36m<module>\u001b[0;34m\u001b[0m\n\u001b[1;32m     16\u001b[0m     \u001b[0;32mreturn\u001b[0m \u001b[0mfloat\u001b[0m\u001b[0;34m(\u001b[0m\u001b[0;34m\"nan\"\u001b[0m\u001b[0;34m)\u001b[0m\u001b[0;34m\u001b[0m\u001b[0;34m\u001b[0m\u001b[0m\n\u001b[1;32m     17\u001b[0m \u001b[0;34m\u001b[0m\u001b[0m\n\u001b[0;32m---> 18\u001b[0;31m \u001b[0msomething_useful\u001b[0m\u001b[0;34m(\u001b[0m\u001b[0;34m)\u001b[0m\u001b[0;34m\u001b[0m\u001b[0;34m\u001b[0m\u001b[0m\n\u001b[0m",
      "\u001b[0;32m<ipython-input-161-f1f13d90698c>\u001b[0m in \u001b[0;36minner\u001b[0;34m(*args, **kwargs)\u001b[0m\n\u001b[1;32m      7\u001b[0m         \u001b[0;32mdef\u001b[0m \u001b[0minner\u001b[0m\u001b[0;34m(\u001b[0m\u001b[0;34m*\u001b[0m\u001b[0margs\u001b[0m\u001b[0;34m,\u001b[0m \u001b[0;34m**\u001b[0m\u001b[0mkwargs\u001b[0m\u001b[0;34m)\u001b[0m\u001b[0;34m:\u001b[0m\u001b[0;34m\u001b[0m\u001b[0;34m\u001b[0m\u001b[0m\n\u001b[1;32m      8\u001b[0m             \u001b[0mresult\u001b[0m \u001b[0;34m=\u001b[0m  \u001b[0mfunc\u001b[0m\u001b[0;34m(\u001b[0m\u001b[0;34m*\u001b[0m\u001b[0margs\u001b[0m\u001b[0;34m,\u001b[0m \u001b[0;34m**\u001b[0m\u001b[0mkwargs\u001b[0m\u001b[0;34m)\u001b[0m\u001b[0;34m\u001b[0m\u001b[0;34m\u001b[0m\u001b[0m\n\u001b[0;32m----> 9\u001b[0;31m             \u001b[0;32massert\u001b[0m \u001b[0mcond\u001b[0m\u001b[0;34m(\u001b[0m\u001b[0mresult\u001b[0m\u001b[0;34m)\u001b[0m\u001b[0;34m,\u001b[0m \u001b[0mmessage\u001b[0m\u001b[0;34m\u001b[0m\u001b[0;34m\u001b[0m\u001b[0m\n\u001b[0m\u001b[1;32m     10\u001b[0m             \u001b[0;32mreturn\u001b[0m \u001b[0mresult\u001b[0m\u001b[0;34m\u001b[0m\u001b[0;34m\u001b[0m\u001b[0m\n\u001b[1;32m     11\u001b[0m         \u001b[0;32mreturn\u001b[0m \u001b[0minner\u001b[0m\u001b[0;34m\u001b[0m\u001b[0;34m\u001b[0m\u001b[0m\n",
      "\u001b[0;31mAssertionError\u001b[0m: not a number"
     ]
    }
   ],
   "source": [
    "import math\n",
    "\n",
    "# РЕАЛИЗАЦИЯ POST:\n",
    "def post(cond, message):\n",
    "    def wrapper(func):\n",
    "        @functools.wraps(func)\n",
    "        def inner(*args, **kwargs):\n",
    "            result =  func(*args, **kwargs)\n",
    "            assert cond(result), message\n",
    "            return result\n",
    "        return inner\n",
    "    return wrapper\n",
    "\n",
    "@post(lambda x: not math.isnan(x), 'not a number')\n",
    "def something_useful():\n",
    "    return float(\"nan\")\n",
    "\n",
    "something_useful()\n"
   ]
  },
  {
   "cell_type": "markdown",
   "metadata": {},
   "source": [
    "# Слайд 26. Цепочки декораторов\n",
    "• Синтаксис Python разрешает одновременное применение\n",
    "нескольких декораторов.\n",
    "\n",
    "• Порядок декораторов имеет значение:"
   ]
  },
  {
   "cell_type": "code",
   "execution_count": 166,
   "metadata": {},
   "outputs": [
    {
     "data": {
      "text/plain": [
       "46"
      ]
     },
     "execution_count": 166,
     "metadata": {},
     "output_type": "execute_result"
    }
   ],
   "source": [
    "def square(func):\n",
    "    return lambda x: func(x * x)\n",
    "\n",
    "def addsome(func):\n",
    "    return lambda x: func(x + 42)\n",
    "\n",
    "@square\n",
    "@addsome\n",
    "def identity(x):\n",
    "    return x\n",
    "\n",
    "identity(2)"
   ]
  },
  {
   "cell_type": "code",
   "execution_count": 168,
   "metadata": {},
   "outputs": [
    {
     "data": {
      "text/plain": [
       "1936"
      ]
     },
     "execution_count": 168,
     "metadata": {},
     "output_type": "execute_result"
    }
   ],
   "source": [
    "@addsome\n",
    "@square\n",
    "def identity(x):\n",
    "    return x\n",
    "\n",
    "identity(2)"
   ]
  },
  {
   "cell_type": "markdown",
   "metadata": {},
   "source": [
    "Такая зависимость от результата неочевидна, поэтому если надо разобраться что \n",
    "происходит запишем эквивалент применения декораторов:\n",
    "identity = square(addsome(identity)): (Для 1-го порадка декораторов: \n",
    "square->addsome)\n",
    "- т.е. сначала вызывается square, затем addsome:"
   ]
  },
  {
   "cell_type": "code",
   "execution_count": 177,
   "metadata": {},
   "outputs": [
    {
     "data": {
      "text/plain": [
       "46"
      ]
     },
     "execution_count": 177,
     "metadata": {},
     "output_type": "execute_result"
    }
   ],
   "source": [
    "def identity(x):\n",
    "    return x\n",
    "\n",
    "identity = square(addsome(identity))\n",
    "identity(2)"
   ]
  },
  {
   "cell_type": "markdown",
   "metadata": {},
   "source": [
    "# Слайд 27. Практика использования декораторов: резюме\n",
    "• Декораторы в мире Python вездесущи и полезны.<br>\n",
    "• Больше примеров можно найти по ссылке (https://wiki.python.org/moin/PythonDecoratorLibrary) и практически\n",
    "в любой библиотеке на Python.\n",
    "# Слайд 28. Модуль functools: lru_cache\n",
    "functools - модуль для любителей функционального программирования.\n",
    "\n",
    "**lru_cache** - Родственник уже рассмотренного memoized, сохраняющий\n",
    "фиксированное количество последних вызовов. Остальные вызовы выбрасываются.\n"
   ]
  },
  {
   "cell_type": "code",
   "execution_count": 2,
   "metadata": {},
   "outputs": [
    {
     "data": {
      "text/plain": [
       "125"
      ]
     },
     "execution_count": 2,
     "metadata": {},
     "output_type": "execute_result"
    }
   ],
   "source": [
    "import functools\n",
    "\n",
    "@functools.lru_cache(maxsize=64)\n",
    "def ackerman(m, n):\n",
    "    if not m:\n",
    "        return n + 1\n",
    "    elif not n:\n",
    "        return ackerman(m - 1, 1)\n",
    "    else:\n",
    "        return ackerman(m - 1, ackerman(m, n - 1))\n",
    "    \n",
    "ackerman(3, 4)\n"
   ]
  },
  {
   "cell_type": "code",
   "execution_count": 4,
   "metadata": {},
   "outputs": [
    {
     "data": {
      "text/plain": [
       "CacheInfo(hits=65, misses=315, maxsize=64, currsize=64)"
      ]
     },
     "execution_count": 4,
     "metadata": {},
     "output_type": "execute_result"
    }
   ],
   "source": [
    "ackerman.cache_info()"
   ]
  },
  {
   "cell_type": "markdown",
   "metadata": {},
   "source": [
    "• Можно не ограничивать количество сохраняемых вызовов, указав maxsize=None -\n",
    "тогда мы получим в точности поведение memoized. По умолчанию maxsize=128, а не None. Это сделано во избежание `memory leak`, Т.к. в случае None и бесконечной работы программы в конце концов случится `out of memory`:\n",
    "```\n",
    "@functools.lru_cache(maxsize=None)\n",
    "def ackerman(m, n):\n",
    "...\n",
    "```"
   ]
  },
  {
   "cell_type": "code",
   "execution_count": 6,
   "metadata": {},
   "outputs": [
    {
     "data": {
      "text/plain": [
       "2"
      ]
     },
     "execution_count": 6,
     "metadata": {},
     "output_type": "execute_result"
    }
   ],
   "source": [
    "@functools.lru_cache(maxsize=64)\n",
    "def identity(x):\n",
    "    return x\n",
    "\n",
    "identity(2)"
   ]
  },
  {
   "cell_type": "code",
   "execution_count": 15,
   "metadata": {},
   "outputs": [
    {
     "ename": "TypeError",
     "evalue": "unhashable type: 'list'",
     "output_type": "error",
     "traceback": [
      "\u001b[0;31m---------------------------------------------------------------------------\u001b[0m",
      "\u001b[0;31mTypeError\u001b[0m                                 Traceback (most recent call last)",
      "\u001b[0;32m<ipython-input-15-039d373c24a5>\u001b[0m in \u001b[0;36m<module>\u001b[0;34m\u001b[0m\n\u001b[0;32m----> 1\u001b[0;31m \u001b[0midentity\u001b[0m\u001b[0;34m(\u001b[0m\u001b[0;34m[\u001b[0m\u001b[0;36m3\u001b[0m\u001b[0;34m,\u001b[0m\u001b[0;36m3\u001b[0m\u001b[0;34m]\u001b[0m\u001b[0;34m)\u001b[0m\u001b[0;34m\u001b[0m\u001b[0;34m\u001b[0m\u001b[0m\n\u001b[0m",
      "\u001b[0;31mTypeError\u001b[0m: unhashable type: 'list'"
     ]
    }
   ],
   "source": [
    "# lru_cache как и мемойзед не работает с нехешируемыми данными:\n",
    "identity([3,3])"
   ]
  },
  {
   "cell_type": "code",
   "execution_count": 18,
   "metadata": {},
   "outputs": [
    {
     "data": {
      "text/plain": [
       "CacheInfo(hits=5, misses=2, maxsize=64, currsize=2)"
      ]
     },
     "execution_count": 18,
     "metadata": {},
     "output_type": "execute_result"
    }
   ],
   "source": [
    "identity.cache_info()\n"
   ]
  },
  {
   "cell_type": "markdown",
   "metadata": {},
   "source": [
    "# Слайд 29. partial\n",
    "• С помощью функции partial можно зафиксировать часть\n",
    "позиционных и ключевых аргументов в функции.\n",
    "\n",
    "• Выполнившие домашнее задание узнают в partial\n",
    "расширение функции curry."
   ]
  },
  {
   "cell_type": "code",
   "execution_count": 19,
   "metadata": {},
   "outputs": [
    {
     "data": {
      "text/plain": [
       "[('b', 2), ('a', 4)]"
      ]
     },
     "execution_count": 19,
     "metadata": {},
     "output_type": "execute_result"
    }
   ],
   "source": [
    "f = functools.partial(sorted, key=lambda p: p[1])\n",
    "f([(\"a\", 4), (\"b\", 2)])"
   ]
  },
  {
   "cell_type": "code",
   "execution_count": 20,
   "metadata": {},
   "outputs": [
    {
     "data": {
      "text/plain": [
       "[1, 2, 3, 4]"
      ]
     },
     "execution_count": 20,
     "metadata": {},
     "output_type": "execute_result"
    }
   ],
   "source": [
    "g = functools.partial(sorted, [2, 3, 1, 4])\n",
    "g()"
   ]
  },
  {
   "cell_type": "code",
   "execution_count": 27,
   "metadata": {},
   "outputs": [
    {
     "data": {
      "text/plain": [
       "43"
      ]
     },
     "execution_count": 27,
     "metadata": {},
     "output_type": "execute_result"
    }
   ],
   "source": [
    "# Функция пребразует строки, записанные в двоичном формате в целое число\n",
    "ff = functools.partial(int, base=2)\n",
    "ff('101011')"
   ]
  },
  {
   "cell_type": "markdown",
   "metadata": {},
   "source": [
    "# Слайд 30. Обобщённые (мультиметоды) функции\n",
    "Функция len называется обобщённой, так как её\n",
    "реализация может быть специализирована для\n",
    "конкретного типа\n",
    "```\n",
    ">>> len([1, 2, 3, 4])\n",
    "4\n",
    ">>> len({1, 2, 3, 4})\n",
    "4\n",
    ">>> len(range(4))\n",
    "4\n",
    "• Примеры обобщённых функций в Python:\n",
    ">>> str([1, 2, 3, 4])\n",
    "'[1, 2, 3, 4]'\n",
    ">>> hash((1, 2, 3, 4))\n",
    "485696759010151909\n",
    ">>> sum([[1], [2]], [])\n",
    "[1, 2]\n",
    "• Как реализовать свою обобщённую функцию?\n",
    "```"
   ]
  },
  {
   "cell_type": "markdown",
   "metadata": {},
   "source": [
    "# Слайд 30. singledispatch \n",
    "- декоратора, который позволяет писать функции, которые по-разному работают, в зависимости от передаваемых аргументов.\n",
    "Для примера напишем функцию, которая упаковывает переданное её значение в бинарную строку (серилизует).\n"
   ]
  },
  {
   "cell_type": "code",
   "execution_count": 28,
   "metadata": {},
   "outputs": [
    {
     "data": {
      "text/plain": [
       "b'LI0x1,I0x2,I0x4'"
      ]
     },
     "execution_count": 28,
     "metadata": {},
     "output_type": "execute_result"
    }
   ],
   "source": [
    "# Базовая ф-ия для случаев, если остальные не подошли\n",
    "# Вызываем assert и пишем \"неподходящий тип\"\n",
    "@functools.singledispatch\n",
    "def pack(obj): \n",
    "    type_name = type(obj).__name__\n",
    "    assert False, \"Unsupported type: \" + type_name\n",
    "    \n",
    "#  Далее перечисляем особые случаи - для каждого типа своя ф-ия:\n",
    "@pack.register(int)\n",
    "def _(obj):\n",
    "    return b\"I\" + hex(obj).encode(\"ascii\")\n",
    "\n",
    "@pack.register(list)\n",
    "def _(obj):\n",
    "    return b\"L\" + b\",\".join(map(pack, obj))\n",
    "\n",
    "pack([1, 2, 4])"
   ]
  },
  {
   "cell_type": "code",
   "execution_count": 29,
   "metadata": {},
   "outputs": [
    {
     "ename": "AssertionError",
     "evalue": "Unsupported type: float",
     "output_type": "error",
     "traceback": [
      "\u001b[0;31m---------------------------------------------------------------------------\u001b[0m",
      "\u001b[0;31mAssertionError\u001b[0m                            Traceback (most recent call last)",
      "\u001b[0;32m<ipython-input-29-6cb62133dda6>\u001b[0m in \u001b[0;36m<module>\u001b[0;34m\u001b[0m\n\u001b[0;32m----> 1\u001b[0;31m \u001b[0mpack\u001b[0m\u001b[0;34m(\u001b[0m\u001b[0;36m42.\u001b[0m\u001b[0;34m)\u001b[0m\u001b[0;34m\u001b[0m\u001b[0;34m\u001b[0m\u001b[0m\n\u001b[0m",
      "\u001b[0;32m/usr/lib/python3.6/functools.py\u001b[0m in \u001b[0;36mwrapper\u001b[0;34m(*args, **kw)\u001b[0m\n\u001b[1;32m    805\u001b[0m                             '1 positional argument')\n\u001b[1;32m    806\u001b[0m \u001b[0;34m\u001b[0m\u001b[0m\n\u001b[0;32m--> 807\u001b[0;31m         \u001b[0;32mreturn\u001b[0m \u001b[0mdispatch\u001b[0m\u001b[0;34m(\u001b[0m\u001b[0margs\u001b[0m\u001b[0;34m[\u001b[0m\u001b[0;36m0\u001b[0m\u001b[0;34m]\u001b[0m\u001b[0;34m.\u001b[0m\u001b[0m__class__\u001b[0m\u001b[0;34m)\u001b[0m\u001b[0;34m(\u001b[0m\u001b[0;34m*\u001b[0m\u001b[0margs\u001b[0m\u001b[0;34m,\u001b[0m \u001b[0;34m**\u001b[0m\u001b[0mkw\u001b[0m\u001b[0;34m)\u001b[0m\u001b[0;34m\u001b[0m\u001b[0;34m\u001b[0m\u001b[0m\n\u001b[0m\u001b[1;32m    808\u001b[0m \u001b[0;34m\u001b[0m\u001b[0m\n\u001b[1;32m    809\u001b[0m     \u001b[0mfuncname\u001b[0m \u001b[0;34m=\u001b[0m \u001b[0mgetattr\u001b[0m\u001b[0;34m(\u001b[0m\u001b[0mfunc\u001b[0m\u001b[0;34m,\u001b[0m \u001b[0;34m'__name__'\u001b[0m\u001b[0;34m,\u001b[0m \u001b[0;34m'singledispatch function'\u001b[0m\u001b[0;34m)\u001b[0m\u001b[0;34m\u001b[0m\u001b[0;34m\u001b[0m\u001b[0m\n",
      "\u001b[0;32m<ipython-input-28-d4f246b11b47>\u001b[0m in \u001b[0;36mpack\u001b[0;34m(obj)\u001b[0m\n\u001b[1;32m      4\u001b[0m \u001b[0;32mdef\u001b[0m \u001b[0mpack\u001b[0m\u001b[0;34m(\u001b[0m\u001b[0mobj\u001b[0m\u001b[0;34m)\u001b[0m\u001b[0;34m:\u001b[0m\u001b[0;34m\u001b[0m\u001b[0;34m\u001b[0m\u001b[0m\n\u001b[1;32m      5\u001b[0m     \u001b[0mtype_name\u001b[0m \u001b[0;34m=\u001b[0m \u001b[0mtype\u001b[0m\u001b[0;34m(\u001b[0m\u001b[0mobj\u001b[0m\u001b[0;34m)\u001b[0m\u001b[0;34m.\u001b[0m\u001b[0m__name__\u001b[0m\u001b[0;34m\u001b[0m\u001b[0;34m\u001b[0m\u001b[0m\n\u001b[0;32m----> 6\u001b[0;31m     \u001b[0;32massert\u001b[0m \u001b[0;32mFalse\u001b[0m\u001b[0;34m,\u001b[0m \u001b[0;34m\"Unsupported type: \"\u001b[0m \u001b[0;34m+\u001b[0m \u001b[0mtype_name\u001b[0m\u001b[0;34m\u001b[0m\u001b[0;34m\u001b[0m\u001b[0m\n\u001b[0m\u001b[1;32m      7\u001b[0m \u001b[0;34m\u001b[0m\u001b[0m\n\u001b[1;32m      8\u001b[0m \u001b[0;31m#  Далее перечисляем особые случаи - для каждого типа своя ф-ия:\u001b[0m\u001b[0;34m\u001b[0m\u001b[0;34m\u001b[0m\u001b[0;34m\u001b[0m\u001b[0m\n",
      "\u001b[0;31mAssertionError\u001b[0m: Unsupported type: float"
     ]
    }
   ],
   "source": [
    "# При передаче неподдерживаего типа - ошибка\n",
    "pack(42.)"
   ]
  },
  {
   "cell_type": "markdown",
   "metadata": {},
   "source": [
    "# Слайд 32. Свёртка, мотивация для reduce"
   ]
  },
  {
   "cell_type": "code",
   "execution_count": 33,
   "metadata": {},
   "outputs": [
    {
     "data": {
      "text/plain": [
       "10"
      ]
     },
     "execution_count": 33,
     "metadata": {},
     "output_type": "execute_result"
    }
   ],
   "source": [
    "# Функцию суммирования\n",
    "sum([1, 2, 3, 4])\n",
    "# можно записать скобочками:\n",
    "(((0 + 1) + 2) + 3) + 4"
   ]
  },
  {
   "cell_type": "code",
   "execution_count": 35,
   "metadata": {},
   "outputs": [
    {
     "data": {
      "text/plain": [
       "24"
      ]
     },
     "execution_count": 35,
     "metadata": {},
     "output_type": "execute_result"
    }
   ],
   "source": [
    "# Что если мы захотим использовать другую бинарную \n",
    "# операцию, например, умножение?\n",
    "(((1 * 1) * 2) * 3) * 4"
   ]
  },
  {
   "cell_type": "code",
   "execution_count": 71,
   "metadata": {},
   "outputs": [
    {
     "data": {
      "text/plain": [
       "10"
      ]
     },
     "execution_count": 71,
     "metadata": {},
     "output_type": "execute_result"
    }
   ],
   "source": [
    "# То, что знак + может быть легко заменён другой операцией без изменения\n",
    "# порядка вычеслений, называется `левой свёрткой` = reduce:\n",
    "functools.reduce(lambda acc, x: acc + x, [1, 2, 3, 4])"
   ]
  },
  {
   "cell_type": "markdown",
   "metadata": {},
   "source": [
    "# примеры применения reduce:\n",
    "Функция reduce принимает три аргумента: бинарную\n",
    "функцию и последовательность.\n",
    "\n",
    "• Вычисление reduce(op, xs) можно схематично\n",
    "представить как:\n",
    "```\n",
    "op(op(op(op(xs[0]), xs[1]), xs[2]), ...)\n",
    "op(op(op(xs[0], xs[1]), xs[2]), ...)```"
   ]
  },
  {
   "cell_type": "code",
   "execution_count": 18,
   "metadata": {},
   "outputs": [
    {
     "data": {
      "text/plain": [
       "23"
      ]
     },
     "execution_count": 18,
     "metadata": {},
     "output_type": "execute_result"
    }
   ],
   "source": [
    "functools.reduce(lambda acc, s: 10*acc + int(s), [1, 13])"
   ]
  },
  {
   "cell_type": "code",
   "execution_count": 17,
   "metadata": {},
   "outputs": [
    {
     "data": {
      "text/plain": [
       "1912"
      ]
     },
     "execution_count": 17,
     "metadata": {},
     "output_type": "execute_result"
    }
   ],
   "source": [
    "# Преобразование строки с числом в инт (извращенный эквивалент int(\"1912\"))\n",
    "#      acc  +  s  =  result\n",
    "# 1.    0      1       1\n",
    "# 1.  1*10     9       19\n",
    "# 1.  19*10    1       191\n",
    "# 1.  191*10   2       1912\n",
    "\n",
    "functools.reduce(lambda acc, s: 10*int(acc) + int(s), \"1912\")"
   ]
  },
  {
   "cell_type": "code",
   "execution_count": 82,
   "metadata": {},
   "outputs": [
    {
     "data": {
      "text/plain": [
       "[0, 1, 2, 5, 6, 7]"
      ]
     },
     "execution_count": 82,
     "metadata": {},
     "output_type": "execute_result"
    }
   ],
   "source": [
    "# ф-я merge, которая сливает два сортиррованных списка\n",
    "def merge(list1, list2):\n",
    "    return sorted(list1 + list2)\n",
    "\n",
    "# можно обобщить на произвольное количество списков\n",
    "functools.reduce(merge, [[1, 2, 7], [5, 6], [0]])"
   ]
  },
  {
   "cell_type": "markdown",
   "metadata": {},
   "source": [
    "# reduce: резюме\n",
    "• Несмотря на свою популярность в функциональных\n",
    "языках, в Python довольно сложно придумать полезный\n",
    "пример использования reduce.\n",
    "\n",
    "• Резюме про reduce:\n",
    "- работает с любым объектом, поддерживающим протокол\n",
    "итератора;\n",
    "- работает слева направо;\n",
    "- использует первый элемент последовательности, если\n",
    "начальное значение не указано явно.\n",
    "\n",
    "# functools: резюме\n",
    "• Модуль functools украшает будни любителя\n",
    "функционального программирования.\n",
    "\n",
    "• Мы поговорили про:\n",
    "- lru_cache\n",
    "- partial\n",
    "- singledispatch\n",
    "- reduce"
   ]
  }
 ],
 "metadata": {
  "kernelspec": {
   "display_name": "Python 3",
   "language": "python",
   "name": "python3"
  },
  "language_info": {
   "codemirror_mode": {
    "name": "ipython",
    "version": 3
   },
   "file_extension": ".py",
   "mimetype": "text/x-python",
   "name": "python",
   "nbconvert_exporter": "python",
   "pygments_lexer": "ipython3",
   "version": "3.7.4"
  }
 },
 "nbformat": 4,
 "nbformat_minor": 2
}
