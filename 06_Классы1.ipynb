{
 "cells": [
  {
   "cell_type": "markdown",
   "metadata": {},
   "source": [
    "# [Программирование на Python (SCS)](https://compscicenter.ru/courses/python/2015-autumn/classes/)\n",
    "\n",
    "## Лектор Сергей Лебедев:  sergei.a.lebedev@gmail.com\n",
    "\n",
    "\n",
    "|     **Дата**     |   **Название**  |     |\n",
    "|:----------------:|:---------------:|:-----------------:|\n",
    "| 12 октября 2015      |    Классы 1 | \n",
    "\n",
    "# 6. Классы часть 1\n",
    "### Синтаксис объявления классо"
   ]
  },
  {
   "cell_type": "code",
   "execution_count": 2,
   "metadata": {
    "pycharm": {
     "is_executing": false
    }
   },
   "outputs": [
    {
     "data": {
      "text/plain": [
       "43"
      ]
     },
     "execution_count": 2,
     "metadata": {},
     "output_type": "execute_result"
    }
   ],
   "source": [
    "class Counter:\n",
    "    \"\"\"I count. That is all.\"\"\"\n",
    "    def __init__(self, initial=0): # конструктор\n",
    "        self.value = initial       # запись атрибута\n",
    "\n",
    "    def increment(self):\n",
    "        self.value += 1\n",
    "\n",
    "    def get(self):\n",
    "        return self.value          # чтение атрибута\n",
    "\n",
    "c = Counter(42)\n",
    "c.increment()\n",
    "c.get()"
   ]
  },
  {
   "cell_type": "markdown",
   "metadata": {},
   "source": [
    "В отличие от Java и C++ в Python нет “магического” ключевого слова this. Первый аргумент конструктора\n",
    "__init__ и всех остальных методов — экземпляр класса, который принято называть self.\n",
    "Синтаксис языка не запрещает называть его по-другому, но так делать не рекомендуется.\n",
    "- Аналогично другим ООП языкам Python разделяет атрибуты экземпляра и атрибуты класса.\n",
    "- Атрибуты добавляются к экземпляру посредством присваивания к <font color=green>self</font> конструкцией вида:\n",
    "```\n",
    "self.some_attribute = value\n",
    "```\n",
    "- Атрибуты класса объявляются в теле класса или прямым присваиванием к классу:"
   ]
  },
  {
   "cell_type": "code",
   "execution_count": 15,
   "metadata": {},
   "outputs": [],
   "source": [
    "class Counter:\n",
    "    all_counters = []\n",
    "\n",
    "    def __init__(self, initial=0):\n",
    "        Counter.all_counters.append(self)\n",
    "                \n",
    "Counter.some_other_attribute = 42\n"
   ]
  },
  {
   "cell_type": "code",
   "execution_count": 4,
   "metadata": {
    "pycharm": {
     "is_executing": false
    }
   },
   "outputs": [
    {
     "name": "stdout",
     "output_type": "stream",
     "text": [
      "[1, 2]\n",
      "[1, 2]\n",
      "[1, 2]\n"
     ]
    }
   ],
   "source": [
    "# Изменяемый тип (лист) разделяется ВСЕМИ объектами!!!!!\n",
    "Counter.all_counters = [1, 2]\n",
    "c = Counter()\n",
    "d = Counter()\n",
    "\n",
    "print(Counter.all_counters)\n",
    "print(c.all_counters)\n",
    "print(d.all_counters)  "
   ]
  },
  {
   "cell_type": "markdown",
   "metadata": {},
   "source": [
    "# Слайд 4. Соглашения об именовании атрибутов и методов\n",
    "\n",
    "В Python нет модификаторов доступа к атрибутам и методам: почти всё можно читать и присваивать.\n",
    "\n",
    "Для того чтобы различать публичные и внутренние атрибуты визуально, к внутренним атрибутам добавляют в начало символ подчеркивания:\n",
    "```\n",
    "class Noop:\n",
    "    some_attribute = 42\n",
    "    _internal_attribute = []\n",
    "```\n",
    "\n",
    "Особо ярые любители контроля используют два подчёркивания. Доступ к такому элементу доступен только через `название класса + двоёное подчёркивание + имя аттрибута`:\n"
   ]
  },
  {
   "cell_type": "code",
   "execution_count": 5,
   "metadata": {
    "pycharm": {
     "is_executing": false
    }
   },
   "outputs": [
    {
     "data": {
      "text/plain": [
       "[]"
      ]
     },
     "execution_count": 5,
     "metadata": {},
     "output_type": "execute_result"
    }
   ],
   "source": [
    "class Noop:\n",
    "    some_attribute = 42\n",
    "    __very_internal_attribute = []\n",
    "Noop._Noop__very_internal_attribute"
   ]
  },
  {
   "cell_type": "markdown",
   "metadata": {},
   "source": [
    "# Слайд 5. Привет от калибровочного теста\n"
   ]
  },
  {
   "cell_type": "code",
   "execution_count": 1,
   "metadata": {
    "pycharm": {
     "is_executing": false
    }
   },
   "outputs": [
    {
     "name": "stdout",
     "output_type": "stream",
     "text": [
      "{'foo': 42}\n",
      "deque(['baz'], maxlen=10)\n"
     ]
    }
   ],
   "source": [
    "from collections import deque\n",
    "\n",
    "\n",
    "class MemorizingDict(dict):\n",
    "    \"\"\"Особый словарь, который сохраняет 10 последних ключей\n",
    "        \n",
    "    собственно, наследуемся от словаря, init по умолчанию (словарь)\n",
    "    имеем аттрибут класса \"history\". инит в хистори не пишет, только\n",
    "    метод сет.\n",
    "\"\"\"\n",
    "    history = deque(maxlen=10)\n",
    "    def set(self, key, value):\n",
    "        self.history.append(key)\n",
    "        self[key] = value\n",
    "    def get_history(self):\n",
    "        return self.history\n",
    "\n",
    "d = MemorizingDict({\"foo\": 42})\n",
    "print(d)\n",
    "d.set(\"baz\", 100500)\n",
    "print(d.get_history()) # ==> ?"
   ]
  },
  {
   "cell_type": "code",
   "execution_count": 2,
   "metadata": {
    "pycharm": {
     "is_executing": false
    }
   },
   "outputs": [
    {
     "name": "stdout",
     "output_type": "stream",
     "text": [
      "deque(['baz', 'boo'], maxlen=10)\n"
     ]
    }
   ],
   "source": [
    "# При создании нового объекта нашего особого словаря, изменяемый\n",
    "# объект history уже существует и содержит данные!\n",
    "d = MemorizingDict()\n",
    "d.set(\"boo\", 500100)\n",
    "print(d.get_history()) # ==> deque(['baz', 'boo'], maxlen=10)"
   ]
  },
  {
   "cell_type": "markdown",
   "metadata": {},
   "source": [
    "# Слайд 6. Внутренние атрибуты классов и экземпляров\n"
   ]
  },
  {
   "cell_type": "code",
   "execution_count": 29,
   "metadata": {},
   "outputs": [
    {
     "data": {
      "text/plain": [
       "'I do nothing at all.'"
      ]
     },
     "execution_count": 29,
     "metadata": {},
     "output_type": "execute_result"
    }
   ],
   "source": [
    "class Noop:\n",
    "    \"\"\"I do nothing at all.\"\"\"\n",
    "Noop.__doc__"
   ]
  },
  {
   "cell_type": "code",
   "execution_count": 23,
   "metadata": {},
   "outputs": [
    {
     "data": {
      "text/plain": [
       "'Noop'"
      ]
     },
     "execution_count": 23,
     "metadata": {},
     "output_type": "execute_result"
    }
   ],
   "source": [
    "Noop.__name__"
   ]
  },
  {
   "cell_type": "code",
   "execution_count": 25,
   "metadata": {},
   "outputs": [
    {
     "data": {
      "text/plain": [
       "'__main__'"
      ]
     },
     "execution_count": 25,
     "metadata": {},
     "output_type": "execute_result"
    }
   ],
   "source": [
    "Noop.__module__"
   ]
  },
  {
   "cell_type": "code",
   "execution_count": 26,
   "metadata": {},
   "outputs": [
    {
     "data": {
      "text/plain": [
       "(object,)"
      ]
     },
     "execution_count": 26,
     "metadata": {},
     "output_type": "execute_result"
    }
   ],
   "source": [
    "Noop.__bases__"
   ]
  },
  {
   "cell_type": "code",
   "execution_count": 30,
   "metadata": {},
   "outputs": [
    {
     "data": {
      "text/plain": [
       "__main__.Noop"
      ]
     },
     "execution_count": 30,
     "metadata": {},
     "output_type": "execute_result"
    }
   ],
   "source": [
    "noop = Noop()\n",
    "noop.__class__"
   ]
  },
  {
   "cell_type": "code",
   "execution_count": 32,
   "metadata": {},
   "outputs": [
    {
     "data": {
      "text/plain": [
       "{}"
      ]
     },
     "execution_count": 32,
     "metadata": {},
     "output_type": "execute_result"
    }
   ],
   "source": [
    "noop.__dict__ # словарь атрибутов объекта"
   ]
  },
  {
   "cell_type": "code",
   "execution_count": 34,
   "metadata": {},
   "outputs": [
    {
     "data": {
      "text/plain": [
       "{'some_new_attribute': 42}"
      ]
     },
     "execution_count": 34,
     "metadata": {},
     "output_type": "execute_result"
    }
   ],
   "source": [
    "noop.some_new_attribute = 42\n",
    "noop.__dict__"
   ]
  },
  {
   "cell_type": "markdown",
   "metadata": {},
   "source": [
    "# Слайд 7. Подробнее о __dict__\n",
    "\n",
    "Добавление, изменение и удаление атрибутов — это фактически операции со словарём."
   ]
  },
  {
   "cell_type": "code",
   "execution_count": 1,
   "metadata": {
    "pycharm": {
     "is_executing": false
    }
   },
   "outputs": [
    {
     "ename": "NameError",
     "evalue": "name 'noop' is not defined",
     "output_type": "error",
     "traceback": [
      "\u001b[1;31m---------------------------------------------------------------------------\u001b[0m",
      "\u001b[1;31mNameError\u001b[0m                                 Traceback (most recent call last)",
      "\u001b[1;32m<ipython-input-1-fde588391044>\u001b[0m in \u001b[0;36m<module>\u001b[1;34m\u001b[0m\n\u001b[1;32m----> 1\u001b[1;33m \u001b[0mnoop\u001b[0m\u001b[1;33m.\u001b[0m\u001b[0m__dict__\u001b[0m\u001b[1;33m[\u001b[0m\u001b[1;34m\"some_other_attribute\"\u001b[0m\u001b[1;33m]\u001b[0m \u001b[1;33m=\u001b[0m \u001b[1;36m100500\u001b[0m\u001b[1;33m\u001b[0m\u001b[0m\n\u001b[0m\u001b[0;32m      2\u001b[0m \u001b[0mnoop\u001b[0m\u001b[1;33m.\u001b[0m\u001b[0msome_other_attribute\u001b[0m\u001b[1;33m\u001b[0m\u001b[0m\n\u001b[0;32m      3\u001b[0m \u001b[1;32mdel\u001b[0m \u001b[0mnoop\u001b[0m\u001b[1;33m.\u001b[0m\u001b[0msome_other_attribute\u001b[0m\u001b[1;33m\u001b[0m\u001b[0m\n",
      "\u001b[1;31mNameError\u001b[0m: name 'noop' is not defined"
     ]
    }
   ],
   "source": [
    "noop.__dict__[\"some_other_attribute\"] = 100500\n",
    "noop.some_other_attribute\n",
    "del noop.some_other_attribute"
   ]
  },
  {
   "cell_type": "markdown",
   "metadata": {},
   "source": [
    "Поиск значения атрибута происходит динамически в\n",
    "момент выполнения программы.\n",
    "\n",
    "Для доступа к словарю атрибутов можно также использовать функцию <font color=green>vars</font>:"
   ]
  },
  {
   "cell_type": "code",
   "execution_count": 35,
   "metadata": {},
   "outputs": [
    {
     "data": {
      "text/plain": [
       "{'some_new_attribute': 42}"
      ]
     },
     "execution_count": 35,
     "metadata": {},
     "output_type": "execute_result"
    }
   ],
   "source": [
    "vars(noop)  # не используем \"закрытый\" аттрибут __dict__"
   ]
  },
  {
   "cell_type": "code",
   "execution_count": 36,
   "metadata": {},
   "outputs": [
    {
     "data": {
      "text/plain": [
       "mappingproxy({'__module__': '__main__',\n",
       "              '__doc__': 'I do nothing at all.',\n",
       "              '__dict__': <attribute '__dict__' of 'Noop' objects>,\n",
       "              '__weakref__': <attribute '__weakref__' of 'Noop' objects>})"
      ]
     },
     "execution_count": 36,
     "metadata": {},
     "output_type": "execute_result"
    }
   ],
   "source": [
    "vars(Noop)  # vars работает и с самим классом"
   ]
  },
  {
   "cell_type": "markdown",
   "metadata": {},
   "source": [
    "\n",
    "# Слайд 8. __slots__\n",
    "\n",
    "С помощью специального аттрибута класса `__slots__`\n",
    "можно зафиксировать множество возможных атрибутов\n",
    "экземпляра (как, например, для класса Point(x, y))\n",
    "\n",
    "Экземпляры класса с указанным `__slots__` требуют\n",
    "меньше памяти, потому что у них отсутствует `__dict__`.\n",
    "\n",
    "P.S. По сути slots не нужен, т.к. есть **namedtuple**!!! Но, если нужно добавить методы, то можно использовать **namedtuple** в качестве базового класса"
   ]
  },
  {
   "cell_type": "code",
   "execution_count": 2,
   "metadata": {},
   "outputs": [
    {
     "data": {
      "text/plain": [
       "42"
      ]
     },
     "execution_count": 2,
     "metadata": {},
     "output_type": "execute_result"
    }
   ],
   "source": [
    "class Noop:\n",
    "    __slots__ = [\"some_attribute\"]\n",
    "noop = Noop()\n",
    "noop.some_attribute = 42\n",
    "noop.some_attribute"
   ]
  },
  {
   "cell_type": "code",
   "execution_count": 3,
   "metadata": {},
   "outputs": [
    {
     "ename": "AttributeError",
     "evalue": "'Noop' object has no attribute 'some_other_attribute'",
     "output_type": "error",
     "traceback": [
      "\u001b[1;31m---------------------------------------------------------------------------\u001b[0m",
      "\u001b[1;31mAttributeError\u001b[0m                            Traceback (most recent call last)",
      "\u001b[1;32m<ipython-input-3-33dc4c3e9c1f>\u001b[0m in \u001b[0;36m<module>\u001b[1;34m\u001b[0m\n\u001b[1;32m----> 1\u001b[1;33m \u001b[0mnoop\u001b[0m\u001b[1;33m.\u001b[0m\u001b[0msome_other_attribute\u001b[0m \u001b[1;33m=\u001b[0m \u001b[1;36m100500\u001b[0m  \u001b[1;31m# вызовет ошибку, т.к. аттрибуты добавлять теперь нельзя\u001b[0m\u001b[1;33m\u001b[0m\u001b[1;33m\u001b[0m\u001b[0m\n\u001b[0m",
      "\u001b[1;31mAttributeError\u001b[0m: 'Noop' object has no attribute 'some_other_attribute'"
     ]
    }
   ],
   "source": [
    "noop.some_other_attribute = 100500  # вызовет ошибку, т.к. аттрибуты добавлять теперь нельзя"
   ]
  },
  {
   "cell_type": "code",
   "execution_count": 4,
   "metadata": {},
   "outputs": [
    {
     "data": {
      "text/plain": [
       "['__class__',\n",
       " '__delattr__',\n",
       " '__dir__',\n",
       " '__doc__',\n",
       " '__eq__',\n",
       " '__format__',\n",
       " '__ge__',\n",
       " '__getattribute__',\n",
       " '__gt__',\n",
       " '__hash__',\n",
       " '__init__',\n",
       " '__init_subclass__',\n",
       " '__le__',\n",
       " '__lt__',\n",
       " '__module__',\n",
       " '__ne__',\n",
       " '__new__',\n",
       " '__reduce__',\n",
       " '__reduce_ex__',\n",
       " '__repr__',\n",
       " '__setattr__',\n",
       " '__sizeof__',\n",
       " '__slots__',\n",
       " '__str__',\n",
       " '__subclasshook__',\n",
       " 'some_attribute']"
      ]
     },
     "execution_count": 4,
     "metadata": {},
     "output_type": "execute_result"
    }
   ],
   "source": [
    "dir(noop)  # нет __dict__"
   ]
  },
  {
   "cell_type": "markdown",
   "metadata": {},
   "source": [
    "# Слайд 9. Связанные и несвязанные методы\n",
    "У связанного метода первый аргумент уже зафиксирован и\n",
    "равен соответствующему экземпляру:"
   ]
  },
  {
   "cell_type": "code",
   "execution_count": 7,
   "metadata": {},
   "outputs": [
    {
     "data": {
      "text/plain": [
       "<bound method SomeClass.do_something of <__main__.SomeClass object at 0x0000000007145F48>>"
      ]
     },
     "execution_count": 7,
     "metadata": {},
     "output_type": "execute_result"
    }
   ],
   "source": [
    "class SomeClass:\n",
    "    def do_something(self):\n",
    "        print(\"Doing something.\")\n",
    "\n",
    "SomeClass().do_something # связанный"
   ]
  },
  {
   "cell_type": "code",
   "execution_count": 9,
   "metadata": {},
   "outputs": [
    {
     "name": "stdout",
     "output_type": "stream",
     "text": [
      "Doing something.\n"
     ]
    }
   ],
   "source": [
    "SomeClass().do_something()"
   ]
  },
  {
   "cell_type": "markdown",
   "metadata": {},
   "source": [
    "Несвязанному методу необходимо явно передать\n",
    "экземпляр первым аргументом в момент вызова, т.к. \n",
    "это обычная функция, которая принимает один аргумент и что-то делает:"
   ]
  },
  {
   "cell_type": "code",
   "execution_count": 11,
   "metadata": {},
   "outputs": [
    {
     "data": {
      "text/plain": [
       "<function __main__.SomeClass.do_something(self)>"
      ]
     },
     "execution_count": 11,
     "metadata": {},
     "output_type": "execute_result"
    }
   ],
   "source": [
    "SomeClass.do_something"
   ]
  },
  {
   "cell_type": "code",
   "execution_count": 14,
   "metadata": {},
   "outputs": [],
   "source": [
    "instance = SomeClass()"
   ]
  },
  {
   "cell_type": "code",
   "execution_count": 17,
   "metadata": {},
   "outputs": [
    {
     "name": "stdout",
     "output_type": "stream",
     "text": [
      "Doing something.\n"
     ]
    }
   ],
   "source": [
    "SomeClass.do_something(instance)"
   ]
  },
  {
   "cell_type": "markdown",
   "metadata": {},
   "source": [
    "# Слайд 10. Свойства\n",
    "Механизм свойств позволяет объявлять атрибуты,\n",
    "значение которых вычисляется в момент обращения.\n",
    "\n",
    "Можно также переопределить логику изменения и\n",
    "удаления таких атрибутов."
   ]
  },
  {
   "cell_type": "code",
   "execution_count": 38,
   "metadata": {},
   "outputs": [
    {
     "data": {
      "text/plain": [
       "Path(./examples)"
      ]
     },
     "execution_count": 38,
     "metadata": {},
     "output_type": "execute_result"
    }
   ],
   "source": [
    "from os.path import dirname\n",
    "\n",
    "class Path:\n",
    "    def __init__(self, current):\n",
    "        self.current = current\n",
    "\n",
    "    def __repr__(self):\n",
    "        return \"Path({})\".format(self.current)\n",
    "\n",
    "    @property\n",
    "    def parent(self):\n",
    "        return Path(dirname(self.current))\n",
    "\n",
    "p = Path(\"./examples/some_file.txt\")\n",
    "p.parent"
   ]
  },
  {
   "cell_type": "code",
   "execution_count": 40,
   "metadata": {},
   "outputs": [
    {
     "data": {
      "text/plain": [
       "{'current': './examples/some_file.txt'}"
      ]
     },
     "execution_count": 40,
     "metadata": {},
     "output_type": "execute_result"
    }
   ],
   "source": [
    "vars(p)  # аттрибута parent НЕТ!"
   ]
  },
  {
   "cell_type": "markdown",
   "metadata": {},
   "source": [
    "# Слайд 11. Свойства, изменение и удаление"
   ]
  },
  {
   "cell_type": "code",
   "execution_count": 41,
   "metadata": {},
   "outputs": [
    {
     "data": {
      "text/plain": [
       "[0.1, 0.5, 0.4]"
      ]
     },
     "execution_count": 41,
     "metadata": {},
     "output_type": "execute_result"
    }
   ],
   "source": [
    "class BigDataModel:\n",
    "    def __init__(self):\n",
    "        self._params = []\n",
    "    \n",
    "    @property\n",
    "    def params(self):\n",
    "        return self._params\n",
    "    \n",
    "#     Вызывается при присваивании BigDataModel().params\n",
    "    @params.setter\n",
    "    def params(self, new_params):\n",
    "        assert all(map(lambda p: p > 0, new_params))\n",
    "        self._params = new_params\n",
    "    \n",
    "#     Вызывается при удалении del BigDataModel().params\n",
    "    @params.deleter\n",
    "    def params(self):\n",
    "        del self._params\n",
    "    \n",
    "    \n",
    "model = BigDataModel()\n",
    "model.params = [0.1, 0.5, 0.4]\n",
    "model.params"
   ]
  },
  {
   "cell_type": "markdown",
   "metadata": {},
   "source": [
    "# Слайд 12. Наследование\n",
    "Синтаксис оператора **`class`** позволяет унаследовать\n",
    "объявляемый класс от произвольного количества других\n",
    "классов:"
   ]
  },
  {
   "cell_type": "code",
   "execution_count": 29,
   "metadata": {},
   "outputs": [],
   "source": [
    "class Counter:\n",
    "    def __init__(self, initial=0):\n",
    "        self.value = initial\n",
    "\n",
    "class OtherCounter(Counter):\n",
    "    def get(self):\n",
    "        return self.value"
   ]
  },
  {
   "cell_type": "markdown",
   "metadata": {},
   "source": [
    "Поиск имени при обращении к атрибуту или методу\n",
    "ведётся сначала в `__dict__` экземпляра. Если там имя не\n",
    "найдено, оно ищется в классе, а затем рекурсивно во всей\n",
    "иерархии наследования"
   ]
  },
  {
   "cell_type": "code",
   "execution_count": 32,
   "metadata": {},
   "outputs": [
    {
     "data": {
      "text/plain": [
       "0"
      ]
     },
     "execution_count": 32,
     "metadata": {},
     "output_type": "execute_result"
    }
   ],
   "source": [
    "c = OtherCounter() # вызывает Counter.__init__\n",
    "c.get() # вызывает OtherCounter.get"
   ]
  },
  {
   "cell_type": "code",
   "execution_count": 33,
   "metadata": {},
   "outputs": [
    {
     "data": {
      "text/plain": [
       "0"
      ]
     },
     "execution_count": 33,
     "metadata": {},
     "output_type": "execute_result"
    }
   ],
   "source": [
    "c.value # c.__dict__[\"value\"]"
   ]
  },
  {
   "cell_type": "markdown",
   "metadata": {},
   "source": [
    "# Слайд 13. Перегрузка методов и функция super"
   ]
  },
  {
   "cell_type": "code",
   "execution_count": 43,
   "metadata": {},
   "outputs": [
    {
     "data": {
      "text/plain": [
       "{'initial': 0, 'value': 0}"
      ]
     },
     "execution_count": 43,
     "metadata": {},
     "output_type": "execute_result"
    }
   ],
   "source": [
    "class Counter:\n",
    "    all_counters = []\n",
    "\n",
    "    def __init__(self, initial=0):\n",
    "        self.__class__.all_counters.append(self)\n",
    "        self.value = initial\n",
    "\n",
    "class OtherCounter(Counter):\n",
    "    def __init__(self, initial=0):\n",
    "        self.initial = initial\n",
    "        \n",
    "        super().__init__(initial)\n",
    "\n",
    "oc = OtherCounter()\n",
    "vars(oc)\n"
   ]
  },
  {
   "cell_type": "markdown",
   "metadata": {},
   "source": [
    "<font color=blue><b>Вопрос</b></font>\n",
    "\n",
    "Как можно было бы реализовать функцию <font color=green><b>super</b></font>?"
   ]
  },
  {
   "cell_type": "code",
   "execution_count": 56,
   "metadata": {},
   "outputs": [
    {
     "data": {
      "text/plain": [
       "0"
      ]
     },
     "execution_count": 56,
     "metadata": {},
     "output_type": "execute_result"
    }
   ],
   "source": [
    "# супер берет 1-й аргумент (это всегода экземпляр класса)\n",
    "# и вызывает __class__:\n",
    "oc.__class__().__init__(4)\n"
   ]
  },
  {
   "cell_type": "markdown",
   "metadata": {},
   "source": [
    "# Слайд 14. Предикат isinstance\n",
    "\n",
    "Предикат <font color=green><b>isinstance</b></font> принимает объект и класс и\n",
    "проверяет, что объект является экземпляром класса:\n"
   ]
  },
  {
   "cell_type": "code",
   "execution_count": 42,
   "metadata": {},
   "outputs": [
    {
     "data": {
      "text/plain": [
       "True"
      ]
     },
     "execution_count": 42,
     "metadata": {},
     "output_type": "execute_result"
    }
   ],
   "source": [
    "class A:\n",
    "    pass\n",
    "\n",
    "class B(A):\n",
    "    pass\n",
    "\n",
    "isinstance(B(), A)"
   ]
  },
  {
   "cell_type": "markdown",
   "metadata": {},
   "source": [
    "В качестве второго аргумента можно также передать\n",
    "кортеж классов:"
   ]
  },
  {
   "cell_type": "code",
   "execution_count": 50,
   "metadata": {},
   "outputs": [
    {
     "name": "stdout",
     "output_type": "stream",
     "text": [
      "True\n"
     ]
    },
    {
     "data": {
      "text/plain": [
       "True"
      ]
     },
     "execution_count": 50,
     "metadata": {},
     "output_type": "execute_result"
    }
   ],
   "source": [
    "class C:\n",
    "    pass\n",
    "print(isinstance(B(), (A, C)))\n",
    "isinstance(B(), A) or isinstance(B(), C)"
   ]
  },
  {
   "cell_type": "markdown",
   "metadata": {},
   "source": [
    "# Слайд 15. Предикат issubclass\n",
    "Предикат <font color=green><b>issubclass</b></font> принимает два класса и проверяет,\n",
    "что первый класс является потомком второго:"
   ]
  },
  {
   "cell_type": "code",
   "execution_count": 52,
   "metadata": {},
   "outputs": [
    {
     "data": {
      "text/plain": [
       "True"
      ]
     },
     "execution_count": 52,
     "metadata": {},
     "output_type": "execute_result"
    }
   ],
   "source": [
    "class A:\n",
    "    pass\n",
    "\n",
    "class B(A):\n",
    "    pass\n",
    "\n",
    "issubclass(B, A)"
   ]
  },
  {
   "cell_type": "markdown",
   "metadata": {},
   "source": [
    "Аналогично <font color=green><b>isinstance</b></font> второй аргумент может быть\n",
    "кортежем классов:"
   ]
  },
  {
   "cell_type": "code",
   "execution_count": 54,
   "metadata": {},
   "outputs": [
    {
     "name": "stdout",
     "output_type": "stream",
     "text": [
      "True\n"
     ]
    },
    {
     "data": {
      "text/plain": [
       "True"
      ]
     },
     "execution_count": 54,
     "metadata": {},
     "output_type": "execute_result"
    }
   ],
   "source": [
    "class C:\n",
    "    pass\n",
    "print(issubclass(B, (A, C)))\n",
    "issubclass(B, A) or issubclass(B, C)"
   ]
  },
  {
   "cell_type": "markdown",
   "metadata": {},
   "source": [
    "# Слайд 16. Множественное наследование\n",
    "\n",
    "Python не запрещает множественное наследование, например,\n",
    "можно определить следующую иерархию:"
   ]
  },
  {
   "cell_type": "code",
   "execution_count": 57,
   "metadata": {},
   "outputs": [
    {
     "name": "stdout",
     "output_type": "stream",
     "text": [
      "A.f\n"
     ]
    }
   ],
   "source": [
    "class A:\n",
    "    def f(self):\n",
    "        print(\"A.f\")\n",
    "class B:\n",
    "    def f(self):\n",
    "        print(\"B.f\")\n",
    "        \n",
    "class C(A, B):\n",
    "    pass\n",
    "\n",
    "#  Непонятно какой метод вызовится:\n",
    "C().f()  # A.f!!!"
   ]
  },
  {
   "cell_type": "markdown",
   "metadata": {},
   "source": [
    "# Слайд 17.  Множественное наследование и алгоритм C3\n",
    "\n",
    "В случае множественного наследования Python использует\n",
    "`алгоритм линеаризации C3` для определения метода,\n",
    "который нужно вызвать (подробности не рассматриваем, важно знать что есть специальный метод, показывающий порядок разрешения методов).\n",
    "- Получить линеаризацию иерархии наследования можно с\n",
    "помощью метода **mro (Method Resolution Order)**:"
   ]
  },
  {
   "cell_type": "code",
   "execution_count": 59,
   "metadata": {},
   "outputs": [
    {
     "data": {
      "text/plain": [
       "[__main__.C, __main__.A, __main__.B, object]"
      ]
     },
     "execution_count": 59,
     "metadata": {},
     "output_type": "execute_result"
    }
   ],
   "source": [
    "C.mro()  # == C.__mro__"
   ]
  },
  {
   "cell_type": "code",
   "execution_count": 64,
   "metadata": {},
   "outputs": [
    {
     "name": "stdout",
     "output_type": "stream",
     "text": [
      "Help on built-in function mro:\n",
      "\n",
      "mro(...) method of builtins.type instance\n",
      "    mro() -> list\n",
      "    return a type's method resolution order\n",
      "\n"
     ]
    }
   ],
   "source": [
    "# мро показывает что смотрим метод сначала в С, потом в А, потом в П\n",
    "help(C.mro)"
   ]
  },
  {
   "cell_type": "markdown",
   "metadata": {},
   "source": [
    "- Результат работы алгоритма C3 далеко не всегда\n",
    "тривиален, поэтому использовать сложные иерархии\n",
    "множественого наследования не рекомендуется.\n",
    "- Больше примеров, а также реализацию алгоритма C3 на\n",
    "Python можно найти по ссылке: http://bit.ly/c3-mro"
   ]
  },
  {
   "cell_type": "markdown",
   "metadata": {},
   "source": [
    "# Слайд 18. Множественное наследование и классы-примеси\n",
    "\n",
    "- Классы-примеси позволяют выборочно модифицировать\n",
    "поведение класса в предположении, что класс реализует\n",
    "некоторый интерфейс.\n",
    "- Продолжая пример со счётчиком:\n",
    "хотим сделать счётчик для работы в многопоточной программе (не изменяя исходный класс!). Для этого создадим класс-примесь <font color=blue>ThreadSafeMixin</font>. ПОтокобезопасный счётчик\n",
    "выполняет операции инкремента и чтения значения счётчика с захватом мьютекса get_lock. Класс-примесь (как бы потомок Counter) модифицирует методы Counter, оборачивая вызываемые методы родителя в мьютекс.\n",
    "\n",
    "Т.е. предполагается что он будет потомком другого класса (примесью), содержащего методы increment и get. \n",
    "Класс-примесь нужно указывать ПЕРВЫМ в списке наследования! - (см. mro) чтобы вызываемый метод сначала вызвался у примеси, который вызовет метод базового класса Counter, выполняющего нужный функционал."
   ]
  },
  {
   "cell_type": "code",
   "execution_count": 66,
   "metadata": {},
   "outputs": [],
   "source": [
    "class ThreadSafeMixin:\n",
    "    \"\"\" Класс-примесь потокобезопасного счётчика\"\"\"\n",
    "    get_lock = ...\n",
    "    \n",
    "    def increment(self):\n",
    "        with self.get_lock():\n",
    "            super().increment()\n",
    "\n",
    "    def get(self):\n",
    "        with self.get_lock():\n",
    "            return super().get()\n",
    "\n",
    "# Обычный счётчик (также содержить методы инкремент и гет, если\n",
    "# хотим использовать класс-примесь)\n",
    "class Counter:\n",
    "    \"\"\"I count. That is all.\"\"\"\n",
    "    def __init__(self, initial=0): # конструктор\n",
    "        self.value = initial       # запись атрибута\n",
    "\n",
    "    def increment(self):\n",
    "        self.value += 1\n",
    "\n",
    "    def get(self):\n",
    "        return self.value          # чтение атрибута\n",
    "        \n",
    "class ThreadSafeCounter(ThreadSafeMixin,\n",
    "    Counter):\n",
    "    pass"
   ]
  },
  {
   "cell_type": "markdown",
   "metadata": {},
   "source": [
    "# Слайд 19. Декораторы классов\n",
    "Синтаксис декораторов работает не только для функций,\n",
    "но и для классов http://python.org/dev/peps/pep-3129:"
   ]
  },
  {
   "cell_type": "code",
   "execution_count": 30,
   "metadata": {},
   "outputs": [
    {
     "ename": "NameError",
     "evalue": "name 'deco' is not defined",
     "output_type": "error",
     "traceback": [
      "\u001b[1;31m---------------------------------------------------------------------------\u001b[0m",
      "\u001b[1;31mNameError\u001b[0m                                 Traceback (most recent call last)",
      "\u001b[1;32m<ipython-input-30-b33c55f0d343>\u001b[0m in \u001b[0;36m<module>\u001b[1;34m\u001b[0m\n\u001b[1;32m----> 1\u001b[1;33m \u001b[1;33m@\u001b[0m\u001b[0mdeco\u001b[0m\u001b[1;33m\u001b[0m\u001b[0m\n\u001b[0m\u001b[0;32m      2\u001b[0m \u001b[1;32mclass\u001b[0m \u001b[0mNoop\u001b[0m\u001b[1;33m:\u001b[0m\u001b[1;33m\u001b[0m\u001b[0m\n\u001b[0;32m      3\u001b[0m     \u001b[1;32mpass\u001b[0m\u001b[1;33m\u001b[0m\u001b[0m\n\u001b[0;32m      4\u001b[0m \u001b[1;31m# == эквивалентно функции, принимающую класс и возвращающую класс:\u001b[0m\u001b[1;33m\u001b[0m\u001b[1;33m\u001b[0m\u001b[0m\n\u001b[0;32m      5\u001b[0m \u001b[1;32mclass\u001b[0m \u001b[0mNoop\u001b[0m\u001b[1;33m:\u001b[0m\u001b[1;33m\u001b[0m\u001b[0m\n",
      "\u001b[1;31mNameError\u001b[0m: name 'deco' is not defined"
     ]
    }
   ],
   "source": [
    "@deco \n",
    "class Noop:\n",
    "    pass\n",
    "# == эквивалентно функции, принимающую и возвращающую класс:\n",
    "class Noop:\n",
    "    pass\n",
    "Noop = deco(Noop)"
   ]
  },
  {
   "cell_type": "markdown",
   "metadata": {},
   "source": [
    "- В этом случае декоратор — это функция, которая\n",
    "принимает класс и возвращает другой, возможно,\n",
    "преобразованный, класс.\n",
    "- Декораторы классов можно также использовать вместо\n",
    "чуть более магических классов-примесей."
   ]
  },
  {
   "cell_type": "markdown",
   "metadata": {},
   "source": [
    "# Слайд 20. Словари: Декораторы классов и классы-примеси\n",
    "\n",
    "- Декораторы классов можно использовать вместо\n",
    "классов-примесей.\n",
    "- Например, ThreadSafeMixin в виде декоратора класса\n",
    "выглядит следующим образом образом:"
   ]
  },
  {
   "cell_type": "code",
   "execution_count": 40,
   "metadata": {},
   "outputs": [
    {
     "data": {
      "text/plain": [
       "dict_keys(['foo', 'bar'])"
      ]
     },
     "execution_count": 40,
     "metadata": {},
     "output_type": "execute_result"
    }
   ],
   "source": [
    ">>> def thread_safe(cls):\n",
    "    orig_increment = cls.increment\n",
    "    orig_get = cls.get\n",
    "\n",
    "    def increment(self):\n",
    "        with self.get_lock():\n",
    "            orig_increment(self)\n",
    "\n",
    "    def get(self):\n",
    "        with self.get_lock():\n",
    "            return orig_get(self)\n",
    "\n",
    "    cls.get_lock = ...\n",
    "    cls.increment = increment\n",
    "    cls.get = get\n",
    "    return cls\n"
   ]
  },
  {
   "cell_type": "markdown",
   "metadata": {},
   "source": [
    "# Слайд 21. Декораторы классов: @singleton"
   ]
  },
  {
   "cell_type": "code",
   "execution_count": 10,
   "metadata": {},
   "outputs": [
    {
     "name": "stdout",
     "output_type": "stream",
     "text": [
      "117121200\n",
      "117121200\n"
     ]
    }
   ],
   "source": [
    "import functools\n",
    "\n",
    "# Здесь идея в том, что класс это функция, которую можно вызвать\n",
    "# и вызывается при этом конструктор. Вот и подменим этот конструктор\n",
    "# обычным способом - обёрткой, как для обычной функции!\n",
    "def singleton(cls):\n",
    "    instance = None\n",
    "    \n",
    "#     wraps работает и для класса тоже!:\n",
    "    @functools.wraps(cls)\n",
    "    def inner(*args, **kwargs):\n",
    "        nonlocal instance\n",
    "        if instance is None:\n",
    "            instance = cls(*args, **kwargs)\n",
    "        return instance\n",
    "\n",
    "    return inner\n",
    "\n",
    "@singleton\n",
    "class Noop:\n",
    "    \"I do nothing at all.\"\n",
    "    \n",
    "# Экземпляры сигнлтона - один и тот же объект:\n",
    "print(id(Noop()))\n",
    "print(id(Noop()))"
   ]
  },
  {
   "cell_type": "markdown",
   "metadata": {},
   "source": [
    "# Слайд 22. Декораторы классов: @deprecated\n"
   ]
  },
  {
   "cell_type": "code",
   "execution_count": 11,
   "metadata": {},
   "outputs": [
    {
     "name": "stderr",
     "output_type": "stream",
     "text": [
      "C:\\Python36\\lib\\site-packages\\ipykernel_launcher.py:8: DeprecationWarning: Counter is deprecated.\n",
      "  \n"
     ]
    }
   ],
   "source": [
    "import warnings, functools\n",
    "def deprecated(cls):\n",
    "    orig_init = cls.__init__\n",
    "    \n",
    "    @functools.wraps(cls.__init__)\n",
    "    def new_init(self, *args, **kwargs):\n",
    "        warnings.warn(cls.__name__ + \" is deprecated.\",\n",
    "                     category=DeprecationWarning)\n",
    "        orig_init(self, *args, **kwargs)\n",
    "    \n",
    "    cls.__init__ = new_init\n",
    "    return cls\n",
    "\n",
    "@deprecated\n",
    "class Counter:\n",
    "    def __init__(self, initial=0):\n",
    "        self.value = initial\n",
    "\n",
    "c = Counter()"
   ]
  },
  {
   "cell_type": "markdown",
   "metadata": {},
   "source": [
    "# Слайд 23. Классы: резюме\n",
    "Синтаксис объявления классов в Python:\n",
    "```\n",
    "class SomeClass(Base1, Base2, ...):\n",
    "... \"\"\"Useful documentation.\"\"\"\n",
    "... class_attr = ...\n",
    "...\n",
    "... def __init__(self, some_arg):\n",
    "... self.instance_attr = some_arg\n",
    "...\n",
    "... def do_something(self):\n",
    "... pass\n",
    "```\n",
    "В отличие от большинства объектно-ориентированных\n",
    "языков Python:\n",
    "- делает передачу ссылки на экземпляр явной, self —\n",
    "первый аргумент каждого метода,\n",
    "- реализует механим свойств — динамически вычисляемых\n",
    "атрибутов,\n",
    "- поддерживает изменение классов с помощью декораторов."
   ]
  },
  {
   "cell_type": "markdown",
   "metadata": {},
   "source": [
    "# Слайд 24. “Магические” методы\n",
    "\n",
    "- “Магическими” называются внутренние методы классов,\n",
    "например, метод __init__.\n",
    "- С помощью “магических” методов можно:\n",
    ">- управлять доступом к атрибутам экземпляра,\n",
    ">- перегрузить операторы, например, операторы сравнения\n",
    "или арифметические операторы,\n",
    ">- определить строковое представление экземпляра или\n",
    "изменить способ его хеширования.\n",
    "- Мы рассмотрим только часть наиболее используемых\n",
    "методов.\n",
    "- Подробное описание всех “магических” методов можно\n",
    "найти в документации языка\n",
    "http://bit.ly/magic-methods"
   ]
  },
  {
   "cell_type": "markdown",
   "metadata": {},
   "source": [
    "# Слайд 25: “Магические” методы: __getattr__\n",
    "\n",
    "Метод `__getattr__` вызывается при попытке прочитать\n",
    "значение несуществующего атрибута. Если его НЕ определить - при попытке доступа к несуществующему объекту вызывается ошибка. \n",
    "Если же переопределим этот метод то, например, возвратим имя вызываемого аттрибута (пример безполезен):"
   ]
  },
  {
   "cell_type": "code",
   "execution_count": 12,
   "metadata": {},
   "outputs": [
    {
     "data": {
      "text/plain": [
       "'foobar'"
      ]
     },
     "execution_count": 12,
     "metadata": {},
     "output_type": "execute_result"
    }
   ],
   "source": [
    "class Noop:\n",
    "    def __getattr__(self, name):\n",
    "        return name  # identity\n",
    "Noop().foobar"
   ]
  },
  {
   "cell_type": "markdown",
   "metadata": {},
   "source": [
    "# Слайд 26. __setattr__ и __delattr__\n",
    "\n",
    "• Методы `__setattr__` и `__delattr__` позволяют управлять\n",
    "изменением значения и удалением атрибутов.\n",
    "\n",
    "• В отличие от `__getattr__` они вызываются для всех\n",
    "атрибутов, а не только для несуществующих.\n",
    "\n",
    "• Пример, запрещающий изменять значение некоторых\n",
    "атрибутов:"
   ]
  },
  {
   "cell_type": "code",
   "execution_count": 31,
   "metadata": {},
   "outputs": [],
   "source": [
    "class Guarded:\n",
    "    guarded = []\n",
    "\n",
    "    def __setattr__(self, name, value):\n",
    "        assert name not in self.guarded\n",
    "        super().__setattr__(name, value)\n",
    "        \n",
    "class Noop(Guarded):\n",
    "    guarded = [\"foobar\"]\n",
    "\n",
    "    def __init__(self):\n",
    "        self.__dict__[\"foobar\"] = 42 # Зачем это?\n",
    "        \n",
    "# - здесь foobar - защищённый аттрибут, и если присваивать его значение\n",
    "# через self.foobar - попадем в сетаттр и вывовется исключение. ЧЕрез\n",
    "# __dict__ можно обойти обработку setattr"
   ]
  },
  {
   "cell_type": "markdown",
   "metadata": {},
   "source": [
    "Полезный паттерн использования setattr и delattr - **bunch**. Bunch - класс, который оборачивает словарь и позволяет обращаться к ключам в словаре как к аттрибуту. \n",
    "Это полезно когда словарь \"жирный\" со строковыми ключами, например, в конфиге"
   ]
  },
  {
   "cell_type": "code",
   "execution_count": null,
   "metadata": {},
   "outputs": [],
   "source": [
    "d = Bunch({\"foo\":42})  \n",
    "d.attr = 42  # создаст в словаре ключ \"atr\" со значением 42\n",
    "a.foo        # получим значение ключа \"foo\" = 42\n"
   ]
  },
  {
   "cell_type": "markdown",
   "metadata": {},
   "source": [
    "# Слайд 27. Функции getattr, setattr и delattr\n",
    "Функция `getattr` позволяет безопасно получить значение\n",
    "атрибута экземпляра класса по его имени:"
   ]
  },
  {
   "cell_type": "code",
   "execution_count": 18,
   "metadata": {},
   "outputs": [
    {
     "name": "stdout",
     "output_type": "stream",
     "text": [
      "42\n",
      "100500\n"
     ]
    }
   ],
   "source": [
    "class Noop:\n",
    "    some_attribute = 42\n",
    "noop = Noop()\n",
    "print(getattr(noop, \"some_attribute\"))\n",
    "print(getattr(noop, \"some_other_attribute\", 100500))"
   ]
  },
  {
   "cell_type": "code",
   "execution_count": 19,
   "metadata": {},
   "outputs": [],
   "source": [
    "# Комплементарные функции setattr и delattr добавляют\n",
    "# и удаляют атрибут:\n",
    "setattr(noop, \"some_other_attribute\", 100500)\n",
    "delattr(noop, \"some_other_attribute\")"
   ]
  },
  {
   "cell_type": "markdown",
   "metadata": {},
   "source": [
    "# Слайд 28. операторы сравнения\n",
    "\n",
    "Чтобы экземпляры класса поддерживали все операторы\n",
    "сравнения, нужно реализовать внушительное количество\n",
    "“магических” методов:\n",
    "```\n",
    "instance.__eq__(other) # instance == other\n",
    "instance.__ne__(other) # instance != other\n",
    "instance.__lt__(other) # instance < other\n",
    "instance.__le__(other) # instance <= other\n",
    "instance.__gt__(other) # instance > other\n",
    "instance.__ge__(other) # instance >= other\n",
    "```\n",
    "В уже знакомом нам модуле functools есть декоратор,\n",
    "облегчающий реализацию операторов сравнения:"
   ]
  },
  {
   "cell_type": "code",
   "execution_count": 20,
   "metadata": {},
   "outputs": [],
   "source": [
    "import functools\n",
    "@functools.total_ordering\n",
    "class Counter:\n",
    "    def __eq__(self, other):\n",
    "        return self.value == other.value\n",
    "    \n",
    "    def __lt__(self, other): # или <=, >, >=\n",
    "        return self.value < other.value"
   ]
  },
  {
   "cell_type": "markdown",
   "metadata": {},
   "source": [
    "# Слайд 29. метод __call__\n",
    "\n",
    "Метод `__call__` позволяет “вызывать” экземпляры классов,\n",
    "имитируя интерфейс фнукций:"
   ]
  },
  {
   "cell_type": "code",
   "execution_count": 21,
   "metadata": {},
   "outputs": [
    {
     "data": {
      "text/plain": [
       "42"
      ]
     },
     "execution_count": 21,
     "metadata": {},
     "output_type": "execute_result"
    }
   ],
   "source": [
    "class Identity:\n",
    "    def __call__(self, x):\n",
    "        return x\n",
    "Identity()(42)"
   ]
  },
  {
   "cell_type": "markdown",
   "metadata": {},
   "source": [
    "Как это можно использовать? - в написании декораторов с ключевыми аргументами\n"
   ]
  },
  {
   "cell_type": "markdown",
   "metadata": {},
   "source": [
    "# Слайд 30. Декораторы с аргументами на основе классов\n",
    "\n",
    "Создадим декоратор на основе класса **trace**, который ВСЕГДА принимает аргумент `handle`. Он имеем обычный метод инит, который создаёт аттрибут `handle` со значением аргумента `handle`. Далее определяем `__call__` которая будет вызыватся для оборачиваемой функции. Здесь алгоритм обычного декоратора.\n",
    "Т.е. в целом написание ключегого декоратора понятное - разделены функции инициализации и обёртки."
   ]
  },
  {
   "cell_type": "code",
   "execution_count": 24,
   "metadata": {},
   "outputs": [
    {
     "name": "stdout",
     "output_type": "stream",
     "text": [
      "42\n"
     ]
    },
    {
     "name": "stderr",
     "output_type": "stream",
     "text": [
      "identity (42,) {}\n"
     ]
    }
   ],
   "source": [
    "import sys\n",
    "\n",
    "class trace:\n",
    "    def __init__(self, handle):\n",
    "        self.handle = handle\n",
    "    \n",
    "    def __call__(self, func):\n",
    "        @functools.wraps(func)\n",
    "        def inner(*args, **kwargs):\n",
    "            print(func.__name__, args, kwargs,\n",
    "                file=self.handle)\n",
    "            return func(*args, **kwargs)\n",
    "        return inner\n",
    "\n",
    "@trace(sys.stderr)\n",
    "def identity(x):\n",
    "    return x\n",
    "\n",
    "print(identity(42))\n"
   ]
  },
  {
   "cell_type": "markdown",
   "metadata": {},
   "source": [
    "# Слайд 31. методы для преобразования в строку\n",
    "Напоминание: в Python есть две различных по смыслу\n",
    "функции для преобразования объекта в строку: `repr` и `str`.\n",
    "\n",
    "Для каждой из них существует одноимённый “магический”\n",
    "метод:"
   ]
  },
  {
   "cell_type": "code",
   "execution_count": 26,
   "metadata": {},
   "outputs": [
    {
     "data": {
      "text/plain": [
       "Counter(42)"
      ]
     },
     "execution_count": 26,
     "metadata": {},
     "output_type": "execute_result"
    }
   ],
   "source": [
    "class Counter:\n",
    "    def __init__(self, initial=0):\n",
    "        self.value = initial\n",
    "\n",
    "# по сути repr должен показывать инфу, достаточную для воспроиз-\n",
    "# ведения объекта. Хорошим примером явл. отображение конструктора:\n",
    "    def __repr__(self):\n",
    "        return \"Counter({})\".format(self.value)\n",
    "\n",
    "#     То, что приятно человеку читать\n",
    "    def __str__(self):\n",
    "        return \"Counted to {}\".format(self.value)\n",
    "\n",
    "c = Counter(42)\n",
    "c"
   ]
  },
  {
   "cell_type": "code",
   "execution_count": 27,
   "metadata": {},
   "outputs": [
    {
     "name": "stdout",
     "output_type": "stream",
     "text": [
      "Counted to 42\n"
     ]
    }
   ],
   "source": [
    "print(c)"
   ]
  },
  {
   "cell_type": "markdown",
   "metadata": {},
   "source": [
    "# Слайд 29. Расширение format через “магические” методы"
   ]
  },
  {
   "cell_type": "code",
   "execution_count": 28,
   "metadata": {},
   "outputs": [
    {
     "data": {
      "text/plain": [
       "'Counted to 101010'"
      ]
     },
     "execution_count": 28,
     "metadata": {},
     "output_type": "execute_result"
    }
   ],
   "source": [
    "class Counter:\n",
    "    def __init__(self, initial=0):\n",
    "        self.value = initial\n",
    "\n",
    "    def __format__(self, format_spec):\n",
    "        return self.value.__format__(format_spec)\n",
    "\n",
    "c = Counter(42)\n",
    "\"Counted to {:b}\".format(c)"
   ]
  },
  {
   "cell_type": "markdown",
   "metadata": {},
   "source": [
    "# Слайд 33. “Магический” метод __hash__\n",
    "- Метод `__hash__` используется для вычисления значения\n",
    "хеш-функции.\n",
    "- Реализация по умолчанию гарантирует, что одинаковое\n",
    "значение хеш функции будет только у физически\n",
    "одинаковых объектов, то есть:\n",
    "\n",
    "``x is y <=> hash(x) == hash(y).``\n",
    "- Несколько очевидных рекомендаций:\n",
    "- Метод `__hash__` имеет смысл реализовывать только вместе\n",
    "с методом `__eq__`. При этом реализация `__hash__` должна\n",
    "удовлетворять: x == y => hash(x) == hash(y)\n",
    "- Для изменяемых объектов можно ограничиться только\n",
    "методом `__eq__`."
   ]
  },
  {
   "cell_type": "markdown",
   "metadata": {},
   "source": [
    "# Слайд 34. “Магический” метод __bool__\n",
    "- Метод `__bool__` для проверки значения на истинность,\n",
    "например в условии оператора **if**.\n",
    "- Для класса Counter реализация `__bool__` тривиальна:"
   ]
  },
  {
   "cell_type": "code",
   "execution_count": 29,
   "metadata": {},
   "outputs": [
    {
     "name": "stdout",
     "output_type": "stream",
     "text": [
      "No counts yet.\n"
     ]
    }
   ],
   "source": [
    "class Counter:\n",
    "    def __init__(self, initial=0):\n",
    "        self.value = initial\n",
    "\n",
    "    def __bool__(self):\n",
    "        return bool(self.value)\n",
    "\n",
    "c = Counter()\n",
    "if not c:\n",
    "    print(\"No counts yet.\")"
   ]
  },
  {
   "cell_type": "markdown",
   "metadata": {},
   "source": [
    "# Слайд 35. “Магические” методы: резюме\n",
    "- “Магические” методы позволяют уточнить поведение\n",
    "экземпляров класса в различных конструкциях языка.\n",
    "- Например, с помощью магического метода `__str__` можно\n",
    "указать способ приведения экземпляра класса, а с\n",
    "помощью метода `__hash__` — алгоритм хеширования\n",
    "состояния класса.\n",
    "- Мы рассмотрели небольшое подмножество “магических”\n",
    "методов, на самом деле их много больше: практически\n",
    "любое действие с экземпляром можно специализировать\n",
    "для конкретного класса"
   ]
  }
 ],
 "metadata": {
  "kernelspec": {
   "display_name": "PyCharm (python_jupyter)",
   "language": "python",
   "name": "pycharm-484f2d56"
  },
  "language_info": {
   "codemirror_mode": {
    "name": "ipython",
    "version": 3
   },
   "file_extension": ".py",
   "mimetype": "text/x-python",
   "name": "python",
   "nbconvert_exporter": "python",
   "pygments_lexer": "ipython3",
   "version": "3.6.2"
  },
  "pycharm": {
   "stem_cell": {
    "cell_type": "raw",
    "metadata": {
     "collapsed": false
    },
    "source": []
   }
  }
 },
 "nbformat": 4,
 "nbformat_minor": 2
}
