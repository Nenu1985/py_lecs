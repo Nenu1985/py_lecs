{
 "cells": [
  {
   "cell_type": "markdown",
   "metadata": {},
   "source": [
    "# [Программирование на Python (SCS)](https://compscicenter.ru/courses/python/2015-autumn/classes/)\n",
    "\n",
    "Программирование на Python\n",
    "Санкт-Петербург / осень 2015\n",
    "\n",
    "_Курс ориентирован на людей, уже знакомых с каким-либо языком программирования, например, Java или C++._\n",
    "\n",
    "**Курс читает:** [Сергей Андреевич Лебедев](https://compscicenter.ru/teachers/480/)  \n",
    "\n",
    "## Предварительная программа\n",
    "1. Начало\n",
    "2. Всё, что вы хотели знать о функциях\n",
    "3. Декораторы и модуль functools\n",
    "4. Строки, байты, файлы и ввод/вывод\n",
    "5. Встроенные коллекции и модуль collections\n",
    "6. Классы\n",
    "7. Модули, исключения и менеджеры контекста\n",
    "8. Итераторы, генераторы и модуль itertools\n",
    "9. Документация и тестирование\n",
    "10. Высокопроизводительный Python: миф или реальность?\n",
    "11. Многопоточность и GIL\n",
    "\n",
    "## Возможные темы\n",
    "* Интроспекция в Python: что можно и невозможно в runtime\n",
    "* Модули, пакеты: как это работает\n",
    "* Распространение кода на Python: яица и колёса\n",
    "* Сериализация: консервировать или нет\n",
    "* NumPy и другие библиотеки для научных вычислений на Python\n",
    "* Кооперативная многозадачность и асинхронный ввод/вывод\n",
    "* Опциональная типизация для Python\n",
    "\n",
    "## Хорошие книги про Python\n",
    "1. David M. Beazley, Python Essential Reference, 2009.\n",
    "2. Mark Lutz, Learning Python, 5th edition, 2013 (значительная часть 4-го издания также будет релевантной).\n",
    "3. David M. Beazley, Brian K. Jones, Python Cookbook, 3rd edition, 2013.\n",
    "\n",
    "---\n",
    "|№|Дата и время|Название|Материалы|Notebook|\n",
    "|:--:|:-----------:|:----------------------------------------------------:|:--------:|:---------------------------------:|\n",
    "|01|07 сентября|Начало, лекция|[Слайды (PDF)](https://compscicenter.ru/media/slides/python_2015_autumn/2015_09_07_python_2015_autumn.pdf) \\ [Видео (youtube)](https://youtu.be/5V7XG1mGiHc)|[01_lesson.ipynb](01_lesson.ipynb)|\n",
    "|02|14 сентября|Всё, что вы хотели знать о функциях в Python, лекция|[Слайды (PDF)](https://compscicenter.ru/media/slides/python_2015_autumn/2015_09_14_python_2015_autumn.pdf) \\ [Видео (youtube)](https://youtu.be/3fE_08eXyE4)|[02_lesson.ipynb](02_lesson.ipynb)|\n",
    "|03|21 сентября|Декораторы и модуль functools, лекция|[Слайды (PDF)](https://compscicenter.ru/media/slides/python_2015_autumn/2015_09_21_python_2015_autumn_93c2yAw.pdf) \\ [Видео (youtube)](https://youtu.be/h_B3O5jWMi4)|[03_lesson.ipynb](03_lesson.ipynb)|\n",
    "|04|28 сентября|Строки, байты, файлы и ввод/вывод, лекция|[Слайды (PDF)](https://compscicenter.ru/media/slides/python_2015_autumn/2015_09_28_python_2015_autumn.pdf) \\ [Видео (youtube)](https://youtu.be/7YIgaaaGpyA)|[04_lesson.ipynb](04_lesson.ipynb)|\n",
    "|05|05 октября|Встроенные коллекции и модуль collections, лекция|[Слайды (PDF)](https://compscicenter.ru/media/slides/python_2015_autumn/2015_10_05_python_2015_autumn.pdf) \\ [Видео (youtube)](https://youtu.be/vne1p3huhew)|[05_lesson.ipynb](05_lesson.ipynb)|\n",
    "|06|12 октября|Классы 1, лекция|[Слайды (PDF)](https://compscicenter.ru/media/slides/python_2015_autumn/2015_10_12_python_2015_autumn_2S8wIDL.pdf) \\ [Видео (youtube)](https://youtu.be/SJ8z-TF07s4)|[06_lesson.ipynb](06_lesson.ipynb)|\n",
    "|07|19 октября|Исключения и менеджеры контекста, лекция|[Слайды (PDF)](https://compscicenter.ru/media/slides/python_2015_autumn/2015_10_19_python_2015_autumn.pdf) \\ [Видео (youtube)](https://youtu.be/_vxcRfjyfgk)|[07_lesson.ipynb](07_lesson.ipynb)|\n",
    "|08|26 октября|Итераторы, генераторы и модуль itertools, лекция|[Слайды (PDF)](https://compscicenter.ru/media/slides/python_2015_autumn/2015_10_26_python_2015_autumn.pdf) \\ [Видео (youtube)](https://youtu.be/snJhrhD9Sg8)|[08_lesson.ipynb](08_lesson.ipynb)|\n",
    "|09|09 ноября|Модули, пакеты и система импорта, лекция|[Слайды (PDF)](https://compscicenter.ru/media/slides/python_2015_autumn/2015_11_09_python_2015_autumn_5Dki5oI.pdf) \\ [Видео (youtube)](https://youtu.be/SuRVWRRjb_U)|[09_lesson.ipynb](09_lesson.ipynb)|\n",
    "|10|16 ноября|Классы 2, лекция|[Слайды (PDF)](https://compscicenter.ru/media/slides/python_2015_autumn/2015_11_16_python_2015_autumn.pdf) \\ [Видео (youtube)](https://youtu.be/mTp2pLEoDaI)|[10_lesson.ipynb](10_lesson.ipynb)|\n",
    "|11|23 ноября|Тестирование, лекция|[Слайды (PDF)](https://compscicenter.ru/media/slides/python_2015_autumn/2015_11_23_python_2015_autumn.pdf) \\ [Видео (youtube)](https://youtu.be/y78VXTI8PRQ)|[11_lesson.ipynb](11_lesson.ipynb)|\n",
    "|12|30 ноября|Быстрее, Python, ещё быстрее, лекция|[Слайды (PDF)](https://compscicenter.ru/media/slides/python_2015_autumn/2015_11_30_python_2015_autumn.pdf) \\ [Видео (youtube)](https://youtu.be/-lMiAKKyLFI)|[12_lesson.ipynb](12_lesson.ipynb)|\n",
    "|13|07 декабря|Многопоточность и GIL, лекция|[Слайды (PDF)](https://compscicenter.ru/media/slides/python_2015_autumn/2015_12_07_python_2015_autumn_3KfewPJ.pdf) \\ [Видео (youtube)](https://youtu.be/nR8WhdcRJwM)|[13_lesson.ipynb](13_lesson.ipynb)|\n",
    "---"
   ]
  }
 ],
 "metadata": {
  "kernelspec": {
   "display_name": "Python 3",
   "language": "python",
   "name": "python3"
  },
  "language_info": {
   "codemirror_mode": {
    "name": "ipython",
    "version": 3
   },
   "file_extension": ".py",
   "mimetype": "text/x-python",
   "name": "python",
   "nbconvert_exporter": "python",
   "pygments_lexer": "ipython3",
   "version": "3.6.3"
  }
 },
 "nbformat": 4,
 "nbformat_minor": 2
}
