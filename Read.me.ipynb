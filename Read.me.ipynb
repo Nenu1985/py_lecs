{
 "cells": [
  {
   "cell_type": "markdown",
   "metadata": {},
   "source": [
    "# [Программирование на Python (SCS)](https://compscicenter.ru/courses/python/2015-autumn/classes/)\n",
    "\n",
    "Программирование на Python\n",
    "Санкт-Петербург / осень 2015\n",
    "\n",
    "_Курс ориентирован на людей, уже знакомых с каким-либо языком программирования, например, Java или C++._\n",
    "\n",
    "**Курс читает:** [Сергей Андреевич Лебедев](https://compscicenter.ru/teachers/480/)  \n",
    "\n",
    "## Программа курса\n",
    "1. Начало\n",
    "2. Всё, что вы хотели знать о функциях\n",
    "3. Декораторы и модуль functools\n",
    "4. Строки, байты, файлы и ввод/вывод\n",
    "5. Встроенные коллекции и модуль collections\n",
    "6. Классы\n",
    "7. Модули, исключения и менеджеры контекста\n",
    "8. Итераторы, генераторы и модуль itertools\n",
    "9. Документация и тестирование\n",
    "10. Высокопроизводительный Python: миф или реальность?\n",
    "11. Многопоточность и GIL\n",
    "\n",
    "---\n",
    "|№|Дата и время|Название|Материалы CSC|Notebook|\n",
    "|:--:|:-----------:|:----------------------------------------------------:|:--------:|:---------------------------------:|\n",
    "|01|07 сентября|Начало, лекция|[link](https://compscicenter.ru/courses/python/2015-autumn/classes/1364/) |[01_lesson.ipynb](01_lesson.ipynb)|\n",
    "|02|14 сентября|Всё, что вы хотели знать о функциях в Python, лекция|[link](https://compscicenter.ru/courses/python/2015-autumn/classes/1386/) |[02_lesson.ipynb](02_lesson.ipynb)|\n",
    "|03|21 сентября|Декораторы и модуль functools, лекция|[link](https://compscicenter.ru/courses/python/2015-autumn/classes/1387/) |[03_lesson.ipynb](03_lesson.ipynb)|\n",
    "|04|28 сентября|Строки, байты, файлы и ввод/вывод, лекция|[link](https://compscicenter.ru/courses/python/2015-autumn/classes/1388/) |[04_lesson.ipynb](04_lesson.ipynb)|\n",
    "|05|05 октября|Встроенные коллекции и модуль collections, лекция|[link](https://compscicenter.ru/courses/python/2015-autumn/classes/1476/) |[05_lesson.ipynb](05_lesson.ipynb)|\n",
    "|06|12 октября|Классы 1, лекция|[link](https://compscicenter.ru/courses/python/2015-autumn/classes/1477/) |[06_lesson.ipynb](06_lesson.ipynb)|\n",
    "|07|19 октября|Исключения и менеджеры контекста, лекция|[link](https://compscicenter.ru/courses/python/2015-autumn/classes/1520/) |[07_lesson.ipynb](07_lesson.ipynb)|\n",
    "|08|26 октября|Итераторы, генераторы и модуль itertools, лекция|[link](https://compscicenter.ru/courses/python/2015-autumn/classes/1542/) |[08_lesson.ipynb](08_lesson.ipynb)|\n",
    "|09|09 ноября|Модули, пакеты и система импорта, лекция|[link](https://compscicenter.ru/courses/python/2015-autumn/classes/1556/) |[09_lesson.ipynb](09_lesson.ipynb)|\n",
    "|10|16 ноября|Классы 2, лекция|[link](https://compscicenter.ru/courses/python/2015-autumn/classes/1559/) |[10_lesson.ipynb](10_lesson.ipynb)|\n",
    "|11|23 ноября|Тестирование, лекция|[link](https://compscicenter.ru/courses/python/2015-autumn/classes/1560/) |[11_lesson.ipynb](11_lesson.ipynb)|\n",
    "|12|30 ноября|Быстрее, Python, ещё быстрее, лекция|[link](https://compscicenter.ru/courses/python/2015-autumn/classes/1561/) |[12_lesson.ipynb](12_lesson.ipynb)|\n",
    "|13|07 декабря|Многопоточность и GIL, лекция|[link](https://compscicenter.ru/courses/python/2015-autumn/classes/1562/) |[13_lesson.ipynb](13_lesson.ipynb)|\n",
    "---"
   ]
  }
 ],
 "metadata": {
  "kernelspec": {
   "display_name": "Python 3",
   "language": "python",
   "name": "python3"
  },
  "language_info": {
   "codemirror_mode": {
    "name": "ipython",
    "version": 3
   },
   "file_extension": ".py",
   "mimetype": "text/x-python",
   "name": "python",
   "nbconvert_exporter": "python",
   "pygments_lexer": "ipython3",
   "version": "3.7.4"
  }
 },
 "nbformat": 4,
 "nbformat_minor": 2
}
