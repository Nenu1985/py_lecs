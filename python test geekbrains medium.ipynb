{
 "cells": [
  {
   "cell_type": "markdown",
   "metadata": {},
   "source": [
    "# Тест geekbrains \n",
    "# Python. Уровень сложности <font color=blue><b>средний</b></font>\n",
    "### Задание 1\n",
    "Что будет выведено в консоль в результате выполнения следующего кода?"
   ]
  },
  {
   "cell_type": "code",
   "execution_count": 1,
   "metadata": {},
   "outputs": [
    {
     "name": "stdout",
     "output_type": "stream",
     "text": [
      "Вызов __getattr__(foo)\n",
      "Значение для foo\n",
      "13\n"
     ]
    }
   ],
   "source": [
    "class Slack:\n",
    "    def __init__(self):\n",
    "        self.exists = True\n",
    "        \n",
    "    def __getattr__(self, name):\n",
    "        print('Вызов __getattr__({})'.format(name))\n",
    "        value = 'Значение для {}'.format(name)\n",
    "        setattr(self, name, value)\n",
    "        return value\n",
    "    \n",
    "data = Slack()  \n",
    "print(data.foo)\n",
    "data.foo = 13\n",
    "print(data.foo)"
   ]
  },
  {
   "cell_type": "markdown",
   "metadata": {},
   "source": [
    "### Задание 2\n",
    "Укажите способ защиты от SQL-инъекции в данном коде:\n"
   ]
  },
  {
   "cell_type": "code",
   "execution_count": null,
   "metadata": {},
   "outputs": [],
   "source": [
    "num = input(\"Укажите артикул товара: \")\n",
    "curr = conn.cursor()\n",
    "curr.execute(\"SELECT * FROM GOOD WHERE art_num = %d\" % num)\n",
    "res = curr.fetchall()\n",
    "print(res)\n",
    "conn.close()"
   ]
  },
  {
   "cell_type": "markdown",
   "metadata": {},
   "source": [
    "- Делать запрос только строго определенных столбцов таблицы, избегать симовола *;\n",
    "- В данном коде нет SQL-инъекции;\n",
    "- Исключить ввод данных пользователя;\n",
    "- <font color=red>Невозможно защититься от SQL-инъекции в данном коде;</font>\n",
    "- Использовать параметрозованный запрос, параметры передавать второым аргументом функции exec?\n",
    "- Выполнить проверку введенных данных на принадлежность типу int."
   ]
  },
  {
   "cell_type": "markdown",
   "metadata": {},
   "source": [
    "### Задание 3\n",
    "Укажите последовательность вызова методов класса Stranger в след. коде:"
   ]
  },
  {
   "cell_type": "code",
   "execution_count": 11,
   "metadata": {},
   "outputs": [
    {
     "name": "stdout",
     "output_type": "stream",
     "text": [
      "z \n",
      "__mul__\n",
      "<class '__main__.Stranger'><class '__main__.Stranger'><class '__main__.Stranger'><class '__main__.Stranger'><class '__main__.Stranger'><class '__main__.Stranger'><class '__main__.Stranger'><class '__main__.Stranger'><class '__main__.Stranger'>\n"
     ]
    }
   ],
   "source": [
    "class Stranger:\n",
    "    def __init__(self, x):\n",
    "        print(\"__init__\")\n",
    "        self.x = x\n",
    "\n",
    "    @classmethod\n",
    "    def __str__(self):\n",
    "        print(\"__str__\")\n",
    "        return str(self.x)\n",
    "\n",
    "    @classmethod\n",
    "    def __mul__(self, n=5):\n",
    "        print(\"__mul__\")\n",
    "        return str(self) * n\n",
    "\n",
    "    def z(self, n=7):\n",
    "        print(\"z \")\n",
    "        return self * n\n",
    "\n",
    "\n",
    "s = Stranger.__new__(Stranger)  # create a new obj with type Stranger\n",
    "setattr(s, 'x', 11)             # call __setattr__ method\n",
    "print(s.z(9))                   # call z() method that call __mul__ method"
   ]
  },
  {
   "cell_type": "markdown",
   "metadata": {},
   "source": [
    "-<font color=green> z, __mul__  </font>\n",
    "- (no)z, __mul__, __str__\n",
    "- __init__, z, __mul__\n",
    "- __init__, z"
   ]
  },
  {
   "cell_type": "code",
   "execution_count": 12,
   "metadata": {},
   "outputs": [
    {
     "name": "stdout",
     "output_type": "stream",
     "text": [
      "__init__\n",
      "Help on built-in function __new__:\n",
      "\n",
      "__new__(*args, **kwargs) method of builtins.type instance\n",
      "    Create and return a new object.  See help(type) for accurate signature.\n",
      "\n"
     ]
    }
   ],
   "source": [
    "help(Stranger(2).__new__)"
   ]
  },
  {
   "cell_type": "markdown",
   "metadata": {},
   "source": [
    "### Задание 4\n",
    "Что будет выведено в консоль в результате следующего кода:\n"
   ]
  },
  {
   "cell_type": "code",
   "execution_count": 13,
   "metadata": {},
   "outputs": [
    {
     "name": "stdout",
     "output_type": "stream",
     "text": [
      "E\n",
      "C\n"
     ]
    }
   ],
   "source": [
    "class A(object):\n",
    "    def __init__(self):\n",
    "        print(\"A\")\n",
    "    \n",
    "class B(object):\n",
    "    def __init__(self):\n",
    "        print(\"B\")\n",
    "        super().__init__()\n",
    "        \n",
    "class C(A, B):\n",
    "    def __init__(self):\n",
    "        print(\"C\")   # FINISH!\n",
    "        \n",
    "class D(A, B):\n",
    "    def __init__(self):\n",
    "        print(\"D\")\n",
    "        super().__init__()\n",
    "        \n",
    "class E(C, D):\n",
    "    def __init__(self):\n",
    "        print(\"E\")\n",
    "        super().__init__()\n",
    "        \n",
    "e = E()"
   ]
  },
  {
   "cell_type": "code",
   "execution_count": 15,
   "metadata": {},
   "outputs": [
    {
     "data": {
      "text/plain": [
       "[__main__.E, __main__.C, __main__.D, __main__.A, __main__.B, object]"
      ]
     },
     "execution_count": 15,
     "metadata": {},
     "output_type": "execute_result"
    }
   ],
   "source": [
    "E.mro()"
   ]
  },
  {
   "cell_type": "markdown",
   "metadata": {},
   "source": [
    "### Задание 5\n",
    "#### Укажите назначение метаклассов в Python:\n",
    "\n",
    "Проверка наличия требуемых атрибутов и методов у дочерних классов\n",
    "\n",
    "Управление доступом к ресурсам\n",
    "\n",
    "Управление доступом к атрибутам класса\n",
    "\n",
    "<font color=green>Управление созданием новых классов</font>\n",
    "\n",
    "<font color=red>Изменение/дополнение поведения функции/класса</font>"
   ]
  },
  {
   "cell_type": "markdown",
   "metadata": {},
   "source": [
    "### Задание 6\n",
    "Укажите результат выполнения кода:\n"
   ]
  },
  {
   "cell_type": "code",
   "execution_count": 17,
   "metadata": {},
   "outputs": [
    {
     "ename": "TypeError",
     "evalue": "'NoneType' object is not subscriptable",
     "output_type": "error",
     "traceback": [
      "\u001b[1;31m---------------------------------------------------------------------------\u001b[0m",
      "\u001b[1;31mTypeError\u001b[0m                                 Traceback (most recent call last)",
      "\u001b[1;32m<ipython-input-17-19389fb458f8>\u001b[0m in \u001b[0;36m<module>\u001b[1;34m\u001b[0m\n\u001b[0;32m      1\u001b[0m \u001b[0ms\u001b[0m \u001b[1;33m=\u001b[0m \u001b[1;34m\"str to int\"\u001b[0m\u001b[1;33m\u001b[0m\u001b[1;33m\u001b[0m\u001b[0m\n\u001b[0;32m      2\u001b[0m \u001b[0mx\u001b[0m \u001b[1;33m=\u001b[0m \u001b[0ms\u001b[0m\u001b[1;33m.\u001b[0m\u001b[0msplit\u001b[0m\u001b[1;33m(\u001b[0m\u001b[1;33m)\u001b[0m\u001b[1;33m.\u001b[0m\u001b[0minsert\u001b[0m\u001b[1;33m(\u001b[0m\u001b[1;36m0\u001b[0m\u001b[1;33m,\u001b[0m \u001b[1;34m\"zzz\"\u001b[0m\u001b[1;33m)\u001b[0m\u001b[1;33m\u001b[0m\u001b[1;33m\u001b[0m\u001b[0m\n\u001b[1;32m----> 3\u001b[1;33m \u001b[0mprint\u001b[0m\u001b[1;33m(\u001b[0m\u001b[0mx\u001b[0m\u001b[1;33m[\u001b[0m\u001b[1;36m0\u001b[0m\u001b[1;33m]\u001b[0m\u001b[1;33m)\u001b[0m\u001b[1;33m\u001b[0m\u001b[1;33m\u001b[0m\u001b[0m\n\u001b[0m",
      "\u001b[1;31mTypeError\u001b[0m: 'NoneType' object is not subscriptable"
     ]
    }
   ],
   "source": [
    "s = \"str to int\"\n",
    "x = s.split().insert(0, \"zzz\")  # insert() doesn't return a list!\n",
    "print(x[0])\n"
   ]
  },
  {
   "cell_type": "markdown",
   "metadata": {},
   "source": [
    "<font color=green>Данный код не будет выполнен</font><br>\n",
    "to<br>\n",
    "str<br>\n",
    "int<br>\n",
    "<font color=red>zzz</font><br>\n",
    "zzztr<br>"
   ]
  },
  {
   "cell_type": "markdown",
   "metadata": {},
   "source": [
    "### Задание 7???\n",
    "Имеется функция Insert_data и тест для этой функции. Укажите параметры теста, которые необходимо добавить к данному тесту\n"
   ]
  },
  {
   "cell_type": "code",
   "execution_count": 19,
   "metadata": {},
   "outputs": [
    {
     "ename": "ModuleNotFoundError",
     "evalue": "No module named 'pytest'",
     "output_type": "error",
     "traceback": [
      "\u001b[1;31m---------------------------------------------------------------------------\u001b[0m",
      "\u001b[1;31mModuleNotFoundError\u001b[0m                       Traceback (most recent call last)",
      "\u001b[1;32m<ipython-input-19-50aa7b0799b6>\u001b[0m in \u001b[0;36m<module>\u001b[1;34m\u001b[0m\n\u001b[0;32m     12\u001b[0m     \u001b[1;32mreturn\u001b[0m \u001b[0mres\u001b[0m\u001b[1;33m\u001b[0m\u001b[1;33m\u001b[0m\u001b[0m\n\u001b[0;32m     13\u001b[0m \u001b[1;33m\u001b[0m\u001b[0m\n\u001b[1;32m---> 14\u001b[1;33m \u001b[1;32mimport\u001b[0m \u001b[0mpytest\u001b[0m\u001b[1;33m\u001b[0m\u001b[1;33m\u001b[0m\u001b[0m\n\u001b[0m\u001b[0;32m     15\u001b[0m \u001b[1;33m\u001b[0m\u001b[0m\n\u001b[0;32m     16\u001b[0m @pytest.mark.parametrize('line, paste, res', [\n",
      "\u001b[1;31mModuleNotFoundError\u001b[0m: No module named 'pytest'"
     ]
    }
   ],
   "source": [
    "def insert_data(line, paste):\n",
    "    '''Заменяет первое хождение подстроки, \n",
    "    обрамлённой тегами -, в строке line на строку paste.\n",
    "    Вложенные теги не учитываются.\n",
    "    Замена производится вместе с тегами.\n",
    "    '''\n",
    "    res = line\n",
    "    start = line.find('')\n",
    "    end = line.find('')\n",
    "    if -1 < start < end:\n",
    "        res = line[:start] + paste + line[end+5:]\n",
    "    return res\n",
    "\n",
    "import pytest\n",
    "\n",
    "@pytest.mark.parametrize('line, paste, res', [\n",
    "                         ('', '', ''),\n",
    "                         ('Some text to be replaced ', 'zzz', 'Some text zzz'),\n",
    "                         ('Some text.', 'zzz', 'Some text.'),\n",
    "                         ('Some text ', 'zzz', 'Some text zzz'),\n",
    "                         ('Some text', 'zzz', 'zzz'),\n",
    "                         ('Some text', 'zzz', 'Some text'),\n",
    "                         ('Some text', 'zzz', 'Some text'),\n",
    "                         ])\n",
    "def test_insert(line, paste, res):\n",
    "    assert insert_data(line, paste) == res"
   ]
  },
  {
   "cell_type": "markdown",
   "metadata": {},
   "source": [
    "### Задание 8\n",
    "Укажите назначение дескрипторов в  Python\n",
    "\n",
    "Управление создание новых классов\n",
    "<font color=green>Управление доступом к атрибутам класса<font>\n",
    "Проверка наличия требуемых атрибутов и методов у дочерних классов\n",
    "Управление доступом к ресурсам\n",
    "Изменение/дополнение поведения функции/класса"
   ]
  },
  {
   "cell_type": "markdown",
   "metadata": {},
   "source": [
    "### Задание 9\n",
    "Укажите что нужно выполнить, чтобы данных код выполнился:\n"
   ]
  },
  {
   "cell_type": "code",
   "execution_count": 24,
   "metadata": {},
   "outputs": [
    {
     "ename": "TypeError",
     "evalue": "Can't instantiate abstract class Zebrok with abstract methods drum",
     "output_type": "error",
     "traceback": [
      "\u001b[1;31m---------------------------------------------------------------------------\u001b[0m",
      "\u001b[1;31mTypeError\u001b[0m                                 Traceback (most recent call last)",
      "\u001b[1;32m<ipython-input-24-a0f6d6e6c2b0>\u001b[0m in \u001b[0;36m<module>\u001b[1;34m\u001b[0m\n\u001b[0;32m     19\u001b[0m \u001b[1;31m#         pass\u001b[0m\u001b[1;33m\u001b[0m\u001b[1;33m\u001b[0m\u001b[1;33m\u001b[0m\u001b[0m\n\u001b[0;32m     20\u001b[0m \u001b[1;33m\u001b[0m\u001b[0m\n\u001b[1;32m---> 21\u001b[1;33m \u001b[0mz\u001b[0m \u001b[1;33m=\u001b[0m \u001b[0mZebrok\u001b[0m\u001b[1;33m(\u001b[0m\u001b[1;33m)\u001b[0m\u001b[1;33m\u001b[0m\u001b[1;33m\u001b[0m\u001b[0m\n\u001b[0m\u001b[0;32m     22\u001b[0m \u001b[0mz\u001b[0m\u001b[1;33m.\u001b[0m\u001b[0mplan\u001b[0m\u001b[1;33m(\u001b[0m\u001b[1;33m)\u001b[0m\u001b[1;33m\u001b[0m\u001b[1;33m\u001b[0m\u001b[0m\n\u001b[0;32m     23\u001b[0m \u001b[1;33m\u001b[0m\u001b[0m\n",
      "\u001b[1;31mTypeError\u001b[0m: Can't instantiate abstract class Zebrok with abstract methods drum"
     ]
    }
   ],
   "source": [
    "import abc\n",
    "class Zebra(abc.ABC):\n",
    "    @abc.abstractmethod\n",
    "    def plan(self):\n",
    "        print('abc plan')\n",
    "    \n",
    "    @abc.abstractmethod\n",
    "    def drum(self):\n",
    "        print('abc drum')\n",
    "    \n",
    "class Zebrok(Zebra):\n",
    "    def __init__(self):\n",
    "        self.age = 17\n",
    "\n",
    "    def plan(self):\n",
    "        print(\"Great Plan\")\n",
    "\n",
    "#     def drum(self):\n",
    "#         pass\n",
    "    \n",
    "z = Zebrok()\n",
    "z.plan()\n",
    "        "
   ]
  },
  {
   "cell_type": "markdown",
   "metadata": {},
   "source": [
    "<font color=green>Реализовать метод drum в классе Zebrok</font><br>\n",
    "Класс Zebrock должен дополнительно наследоваться от класса abc.ABC<br>\n",
    "Ничего не нужно делать, код является рабочим<br>\n",
    "Объект z должен быть экземпляром класса Zebra, а не Zebrok<br>\n",
    "Реализовать метод __init__ в классе Zebra<br>"
   ]
  },
  {
   "cell_type": "markdown",
   "metadata": {},
   "source": [
    "### Задание 10\n",
    "Что будет выведено в консоль в результате следующего кода:"
   ]
  },
  {
   "cell_type": "code",
   "execution_count": 25,
   "metadata": {},
   "outputs": [
    {
     "name": "stdout",
     "output_type": "stream",
     "text": [
      "2\n",
      "13\n",
      "13\n"
     ]
    }
   ],
   "source": [
    "x = 13\n",
    "class C:\n",
    "    x = 2\n",
    "    print(x)\n",
    "    \n",
    "    def m(self):\n",
    "        print(x)\n",
    "        \n",
    "i = C()\n",
    "i.m()\n",
    "print(x)"
   ]
  },
  {
   "cell_type": "markdown",
   "metadata": {},
   "source": [
    "### Задание 11\n",
    "Какое значение будет храниться в переменной x в результате работы следующего кода?\n"
   ]
  },
  {
   "cell_type": "code",
   "execution_count": 28,
   "metadata": {},
   "outputs": [
    {
     "data": {
      "text/plain": [
       "1.5"
      ]
     },
     "execution_count": 28,
     "metadata": {},
     "output_type": "execute_result"
    }
   ],
   "source": [
    "def make_averager():\n",
    "    count = 0\n",
    "    total = 0\n",
    "    def averager(new_value):\n",
    "        nonlocal count, total\n",
    "        count += 1\n",
    "        total += new_value\n",
    "        return total / count\n",
    "    return averager\n",
    "\n",
    "avg = make_averager()\n",
    "for i in range(4):\n",
    "    x = avg(i)\n",
    "x"
   ]
  },
  {
   "cell_type": "markdown",
   "metadata": {},
   "source": [
    "### Задание 12\n",
    "Что будет выведено в консоль в результате следующего кода:"
   ]
  },
  {
   "cell_type": "code",
   "execution_count": 32,
   "metadata": {},
   "outputs": [
    {
     "name": "stdout",
     "output_type": "stream",
     "text": [
      "7\n"
     ]
    }
   ],
   "source": [
    "class Stranger:\n",
    "    def __init__(self, x):\n",
    "        self.x = x\n",
    "        \n",
    "    def __str__(self):\n",
    "        return str(self.x)\n",
    "    \n",
    "    def __call__(self, n=5):\n",
    "        return self.x * n\n",
    "    \n",
    "    @classmethod\n",
    "    def z(self, n=7):\n",
    "        return self(n)\n",
    "    \n",
    "s = Stranger(3)\n",
    "print(s.z())\n",
    "#  в методе z() вызывается конструктор, а не call() !!!!!"
   ]
  },
  {
   "cell_type": "markdown",
   "metadata": {},
   "source": [
    "### Задание 13???\n",
    "Укажите аналог следующего кода без оператора with\n",
    "\n"
   ]
  },
  {
   "cell_type": "code",
   "execution_count": 33,
   "metadata": {},
   "outputs": [
    {
     "ename": "NameError",
     "evalue": "name 'sqlite3' is not defined",
     "output_type": "error",
     "traceback": [
      "\u001b[1;31m---------------------------------------------------------------------------\u001b[0m",
      "\u001b[1;31mNameError\u001b[0m                                 Traceback (most recent call last)",
      "\u001b[1;32m<ipython-input-33-e0902c9c1ac9>\u001b[0m in \u001b[0;36m<module>\u001b[1;34m\u001b[0m\n\u001b[1;32m----> 1\u001b[1;33m \u001b[1;32mwith\u001b[0m \u001b[0msqlite3\u001b[0m\u001b[1;33m.\u001b[0m\u001b[0mconnect\u001b[0m\u001b[1;33m(\u001b[0m\u001b[1;34m\"db.sqlite3\"\u001b[0m\u001b[1;33m)\u001b[0m \u001b[1;32mas\u001b[0m \u001b[0mconn\u001b[0m\u001b[1;33m:\u001b[0m\u001b[1;33m\u001b[0m\u001b[1;33m\u001b[0m\u001b[0m\n\u001b[0m\u001b[0;32m      2\u001b[0m     \u001b[0mcur\u001b[0m \u001b[1;33m=\u001b[0m \u001b[0mconn\u001b[0m\u001b[1;33m.\u001b[0m\u001b[0mcursor\u001b[0m\u001b[1;33m(\u001b[0m\u001b[1;33m)\u001b[0m\u001b[1;33m\u001b[0m\u001b[1;33m\u001b[0m\u001b[0m\n\u001b[0;32m      3\u001b[0m     \u001b[0mcur\u001b[0m\u001b[1;33m.\u001b[0m\u001b[0mexecute\u001b[0m\u001b[1;33m(\u001b[0m\u001b[1;34m\"insert into info(data) values ('orbit')\"\u001b[0m\u001b[1;33m)\u001b[0m\u001b[1;33m\u001b[0m\u001b[1;33m\u001b[0m\u001b[0m\n",
      "\u001b[1;31mNameError\u001b[0m: name 'sqlite3' is not defined"
     ]
    }
   ],
   "source": [
    "with sqlite3.connect(\"db.sqlite3\") as conn:\n",
    "    cur = conn.cursor()\n",
    "    cur.execute(\"insert into info(data) values ('orbit')\")"
   ]
  },
  {
   "cell_type": "markdown",
   "metadata": {},
   "source": [
    "### Задание 14\n",
    "Укажите назначение декоратора r"
   ]
  },
  {
   "cell_type": "code",
   "execution_count": 35,
   "metadata": {},
   "outputs": [],
   "source": [
    "def r(obj):\n",
    "    a = obj.a = {}\n",
    "    def rr(*ar, **kwar):\n",
    "        y = str(ar) + str(kwar)\n",
    "        if y not in a:\n",
    "            a[y] = obj(*ar, **kwar)\n",
    "            return a[y]\n",
    "    return rr"
   ]
  },
  {
   "cell_type": "markdown",
   "metadata": {},
   "source": [
    "Запоминание результатов вызова декорируемой функции/объекта"
   ]
  },
  {
   "cell_type": "markdown",
   "metadata": {},
   "source": [
    "### Задание 15\n",
    "Какие методы реализуют программный интерфейс менеджера контекста для оператора with?\n",
    "\n",
    "`__enter__, __exit__`"
   ]
  },
  {
   "cell_type": "markdown",
   "metadata": {},
   "source": [
    "### Задание 16\n",
    "Укажите результат выполенния теста и причину такого результата:\n"
   ]
  },
  {
   "cell_type": "code",
   "execution_count": null,
   "metadata": {},
   "outputs": [],
   "source": [
    "import unittest\n",
    "\n",
    "def gray_rabbit_divider(x):\n",
    "    if x > 1:\n",
    "        return 10/x\n",
    "    elif x == 1:\n",
    "        raise ValueError\n",
    "    elif x == 0:\n",
    "        raise ZeroDivisionError\n",
    "    else:\n",
    "        pass\n",
    "    \n",
    "class BigTest(unittest.TestCase):\n",
    "    def test_me(self):\n",
    "        with self.assertRaises(ZeroDivisionError):\n",
    "            for x in range(6, -1, -2):\n",
    "                gray_rabbit_divider(x)\n",
    "\n",
    "if __name__ == '__main__':\n",
    "    unittest.main()"
   ]
  },
  {
   "cell_type": "markdown",
   "metadata": {},
   "source": [
    "Тест не будет пройден, так как тестируемая функция создает исключение ValueError, которое не учитывается тестом<br>\n",
    "<font color=red>Тест успешно выполнится, так как тестируемая функция создаёт ожидаемоe исключение ZeroDivisionError</font><br>\n",
    "Тест не будет пройден так как тестируемая функция создает требуемое исключение не для любых входных данных<br>\n",
    "Тест успешно выполнится, так как тестируемая функция не создает ожидаемое исключение ZeroDivisionError<br>\n",
    "Тест не будет пройедн, так как тестируемая функция не создаёт исключение ZeroDivisionError<br>\n",
    "Тест успешно выполнится, так как тест не отражает полноты входных данных для тестируемой функции<br>"
   ]
  },
  {
   "cell_type": "markdown",
   "metadata": {},
   "source": [
    "### Задание 17\n",
    "Укажите верных способ использования класса TestDescriptor"
   ]
  },
  {
   "cell_type": "code",
   "execution_count": 44,
   "metadata": {},
   "outputs": [],
   "source": [
    "class TestDescriptor():\n",
    "    def __init__(self, initial_value=None, name=\"значение\"):\n",
    "        self.var_name = name\n",
    "        self.value = initial_value\n",
    "        \n",
    "    def __get__(self, obj, objtype):\n",
    "        print(\"Получение\", self.var_name)\n",
    "        return self.value\n",
    "    \n",
    "    def __set__(self, obj, value):\n",
    "        msg = \"Установка {name} равным {value}\"\n",
    "        print(msg.format(name=self.var_name, value=value))\n",
    "        self.value = value"
   ]
  },
  {
   "cell_type": "code",
   "execution_count": 45,
   "metadata": {},
   "outputs": [],
   "source": [
    "class MyClass():\n",
    "    desc = TestDescriptor(initial_value='z', name='desc')"
   ]
  },
  {
   "cell_type": "markdown",
   "metadata": {},
   "source": [
    "### Задание 18\n",
    "Укажите общую схему работы (последовательность функций/методов) работы с сокетом на стороне TCP-сервера\n",
    "\n",
    "socket(), bind(), listen(), accept(), recv()/send(), close()\n",
    "\n",
    "__клиента__?: socket(), connect(), sendall(), recv(), close()\n",
    "    "
   ]
  },
  {
   "cell_type": "markdown",
   "metadata": {},
   "source": [
    "### Задание 19\n",
    "Что проверяет тест BigTest?"
   ]
  },
  {
   "cell_type": "code",
   "execution_count": 46,
   "metadata": {},
   "outputs": [],
   "source": [
    "import unittest\n",
    "\n",
    "def white_rabbit_divider(x):\n",
    "    return 10 / x\n",
    "class BigTest(unittest.TestCase):\n",
    "    def test_me(self):\n",
    "        with self.asserNotRaises(ZeroDivision):\n",
    "            for x in range(5):\n",
    "                white_rabbit_divider(x)"
   ]
  },
  {
   "cell_type": "markdown",
   "metadata": {},
   "source": [
    "Ничего не проверяет - клас unittest.TestCase не содержит применяемой здесь функции проверки.\n",
    "Нет ни метода assetNotRaises ни исключения ZeroDivision"
   ]
  },
  {
   "cell_type": "markdown",
   "metadata": {},
   "source": [
    "### Задание 20\n",
    "Какие числа не будут выведены в консоль в резлуьтате работы кода?\n"
   ]
  },
  {
   "cell_type": "code",
   "execution_count": 47,
   "metadata": {},
   "outputs": [
    {
     "name": "stdout",
     "output_type": "stream",
     "text": [
      "14\n",
      "14\n",
      "14\n",
      "14\n"
     ]
    }
   ],
   "source": [
    "def create_adders():\n",
    "    adders = []\n",
    "    for i in range(10, 14):\n",
    "        def adder(x):\n",
    "            return i + x\n",
    "        adders.append(adder)\n",
    "    return adders\n",
    "\n",
    "for adder in create_adders():\n",
    "    print(adder(1))"
   ]
  },
  {
   "cell_type": "markdown",
   "metadata": {},
   "source": [
    "# Задание 21\n",
    "Назначение менеджера контекста:\n",
    "управление доступом к ресурсам"
   ]
  },
  {
   "cell_type": "markdown",
   "metadata": {},
   "source": [
    "### Задание 22\n",
    "Укажите в коде, когда будет срабатывать функционал метакласса Checker:\n"
   ]
  },
  {
   "cell_type": "code",
   "execution_count": 49,
   "metadata": {},
   "outputs": [],
   "source": [
    "class Checker(type):\n",
    "    def __new__(cls, name, bases, cls_dict):\n",
    "        return super().__new__(cls, name, bases, cls_dict)\n",
    "    \n",
    "class Experiment(metaclass=Checker):  # 1\n",
    "    counter = 0\n",
    "                                      # 2  \n",
    "    def __init__(self):                \n",
    "        self.state = 0                # 3 (no)\n",
    "        \n",
    "    def start(self):\n",
    "        self.state = 1\n",
    "                                      # 4   \n",
    "exp = Experiment()                    # 5 \n",
    "exp.start()                           # 6"
   ]
  },
  {
   "cell_type": "markdown",
   "metadata": {},
   "source": [
    "наверно в 1?"
   ]
  },
  {
   "cell_type": "markdown",
   "metadata": {},
   "source": [
    "### Задание 23\n",
    "Укажите проблему в данном коде:\n",
    "\n"
   ]
  },
  {
   "cell_type": "code",
   "execution_count": null,
   "metadata": {},
   "outputs": [],
   "source": [
    "num = input(\"Укажите артикул товара: \")  #1\n",
    "curr = conn.cursor()  # 2\n",
    "curr.execute(\"SELECT GOOD WHERE art_num = {}\".format(num)) #3\n",
    "res = curr.fetchall()  #4\n",
    "print(res) #5\n",
    "conn.close()     #6\n"
   ]
  },
  {
   "cell_type": "markdown",
   "metadata": {},
   "source": [
    "<font color=red>В данном коде нет проблем</font><br>\n",
    "Не выполнена обработка исключений блоком try..except<br>\n",
    "Возможна SQL-инъекция в строке 3<br>\n",
    "не выполнено приведение к целому числу в строке 1<br>\n",
    "Не выполнено подтверждение (commit) транзакции перед строкой 6<br>"
   ]
  },
  {
   "cell_type": "markdown",
   "metadata": {},
   "source": [
    "### Задание 24\n",
    "Укажите что будет выведено в консоль в результате работы кода:"
   ]
  },
  {
   "cell_type": "code",
   "execution_count": 56,
   "metadata": {},
   "outputs": [
    {
     "data": {
      "text/plain": [
       "11"
      ]
     },
     "execution_count": 56,
     "metadata": {},
     "output_type": "execute_result"
    }
   ],
   "source": [
    "\n",
    "class TrickyManager:\n",
    "    def __init__(self, lst):\n",
    "        self.worklist = lst\n",
    "        \n",
    "    def __enter__(self):\n",
    "        __builtins__.print = lambda x, f=open('trace.log', 'a'), \\\n",
    "        end='\\n': f.write(str(x))\n",
    "        return \"T-R-I-C-K-Y\"\n",
    "    \n",
    "    def __exit__(self, exc_type, exc_value, trace):\n",
    "        return True\n",
    "    \n",
    "with TrickyManager([1,2,3,4,5]) as t:\n",
    "    for c in t:\n",
    "        print(c, end=' ')\n",
    "    \n",
    "print(t)"
   ]
  },
  {
   "cell_type": "markdown",
   "metadata": {},
   "source": [
    "НИЧЕГО - print(t) вне менеджера контекста"
   ]
  },
  {
   "cell_type": "markdown",
   "metadata": {},
   "source": [
    "### Задание 25\n",
    "Чему будет равно значение переменной global_resource в результате выполнения следующего кода?\n"
   ]
  },
  {
   "cell_type": "code",
   "execution_count": 61,
   "metadata": {},
   "outputs": [],
   "source": [
    "from threading import Thread, Lock\n",
    "\n",
    "COUNT = 1000000\n",
    "resource_lock = Lock()\n",
    "global_resource = 0\n",
    "\n",
    "def producer():\n",
    "    global global_resource\n",
    "    for i in range(COUNT):\n",
    "        global_resource += 1\n",
    "        \n",
    "def consumer():\n",
    "    global global_resource\n",
    "    for i in range(COUNT):\n",
    "        global_resource -= 1\n",
    "\n",
    "if __name__ == '__main__':\n",
    "    t1 = Thread(target=producer)\n",
    "    t2 = Thread(target=consumer)\n",
    "    t1.start()\n",
    "    t2.start()\n",
    "    print(global_resource)"
   ]
  },
  {
   "cell_type": "markdown",
   "metadata": {},
   "source": [
    "Значение не может быть строго определено, так как глобальная переменная изменяется в двух потоках без блокировок <br>\n",
    "Значение не может быть строго определено, так как не выоплняется присоединение к потокам методом join() <br>\n",
    "<font color=green>Значение не может быть строго определено, так как неизвествен момент завершения потоков - дочерние потоки завершатся вместе с основным потомом.</font>"
   ]
  },
  {
   "cell_type": "markdown",
   "metadata": {},
   "source": [
    "### Задание 26\n",
    "Какой класс является базовым для класса А?\n"
   ]
  },
  {
   "cell_type": "code",
   "execution_count": null,
   "metadata": {},
   "outputs": [],
   "source": [
    "class A:\n",
    "    pass\n",
    "# object"
   ]
  },
  {
   "cell_type": "markdown",
   "metadata": {},
   "source": [
    "### Задание 27\n",
    "Метаклассы: https://habr.com/ru/post/145835/\n",
    "\n",
    "Что не так в коде ниже:\n"
   ]
  },
  {
   "cell_type": "code",
   "execution_count": 64,
   "metadata": {},
   "outputs": [
    {
     "data": {
      "text/plain": [
       "2"
      ]
     },
     "execution_count": 64,
     "metadata": {},
     "output_type": "execute_result"
    }
   ],
   "source": [
    "class Z(type):                                   #1 \n",
    "    def __init__(self, clsname, bases, clsdict): #2\n",
    "        print(\"I am a metaclass\")                #3 \n",
    "        return type(clsname, bases, clsdict)     #4\n",
    "                                                 #5\n",
    "__metaclass__ = Z                                #6\n",
    "                                                 #7\n",
    "class A:                                         #8\n",
    "    def __init__(self):\n",
    "        self.x = B.x + 7                         #10\n",
    "        \n",
    "    def __call__(self):\n",
    "        return B()                               #13\n",
    "    \n",
    "class B():\n",
    "    x = 13\n",
    "    \n",
    "a = A()\n",
    "b = a()                                           #19\n",
    "print(a.x)\n",
    "print(b.x)                                        #21 "
   ]
  },
  {
   "cell_type": "markdown",
   "metadata": {},
   "source": [
    "<font color=red>Строка 21 - обращение к атрибуту класса должно осуществляться по имени класса, то есть должно быть \"print(B.x)\".</font> Объекты класса разделяют и атрибуты класса<br>\n",
    "<font color=red>Строка 10 - обращение к ещё не существующему классу В.</font> Класс В имеет свой атрибут х=13, так что норм<br>\n",
    "<font color=red>Строка 13 - обращение к ещё не существующему классу В.</font> Классы определены до выполнения кода<br>\n",
    "<font color=red>Строка 4 - метод __init__ должен вернуть None. </font> нет, должен вернуть type - метод создания классов или его производные<br>\n",
    "<font color=red>В представленном коде нет проблем.</font><br>\n",
    "<font color=red>Строка 19 - опечатка, должно быть \"b = B(). </font>В А определен метод call, так что норм<br>\n",
    "<font color=green>Строка 6 - глобальная переменная __metaclass__ актуальна только для Pyhton 2.</font> __metaclass__ на уровне модуля сообщает о необходимости применения метакласса ко всем классам модуля. Работает и в Python3 но альтернатива - использование metaclass= в определении класса<br>"
   ]
  },
  {
   "cell_type": "code",
   "execution_count": 66,
   "metadata": {},
   "outputs": [
    {
     "data": {
      "text/plain": [
       "['x']"
      ]
     },
     "execution_count": 66,
     "metadata": {},
     "output_type": "execute_result"
    }
   ],
   "source": [
    "# Список атбибутов объекта класса а:\n",
    "[a for a in dir(b) if not a.startswith(\"__\") ] "
   ]
  },
  {
   "cell_type": "markdown",
   "metadata": {},
   "source": [
    "### Задание 28\n",
    "Укажите порядок разрешения методов для класса Z\n"
   ]
  },
  {
   "cell_type": "code",
   "execution_count": 69,
   "metadata": {},
   "outputs": [
    {
     "data": {
      "text/plain": [
       "[__main__.Z, __main__.X, __main__.Y, __main__.Base, object]"
      ]
     },
     "execution_count": 69,
     "metadata": {},
     "output_type": "execute_result"
    }
   ],
   "source": [
    "class Base:\n",
    "    def __init__(self):\n",
    "        pass\n",
    "    \n",
    "class X(Base):\n",
    "    def __init__(self):\n",
    "        super().__init__()\n",
    "        \n",
    "class Y(Base):\n",
    "    def __init__(self):\n",
    "        super().__init__()\n",
    "        \n",
    "class Z(X, Y):\n",
    "    def __init__(self):\n",
    "        super().__init__()\n",
    "        \n",
    "Z.mro()"
   ]
  },
  {
   "cell_type": "markdown",
   "metadata": {},
   "source": [
    "Z, object, Base, Y, X<br>\n",
    "Z, Y, X, Base, object<br>\n",
    "object, Base, X, Y, Z<br>\n",
    "<font color=green>Z, X, Y, Base, object</font><br>\n",
    "Z, X, Y, Base<br>\n",
    "Z, Base, X, Y<br>"
   ]
  },
  {
   "cell_type": "markdown",
   "metadata": {},
   "source": [
    "### Задание 29\n",
    "Укажите порядок выполнения методов в следующем коде:"
   ]
  },
  {
   "cell_type": "code",
   "execution_count": 79,
   "metadata": {},
   "outputs": [],
   "source": [
    "class CheckCount(type):\n",
    "    def __init__(self, *args, **kwargs):  # 1\n",
    "        print(\"1\")\n",
    "        self.count = 0\n",
    "        super().__init__(*args, **kwargs)\n",
    "\n",
    "    def __call__(self, *args, **kwargs):  # 2\n",
    "        print(\"2\")\n",
    "        if self.count < 5:\n",
    "            self.count += 1\n",
    "            return super().__call__(*args, **kwargs)\n",
    "        else:\n",
    "            return None\n",
    "\n",
    "\n",
    "class SpaceX(metaclass=CheckCount):\n",
    "    def __init__(self):  # 3\n",
    "        print(\"3 Run To Space\")\n",
    "\n",
    "    def __call__(self):  # 4\n",
    "        print(\"4 Yes, I Can!\")\n",
    "\n",
    "\n",
    "x = SpaceX()\n",
    "x() "
   ]
  },
  {
   "cell_type": "markdown",
   "metadata": {},
   "source": [
    "<font color=green>1, 2, 3, 4</font> <br>\n",
    "Данный код не работает<br>\n",
    "2, 3, 1, 4<br>\n",
    "1, 3, 2, 4<br>\n",
    "1, 3, 4, 2<br>\n",
    "2, 1, 3, 4<br>"
   ]
  },
  {
   "cell_type": "markdown",
   "metadata": {},
   "source": [
    "### Задание 30\n",
    "Что будет выведено в консоль в результате следующего кода:"
   ]
  },
  {
   "cell_type": "code",
   "execution_count": 1,
   "metadata": {},
   "outputs": [
    {
     "name": "stdout",
     "output_type": "stream",
     "text": [
      "[15, 30]\n"
     ]
    },
    {
     "data": {
      "text/plain": [
       "30"
      ]
     },
     "execution_count": 1,
     "metadata": {},
     "output_type": "execute_result"
    }
   ],
   "source": [
    "def make_multiplier_of(n):\n",
    "    lst = []\n",
    "    def multiplier(x, final=False):\n",
    "        lst.append(x * n)\n",
    "        if final:\n",
    "            print(lst)\n",
    "        return x * n\n",
    "    return multiplier\n",
    "\n",
    "times3 = make_multiplier_of(3)\n",
    "times5 = make_multiplier_of(5)\n",
    "\n",
    "times3(9)\n",
    "times5(3)\n",
    "times5(times3(2), True)\n",
    "        "
   ]
  }
 ],
 "metadata": {
  "kernelspec": {
   "display_name": "Python 3",
   "language": "python",
   "name": "python3"
  },
  "language_info": {
   "codemirror_mode": {
    "name": "ipython",
    "version": 3
   },
   "file_extension": ".py",
   "mimetype": "text/x-python",
   "name": "python",
   "nbconvert_exporter": "python",
   "pygments_lexer": "ipython3",
   "version": "3.6.8"
  }
 },
 "nbformat": 4,
 "nbformat_minor": 2
}
