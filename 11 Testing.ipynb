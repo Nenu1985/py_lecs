{
 "cells": [
  {
   "cell_type": "markdown",
   "metadata": {},
   "source": [
    "# [Программирование на Python (SCS)](https://compscicenter.ru/courses/python/2015-autumn/classes/)\n",
    "\n",
    "### Лектор Сергей Лебедев. Дата проведения лекции - 23 ноября 2015\n",
    "\n",
    "# 11. Тестирование\n",
    "\n",
    "### Тестировать или не тестировать? \n",
    "\n",
    "`Здесь и далее под тестированием имеется в виду модульное (и иногда\n",
    "интеграционное) тестирование aka unit testing`\n",
    "\n",
    "Тестировать:\n",
    "- тесты проверяют корректность кода\n",
    "- и позволяют бесстрашно изменять код даже в больших\n",
    "проектах.\n",
    "\n",
    "Не тестировать:\n",
    "- написание тестов требует времени,\n",
    "- нередко в проекте тестов больше чем кода,\n",
    "- работающие тесты не гарантируют корректность.\n",
    "\n",
    "Тем не менее, ответ очевиден: конечно же тестировать!"
   ]
  },
  {
   "cell_type": "code",
   "execution_count": 4,
   "metadata": {},
   "outputs": [
    {
     "data": {
      "text/plain": [
       "[('m', 1),\n",
       " ('i', 1),\n",
       " ('s', 2),\n",
       " ('i', 1),\n",
       " ('s', 2),\n",
       " ('i', 1),\n",
       " ('p', 1),\n",
       " ('i', 1)]"
      ]
     },
     "execution_count": 4,
     "metadata": {},
     "output_type": "execute_result"
    }
   ],
   "source": [
    "import itertools\n",
    "def rle(iterable):\n",
    "    \"\"\"Applies run-length encoding to an iterable\"\"\"\n",
    "    for item, g in itertools.groupby(iterable):\n",
    "        yield item, sum(1 for _ in g)\n",
    "        \n",
    "list(rle(\"mississipi\"))"
   ]
  },
  {
   "cell_type": "markdown",
   "metadata": {},
   "source": [
    "# Слайд 3. Тестирование с помощью print\n",
    "Функция **print** позволяет организовать\n",
    "полуавтоматическое тестирование вне интерактивной\n",
    "оболочки.\n",
    "- Интерпретатор печатает — вы проверяете:"
   ]
  },
  {
   "cell_type": "code",
   "execution_count": 5,
   "metadata": {},
   "outputs": [
    {
     "name": "stdout",
     "output_type": "stream",
     "text": [
      "[('m', 1), ('i', 1), ('s', 2), ('i', 1), ('s', 2), ('i', 1), ('p', 2), ('i', 1)]\n"
     ]
    }
   ],
   "source": [
    "def test_rle():\n",
    "    print(list(rle(\"mississippi\")))\n",
    "test_rle()"
   ]
  },
  {
   "cell_type": "code",
   "execution_count": 9,
   "metadata": {},
   "outputs": [
    {
     "data": {
      "text/plain": [
       "('inner', None)"
      ]
     },
     "execution_count": 9,
     "metadata": {},
     "output_type": "execute_result"
    }
   ],
   "source": [
    "identity = trace(identity)\n",
    "identity.__name__, identity.__doc__"
   ]
  },
  {
   "cell_type": "markdown",
   "metadata": {},
   "source": [
    "# Слайд 4. Доктесты\n",
    " https://docs.python.org/3/library/doctest"
   ]
  },
  {
   "cell_type": "code",
   "execution_count": 17,
   "metadata": {},
   "outputs": [
    {
     "name": "stdout",
     "output_type": "stream",
     "text": [
      "**********************************************************************\n",
      "File \"__main__\", line 7, in __main__.rle\n",
      "Failed example:\n",
      "    list(rle(\"mississippi\"))\n",
      "Expected:\n",
      "    [('m', 1), ('i', 1), ('s', 2), ('i', 1), \n",
      "    ('s', 2), ('i', 1), ('p', 2), ('i', 1)]\n",
      "Got:\n",
      "    [('m', 1), ('i', 1), ('s', 2), ('i', 1), ('s', 2), ('i', 1), ('p', 2), ('i', 1)]\n",
      "**********************************************************************\n",
      "1 items had failures:\n",
      "   1 of   2 in __main__.rle\n",
      "***Test Failed*** 1 failures.\n"
     ]
    }
   ],
   "source": [
    "import doctest\n",
    "import itertools\n",
    "def rle(iterable):\n",
    "    \"\"\"Applies run-length encoding to an iterable.\n",
    "    >>> list(rle(\"\"))\n",
    "    []\n",
    "    >>> list(rle(\"mississippi\"))\n",
    "    [('m', 1), ('i', 1), ('s', 2), ('i', 1), \n",
    "    ('s', 2), ('i', 1), ('p', 2), ('i', 1)]\n",
    "    \"\"\"\n",
    "    for item, g in itertools.groupby(iterable):\n",
    "        yield item, sum(1 for _ in g)\n",
    "        \n",
    "if __name__ == \"__main__\":\n",
    "    doctest.testmod()"
   ]
  },
  {
   "cell_type": "markdown",
   "metadata": {},
   "source": [
    "Директивы позволяют изменить то, как doctest сравнивает ожидаемый вывод интерпретатора с фактическим.\n",
    "\n",
    "Например, директива `NORMALIZE_WHITESPACE` нормализует пробельные символы перед сравнением:\n"
   ]
  },
  {
   "cell_type": "code",
   "execution_count": 22,
   "metadata": {},
   "outputs": [
    {
     "data": {
      "text/plain": [
       "[('m', 1),\n",
       " ('i', 1),\n",
       " ('s', 2),\n",
       " ('i', 1),\n",
       " ('s', 2),\n",
       " ('i', 1),\n",
       " ('p', 2),\n",
       " ('i', 1)]"
      ]
     },
     "execution_count": 22,
     "metadata": {},
     "output_type": "execute_result"
    }
   ],
   "source": [
    "list(rle(\"mississippi\"))\n",
    "... # doctest: +NORMALIZE_WHITESPACE"
   ]
  },
  {
   "cell_type": "markdown",
   "metadata": {},
   "source": [
    "А директива `ELLIPSIS` позволяет использовать символ ... ,\n",
    "который совпадает с любой строкой:"
   ]
  },
  {
   "cell_type": "code",
   "execution_count": 21,
   "metadata": {},
   "outputs": [
    {
     "data": {
      "text/plain": [
       "[('m', 1),\n",
       " ('i', 1),\n",
       " ('s', 2),\n",
       " ('i', 1),\n",
       " ('s', 2),\n",
       " ('i', 1),\n",
       " ('p', 2),\n",
       " ('i', 1)]"
      ]
     },
     "execution_count": 21,
     "metadata": {},
     "output_type": "execute_result"
    }
   ],
   "source": [
    "list(rle(\"mississippi\"))\n",
    "... # doctest: +ELLIPSIS"
   ]
  },
  {
   "cell_type": "markdown",
   "metadata": {},
   "source": [
    "Модуль **doctest** позволяет проверить реализацию функции\n",
    "на соответствие записанному сеансу интерпретатора.\n",
    "Плюсы:\n",
    "- доступен в стандартной библиотеке,\n",
    "- решает задачу тестирования для небольших проектов,\n",
    "- доктесты их легко читать,\n",
    "- примеры кода в документации всегда актуальны.\n",
    " \n",
    " \n",
    "Минусы:\n",
    "- доктесты требуют, чтобы у результата было содержательное\n",
    "строковое представление,\n",
    "- длинные доктесты ухудшают читаемость документации,\n",
    "- нет способа запустить подмножество доктестов,\n",
    "- если в середине доктеста произошла ошибка, оставшаяся\n",
    "часть не выполнится."
   ]
  },
  {
   "cell_type": "markdown",
   "metadata": {},
   "source": [
    "# Cлайд 7. Assert\n",
    "Напоминание:\n",
    "- оператор assert принимает два аргумента: условие и\n",
    "произвольное значение,\n",
    "- если условие falsy, оператор поднимает исключение\n",
    "**AssertionError **"
   ]
  },
  {
   "cell_type": "code",
   "execution_count": 24,
   "metadata": {},
   "outputs": [
    {
     "ename": "AssertionError",
     "evalue": "42",
     "output_type": "error",
     "traceback": [
      "\u001b[0;31m---------------------------------------------------------------------------\u001b[0m",
      "\u001b[0;31mAssertionError\u001b[0m                            Traceback (most recent call last)",
      "\u001b[0;32m<ipython-input-24-5799a4817d38>\u001b[0m in \u001b[0;36m<module>\u001b[0;34m\u001b[0m\n\u001b[0;32m----> 1\u001b[0;31m \u001b[0;32massert\u001b[0m \u001b[0;34m[\u001b[0m\u001b[0;34m]\u001b[0m\u001b[0;34m,\u001b[0m \u001b[0;36m42\u001b[0m\u001b[0;34m\u001b[0m\u001b[0;34m\u001b[0m\u001b[0m\n\u001b[0m",
      "\u001b[0;31mAssertionError\u001b[0m: 42"
     ]
    }
   ],
   "source": [
    "assert [], 42"
   ]
  },
  {
   "cell_type": "code",
   "execution_count": 27,
   "metadata": {},
   "outputs": [],
   "source": [
    "# Протестируем функцию rle :\n",
    "def test_rle():\n",
    "    s = \"mississippi\"\n",
    "    tmp = set(ch for ch, _count in rle(s))\n",
    "    assert tmp == set(s[:-1] + s[1])\n",
    "    assert not list(rle(\"\"))\n",
    "\n",
    "test_rle()"
   ]
  },
  {
   "cell_type": "code",
   "execution_count": 36,
   "metadata": {},
   "outputs": [
    {
     "data": {
      "text/plain": [
       "{'i', 'm', 'p', 's'}"
      ]
     },
     "execution_count": 36,
     "metadata": {},
     "output_type": "execute_result"
    }
   ],
   "source": [
    "s = \"mississippi\"\n",
    "set(ch for ch, _count in rle(s))"
   ]
  },
  {
   "cell_type": "code",
   "execution_count": 40,
   "metadata": {},
   "outputs": [
    {
     "data": {
      "text/plain": [
       "[]"
      ]
     },
     "execution_count": 40,
     "metadata": {},
     "output_type": "execute_result"
    }
   ],
   "source": [
    "list(rle(\"\"))\n"
   ]
  },
  {
   "attachments": {},
   "cell_type": "markdown",
   "metadata": {},
   "source": [
    "# Слайд 9. Признаки хорошего теста\n",
    "Хороший тест:\n",
    "- корректный,\n",
    "- понятный читателю,\n",
    "- конкретный, то есть проверяет что-то одно.\n",
    "\n",
    "\n",
    "Попробуем улучшить тест для функции rle \n",
    "\n"
   ]
  },
  {
   "cell_type": "code",
   "execution_count": 42,
   "metadata": {},
   "outputs": [
    {
     "ename": "AssertionError",
     "evalue": "",
     "output_type": "error",
     "traceback": [
      "\u001b[0;31m---------------------------------------------------------------------------\u001b[0m",
      "\u001b[0;31mAssertionError\u001b[0m                            Traceback (most recent call last)",
      "\u001b[0;32m<ipython-input-42-b632e7bef9fc>\u001b[0m in \u001b[0;36m<module>\u001b[0;34m\u001b[0m\n\u001b[1;32m      9\u001b[0m \u001b[0;34m\u001b[0m\u001b[0m\n\u001b[1;32m     10\u001b[0m \u001b[0mtest_rle_empty\u001b[0m\u001b[0;34m(\u001b[0m\u001b[0;34m)\u001b[0m\u001b[0;34m\u001b[0m\u001b[0;34m\u001b[0m\u001b[0m\n\u001b[0;32m---> 11\u001b[0;31m \u001b[0mtest_rle\u001b[0m\u001b[0;34m(\u001b[0m\u001b[0;34m)\u001b[0m\u001b[0;34m\u001b[0m\u001b[0;34m\u001b[0m\u001b[0m\n\u001b[0m",
      "\u001b[0;32m<ipython-input-42-b632e7bef9fc>\u001b[0m in \u001b[0;36mtest_rle\u001b[0;34m()\u001b[0m\n\u001b[1;32m      2\u001b[0m     assert rle(\"mississippi\") == [\n\u001b[1;32m      3\u001b[0m         \u001b[0;34m(\u001b[0m\u001b[0;34m'm'\u001b[0m\u001b[0;34m,\u001b[0m \u001b[0;36m1\u001b[0m\u001b[0;34m)\u001b[0m\u001b[0;34m,\u001b[0m \u001b[0;34m(\u001b[0m\u001b[0;34m'i'\u001b[0m\u001b[0;34m,\u001b[0m \u001b[0;36m1\u001b[0m\u001b[0;34m)\u001b[0m\u001b[0;34m,\u001b[0m \u001b[0;34m(\u001b[0m\u001b[0;34m's'\u001b[0m\u001b[0;34m,\u001b[0m \u001b[0;36m2\u001b[0m\u001b[0;34m)\u001b[0m\u001b[0;34m,\u001b[0m \u001b[0;34m(\u001b[0m\u001b[0;34m'i'\u001b[0m\u001b[0;34m,\u001b[0m \u001b[0;36m1\u001b[0m\u001b[0;34m)\u001b[0m\u001b[0;34m,\u001b[0m\u001b[0;34m\u001b[0m\u001b[0;34m\u001b[0m\u001b[0m\n\u001b[0;32m----> 4\u001b[0;31m         \u001b[0;34m(\u001b[0m\u001b[0;34m's'\u001b[0m\u001b[0;34m,\u001b[0m \u001b[0;36m2\u001b[0m\u001b[0;34m)\u001b[0m\u001b[0;34m,\u001b[0m \u001b[0;34m(\u001b[0m\u001b[0;34m'i'\u001b[0m\u001b[0;34m,\u001b[0m \u001b[0;36m1\u001b[0m\u001b[0;34m)\u001b[0m\u001b[0;34m,\u001b[0m \u001b[0;34m(\u001b[0m\u001b[0;34m'p'\u001b[0m\u001b[0;34m,\u001b[0m \u001b[0;36m2\u001b[0m\u001b[0;34m)\u001b[0m\u001b[0;34m,\u001b[0m \u001b[0;34m(\u001b[0m\u001b[0;34m'i'\u001b[0m\u001b[0;34m,\u001b[0m \u001b[0;36m1\u001b[0m\u001b[0;34m)\u001b[0m\u001b[0;34m\u001b[0m\u001b[0;34m\u001b[0m\u001b[0m\n\u001b[0m\u001b[1;32m      5\u001b[0m         ]\n\u001b[1;32m      6\u001b[0m \u001b[0;34m\u001b[0m\u001b[0m\n",
      "\u001b[0;31mAssertionError\u001b[0m: "
     ]
    }
   ],
   "source": [
    "def test_rle():\n",
    "    assert rle(\"mississippi\") == [\n",
    "        ('m', 1), ('i', 1), ('s', 2), ('i', 1),\n",
    "        ('s', 2), ('i', 1), ('p', 2), ('i', 1)\n",
    "        ]\n",
    "\n",
    "def test_rle_empty():\n",
    "    assert not list(rle(\"\"))\n",
    "\n",
    "test_rle_empty()\n",
    "test_rle()"
   ]
  },
  {
   "cell_type": "code",
   "execution_count": 44,
   "metadata": {},
   "outputs": [
    {
     "ename": "AssertionError",
     "evalue": "<generator object rle at 0x7f18f5a88570> != [('m', 1), ('i', 1), ('s', 2), ('i', 1), ('s', 2), ('i', 1), ('p', 2), ('i', 1)]",
     "output_type": "error",
     "traceback": [
      "\u001b[0;31m---------------------------------------------------------------------------\u001b[0m",
      "\u001b[0;31mAssertionError\u001b[0m                            Traceback (most recent call last)",
      "\u001b[0;32m<ipython-input-44-2a400222f121>\u001b[0m in \u001b[0;36m<module>\u001b[0;34m\u001b[0m\n\u001b[1;32m     10\u001b[0m     \u001b[0;32massert\u001b[0m \u001b[0mactual\u001b[0m \u001b[0;34m==\u001b[0m \u001b[0mexpected\u001b[0m\u001b[0;34m,\u001b[0m \u001b[0mmessage\u001b[0m\u001b[0;34m\u001b[0m\u001b[0;34m\u001b[0m\u001b[0m\n\u001b[1;32m     11\u001b[0m \u001b[0;34m\u001b[0m\u001b[0m\n\u001b[0;32m---> 12\u001b[0;31m \u001b[0mtest_rle\u001b[0m\u001b[0;34m(\u001b[0m\u001b[0;34m)\u001b[0m\u001b[0;34m\u001b[0m\u001b[0;34m\u001b[0m\u001b[0m\n\u001b[0m",
      "\u001b[0;32m<ipython-input-44-2a400222f121>\u001b[0m in \u001b[0;36mtest_rle\u001b[0;34m()\u001b[0m\n\u001b[1;32m      8\u001b[0m         ]\n\u001b[1;32m      9\u001b[0m     \u001b[0mmessage\u001b[0m \u001b[0;34m=\u001b[0m \u001b[0;34m\"{} != {}\"\u001b[0m\u001b[0;34m.\u001b[0m\u001b[0mformat\u001b[0m\u001b[0;34m(\u001b[0m\u001b[0mactual\u001b[0m\u001b[0;34m,\u001b[0m \u001b[0mexpected\u001b[0m\u001b[0;34m)\u001b[0m\u001b[0;34m\u001b[0m\u001b[0;34m\u001b[0m\u001b[0m\n\u001b[0;32m---> 10\u001b[0;31m     \u001b[0;32massert\u001b[0m \u001b[0mactual\u001b[0m \u001b[0;34m==\u001b[0m \u001b[0mexpected\u001b[0m\u001b[0;34m,\u001b[0m \u001b[0mmessage\u001b[0m\u001b[0;34m\u001b[0m\u001b[0;34m\u001b[0m\u001b[0m\n\u001b[0m\u001b[1;32m     11\u001b[0m \u001b[0;34m\u001b[0m\u001b[0m\n\u001b[1;32m     12\u001b[0m \u001b[0mtest_rle\u001b[0m\u001b[0;34m(\u001b[0m\u001b[0;34m)\u001b[0m\u001b[0;34m\u001b[0m\u001b[0;34m\u001b[0m\u001b[0m\n",
      "\u001b[0;31mAssertionError\u001b[0m: <generator object rle at 0x7f18f5a88570> != [('m', 1), ('i', 1), ('s', 2), ('i', 1), ('s', 2), ('i', 1), ('p', 2), ('i', 1)]"
     ]
    }
   ],
   "source": [
    "# Второй аргумент оператора assert используется для\n",
    "# сообщения об ошибке:\n",
    "def test_rle():\n",
    "    actual = rle(\"mississippi\")\n",
    "    expected = [\n",
    "        ('m', 1), ('i', 1), ('s', 2), ('i', 1),\n",
    "        ('s', 2), ('i', 1), ('p', 2), ('i', 1)\n",
    "        ]\n",
    "    message = \"{} != {}\".format(actual, expected)\n",
    "    assert actual == expected, message\n",
    "\n",
    "test_rle()"
   ]
  },
  {
   "cell_type": "markdown",
   "metadata": {},
   "source": [
    "# Слайд 11. Функция assert_equal\n",
    "\n",
    "Добавим сообщение об ошибке к тесту `test_rle_empty `"
   ]
  },
  {
   "cell_type": "code",
   "execution_count": 87,
   "metadata": {},
   "outputs": [],
   "source": [
    "def test_rle_empty(): # ^C/^V\n",
    "    actual = list(rle(\"\"))\n",
    "    expected = []\n",
    "    message = \"{} != {}\".format(actual, expected)\n",
    "    assert actual == expected, message\n",
    "    \n",
    "# Самое время вынести логику сравнения в отдельную\n",
    "# функцию:\n",
    "def assert_equal(x, y):\n",
    "    assert x == y, \"{} != {}\".format(x, y)"
   ]
  },
  {
   "cell_type": "markdown",
   "metadata": {},
   "source": [
    "<font color=blue>Вопрос</font>:<br> \n",
    "что делать, если мы также хотим проверять\n",
    "утверждения вида `(\"a\", 2) in rle(...)`? "
   ]
  },
  {
   "cell_type": "markdown",
   "metadata": {},
   "source": [
    "# Слайд 12. assert: резюме\n",
    "\n",
    "Оператор assert можно использовать для написания\n",
    "тестов.\n",
    "Плюсы:\n",
    "- тесты c assert легко читать,\n",
    "- они не используют ничего кроме стандартных средств\n",
    "языка,\n",
    "- в отличие от доктестов это обычные функции.\n",
    "\n",
    "Минусы:\n",
    "- запускать тесты нужно вручную,\n",
    "- их сложно отлаживать, потому что\n",
    " для каждого типа утверждения приходится самостоятельно\n",
    "конструировать сообщение об ошибке."
   ]
  },
  {
   "cell_type": "markdown",
   "metadata": {},
   "source": [
    "# Cлайд 13. Модуль unittest\n",
    " https://docs.python.org/3/library/unittest\n",
    " \n",
    "Модуль unittest реализует функциональность JUnit для\n",
    "тестирования кода на Python.\n",
    "- Наследие Java до сих пор в обилии присутствует в API.\n",
    "- Перепишем имеющиеся тесты с использованием unittest \n",
    "    "
   ]
  },
  {
   "cell_type": "code",
   "execution_count": 46,
   "metadata": {},
   "outputs": [
    {
     "name": "stderr",
     "output_type": "stream",
     "text": [
      "E\n",
      "======================================================================\n",
      "ERROR: /home/nenu/ (unittest.loader._FailedTest)\n",
      "----------------------------------------------------------------------\n",
      "AttributeError: module '__main__' has no attribute '/home/nenu/'\n",
      "\n",
      "----------------------------------------------------------------------\n",
      "Ran 1 test in 0.001s\n",
      "\n",
      "FAILED (errors=1)\n"
     ]
    },
    {
     "ename": "SystemExit",
     "evalue": "True",
     "output_type": "error",
     "traceback": [
      "An exception has occurred, use %tb to see the full traceback.\n",
      "\u001b[0;31mSystemExit\u001b[0m\u001b[0;31m:\u001b[0m True\n"
     ]
    },
    {
     "name": "stderr",
     "output_type": "stream",
     "text": [
      "/home/nenu/.local/lib/python3.6/site-packages/IPython/core/interactiveshell.py:3334: UserWarning: To exit: use 'exit', 'quit', or Ctrl-D.\n",
      "  warn(\"To exit: use 'exit', 'quit', or Ctrl-D.\", stacklevel=1)\n"
     ]
    }
   ],
   "source": [
    "import unittest\n",
    "\n",
    "class TestHomework(unittest.TestCase):\n",
    "    def test_rle(self):\n",
    "        self.assertEqual(rle(\"mississippi\"), [...])\n",
    "        \n",
    "    def test_rle_empty(self):\n",
    "        self.assertEqual(list(rle(\"\")), [])\n",
    "        \n",
    "if __name__ == \"__main__\":\n",
    "    unittest.main()"
   ]
  },
  {
   "cell_type": "markdown",
   "metadata": {},
   "source": [
    "# Cлайд 15. Функция unittest.main\n",
    "\n",
    "Функция unittest.main загружает все тесты текущего\n",
    "модуля и запускает их.\n",
    "- Тест — метод экземпляра unittest.TestCase ,\n",
    "начинающийся на test .\n",
    "- При необходимости тесты можно объединять в группы с\n",
    "помощью класса unittest.TestSuite :\n",
    "```\n",
    "suite = unittest.TestSuite([\n",
    "    TestHomework(),\n",
    "    TestSomethingElse()\n",
    "])\n",
    "```\n",
    "- Указывать вручную, что нужно запустить довольно досадно.\n",
    "\n",
    "Вопрос: можно ли лучше?"
   ]
  },
  {
   "attachments": {
    "Screenshot_2.png": {
     "image/png": "[encoded data removed]"
    }
   },
   "cell_type": "markdown",
   "metadata": {},
   "source": [
    "# Слайд 17. Методы unittest.TestCase\n",
    "![Screenshot_2.png](attachment:Screenshot_2.png)"
   ]
  },
  {
   "cell_type": "markdown",
   "metadata": {},
   "source": [
    "# Слайд 18. Модуль unittest и контекст\n",
    "? aka fixtures — способ подготовить контекст, в котором\n",
    "будут запускаться тесты.\n",
    "- Это можно использовать, например, для работы с\n",
    "ресурсами: сокетами, файлами, временными\n",
    "директориями.\n",
    "\n",
    "Пример:"
   ]
  },
  {
   "cell_type": "code",
   "execution_count": 47,
   "metadata": {},
   "outputs": [],
   "source": [
    "class TestHomeworkWithOracle(unittest.TestCase):\n",
    "    def setUp(self):\n",
    "        self.oracle = RleOracle(\"http://oracle.rle.com\")\n",
    "    def test_rle_against_oracle(self):\n",
    "        s = \"mississippi\"\n",
    "        self.assertEqual(list(rle(s)), self.oracle(s))\n",
    "    def tearDown(self):\n",
    "        self.oracule.close()"
   ]
  },
  {
   "cell_type": "markdown",
   "metadata": {},
   "source": [
    "# Слайд 19. Модуль unittest: резюме\n",
    "Модуль **unittest** — клон JUnit для Python.\n",
    "\n",
    "Мы обсудили\n",
    "- основные сущности unittest ,\n",
    "- как писать и запускать тесты,\n",
    "- какие полезные методы имеются в классе `unittest.TestCase` .\n",
    "\n",
    "Плюсы:\n",
    "- доступен в стандартной библиотеке,\n",
    "- выводит понятные сообщения об ошибках,\n",
    "- умеет автоматически находить тесты.\n",
    "\n",
    "Минусы:\n",
    "- API унаследован от Java,\n",
    "- заставляет писать много лишнего кода,\n",
    "- читать **unittest** тесты сложнее, чем доктесты и тесты,\n",
    "использующие assert "
   ]
  },
  {
   "cell_type": "markdown",
   "metadata": {},
   "source": [
    "# Слайд 20. Пакет py.test\n",
    " https://pytest.org\n",
    " \n",
    "Пакет `py.test` — популярная альтернатива **unittest** для\n",
    "написания и запуска тестов.\n",
    "- Отличительная особенность `py.test` — практически\n",
    "полное отсутствие API: тесты можно писать, используя\n",
    "стандартные средства языка."
   ]
  },
  {
   "cell_type": "code",
   "execution_count": 48,
   "metadata": {},
   "outputs": [],
   "source": [
    "def test_rle():\n",
    "    assert rle(\"mississippi\") == [\n",
    "        ('m', 1), ('i', 1), ('s', 2), ('i', 1),\n",
    "        ('s', 2), ('i', 1), ('p', 2), ('i', 1)\n",
    "    ]\n",
    "    \n",
    "def test_rle_empty():\n",
    "    assert not list(rle(\"\"))\n",
    "    \n",
    "#  python -m pytest -q test_pytest.py"
   ]
  },
  {
   "cell_type": "markdown",
   "metadata": {},
   "source": [
    "# Слайд 22. Пакет py.test: интерфейс командной строки\n",
    "Запустить `py.test` можно 1001 способом, например:\n",
    "- найти тесты в текущей директории и во всех вложенных\n",
    "директориях и запустить их:<br>\n",
    "```$ python -m pytest```\n",
    "- найти и запустить тесты в указанном файле:<br>\n",
    "```$ python -m pytest test_pytest.py```\n",
    "- запустить один тест в файле по имени:<br>\n",
    "```$ python -m pytest test_pytest.py::test_rle```\n",
    "\n",
    "Что такое тест для `py.test`?  \n",
    "https://pytest.org/latest/goodpractises.html\n",
    "- функция test_* ,\n",
    "- метод test_* в классе Test* или в классе, наследующемся\n",
    "от unittest.TestCase ,\n",
    "- доктест, если py.test был запущен с параметром\n",
    "```--doctest-modules ```"
   ]
  },
  {
   "cell_type": "markdown",
   "metadata": {},
   "source": [
    "# Слайд 24.Возможности py.test: raises"
   ]
  },
  {
   "cell_type": "code",
   "execution_count": 49,
   "metadata": {},
   "outputs": [],
   "source": [
    "def  test_undo_dict_exceptions():\n",
    "    d = UndoDict()\n",
    "    with pytest.raises(KeyError):\n",
    "        d[\"foo\"]"
   ]
  },
  {
   "cell_type": "markdown",
   "metadata": {},
   "source": [
    "\n",
    "\n",
    "# Слайд 25. Возможности py.test: параметрические тесты\n",
    "\n",
    "Параметрические тесты позволяют писать тесты, которые работают с разными данными"
   ]
  },
  {
   "cell_type": "code",
   "execution_count": 60,
   "metadata": {},
   "outputs": [],
   "source": [
    "def cut_suffix(s, suffix):\n",
    "    \"\"\"Принимает строку, суффикс и возвращает строку без суффикса\n",
    "    \n",
    "    - намеренно неверная реализация, чтобы тест сработал.\n",
    "    Ошибка в том, что rfind возвращает -1 если ничего не нашел, а в слайсе это\n",
    "    предпоследний элемент\n",
    "    \"\"\"\n",
    "    return s[:s.rfind(suffix)]"
   ]
  },
  {
   "cell_type": "code",
   "execution_count": 62,
   "metadata": {},
   "outputs": [
    {
     "data": {
      "text/plain": [
       "'refrigerat'"
      ]
     },
     "execution_count": 62,
     "metadata": {},
     "output_type": "execute_result"
    }
   ],
   "source": [
    "s = \"refrigerator\"\n",
    "cut_suffix(s, \"or\")"
   ]
  },
  {
   "cell_type": "code",
   "execution_count": 66,
   "metadata": {},
   "outputs": [
    {
     "data": {
      "text/plain": [
       "'fooba'"
      ]
     },
     "execution_count": 66,
     "metadata": {},
     "output_type": "execute_result"
    }
   ],
   "source": [
    "s = \"foobar\"\n",
    "cut_suffix(s, \"boo\")"
   ]
  },
  {
   "cell_type": "code",
   "execution_count": 68,
   "metadata": {},
   "outputs": [
    {
     "data": {
      "text/plain": [
       "-1"
      ]
     },
     "execution_count": 68,
     "metadata": {},
     "output_type": "execute_result"
    }
   ],
   "source": [
    "s.rfind(\"boo\")"
   ]
  },
  {
   "cell_type": "code",
   "execution_count": null,
   "metadata": {},
   "outputs": [],
   "source": []
  },
  {
   "cell_type": "code",
   "execution_count": 69,
   "metadata": {},
   "outputs": [],
   "source": [
    "# Тестируем cut_suffix с помощью параметрического теста:\n",
    "import pytest\n",
    "@pytest.mark.parametrize(\"s,suffix,expected\", [\n",
    "    (\"foobar\", \"bar\", \"foo\"),\n",
    "    (\"foobar\", \"boo\", \"foobar\"),\n",
    "    (\"foobarbar\", \"bar\", \"foobar\")\n",
    "])\n",
    "def test_ctu_suffix(s, suffix, expected):\n",
    "    assert cut_suffix(s, suffix) == expected\n",
    "   "
   ]
  },
  {
   "cell_type": "markdown",
   "metadata": {},
   "source": [
    "# Слайд 29. -------------------\n",
    "• С помощью функции partial можно зафиксировать часть\n",
    "позиционных и ключевых аргументов в функции.\n",
    "\n",
    "• Выполнившие домашнее задание узнают в partial\n",
    "расширение функции curry."
   ]
  },
  {
   "cell_type": "code",
   "execution_count": 19,
   "metadata": {},
   "outputs": [
    {
     "data": {
      "text/plain": [
       "[('b', 2), ('a', 4)]"
      ]
     },
     "execution_count": 19,
     "metadata": {},
     "output_type": "execute_result"
    }
   ],
   "source": [
    "f = functools.partial(sorted, key=lambda p: p[1])\n",
    "f([(\"a\", 4), (\"b\", 2)])"
   ]
  },
  {
   "cell_type": "code",
   "execution_count": 20,
   "metadata": {},
   "outputs": [
    {
     "data": {
      "text/plain": [
       "[1, 2, 3, 4]"
      ]
     },
     "execution_count": 20,
     "metadata": {},
     "output_type": "execute_result"
    }
   ],
   "source": [
    "g = functools.partial(sorted, [2, 3, 1, 4])\n",
    "g()"
   ]
  },
  {
   "cell_type": "code",
   "execution_count": 27,
   "metadata": {},
   "outputs": [
    {
     "data": {
      "text/plain": [
       "43"
      ]
     },
     "execution_count": 27,
     "metadata": {},
     "output_type": "execute_result"
    }
   ],
   "source": [
    "# Функция пребразует строки, записанные в двоичном формате в целое число\n",
    "ff = functools.partial(int, base=2)\n",
    "ff('101011')"
   ]
  },
  {
   "cell_type": "markdown",
   "metadata": {},
   "source": [
    "# Слайд 30. Обобщённые (мультиметоды) функции\n",
    "Функция len называется обобщённой, так как её\n",
    "реализация может быть специализирована для\n",
    "конкретного типа\n",
    "```\n",
    ">>> len([1, 2, 3, 4])\n",
    "4\n",
    ">>> len({1, 2, 3, 4})\n",
    "4\n",
    ">>> len(range(4))\n",
    "4\n",
    "• Примеры обобщённых функций в Python:\n",
    ">>> str([1, 2, 3, 4])\n",
    "'[1, 2, 3, 4]'\n",
    ">>> hash((1, 2, 3, 4))\n",
    "485696759010151909\n",
    ">>> sum([[1], [2]], [])\n",
    "[1, 2]\n",
    "• Как реализовать свою обобщённую функцию?\n",
    "```"
   ]
  },
  {
   "cell_type": "markdown",
   "metadata": {},
   "source": [
    "# Слайд 30. singledispatch \n",
    "- декоратор, который позволяет писать функции, которые по-разному работают, в зависимости от передаваемых аргументов.\n",
    "Для примера напишем функцию, которая упаковывает переданное её значение в бинарную строку (серилизует).\n"
   ]
  },
  {
   "cell_type": "code",
   "execution_count": 28,
   "metadata": {},
   "outputs": [
    {
     "data": {
      "text/plain": [
       "b'LI0x1,I0x2,I0x4'"
      ]
     },
     "execution_count": 28,
     "metadata": {},
     "output_type": "execute_result"
    }
   ],
   "source": [
    "# Базовая ф-ия для случаев, если остальные не подошли\n",
    "# Вызываем assert и пишем \"неподходящий тип\"\n",
    "@functools.singledispatch\n",
    "def pack(obj): \n",
    "    type_name = type(obj).__name__\n",
    "    assert False, \"Unsupported type: \" + type_name\n",
    "    \n",
    "#  Далее перечисляем особые случаи - для каждого типа своя ф-ия:\n",
    "@pack.register(int)\n",
    "def _(obj):\n",
    "    return b\"I\" + hex(obj).encode(\"ascii\")\n",
    "\n",
    "@pack.register(list)\n",
    "def _(obj):\n",
    "    return b\"L\" + b\",\".join(map(pack, obj))\n",
    "\n",
    "pack([1, 2, 4])"
   ]
  },
  {
   "cell_type": "code",
   "execution_count": 29,
   "metadata": {},
   "outputs": [
    {
     "ename": "AssertionError",
     "evalue": "Unsupported type: float",
     "output_type": "error",
     "traceback": [
      "\u001b[0;31m---------------------------------------------------------------------------\u001b[0m",
      "\u001b[0;31mAssertionError\u001b[0m                            Traceback (most recent call last)",
      "\u001b[0;32m<ipython-input-29-6cb62133dda6>\u001b[0m in \u001b[0;36m<module>\u001b[0;34m\u001b[0m\n\u001b[0;32m----> 1\u001b[0;31m \u001b[0mpack\u001b[0m\u001b[0;34m(\u001b[0m\u001b[0;36m42.\u001b[0m\u001b[0;34m)\u001b[0m\u001b[0;34m\u001b[0m\u001b[0;34m\u001b[0m\u001b[0m\n\u001b[0m",
      "\u001b[0;32m/usr/lib/python3.6/functools.py\u001b[0m in \u001b[0;36mwrapper\u001b[0;34m(*args, **kw)\u001b[0m\n\u001b[1;32m    805\u001b[0m                             '1 positional argument')\n\u001b[1;32m    806\u001b[0m \u001b[0;34m\u001b[0m\u001b[0m\n\u001b[0;32m--> 807\u001b[0;31m         \u001b[0;32mreturn\u001b[0m \u001b[0mdispatch\u001b[0m\u001b[0;34m(\u001b[0m\u001b[0margs\u001b[0m\u001b[0;34m[\u001b[0m\u001b[0;36m0\u001b[0m\u001b[0;34m]\u001b[0m\u001b[0;34m.\u001b[0m\u001b[0m__class__\u001b[0m\u001b[0;34m)\u001b[0m\u001b[0;34m(\u001b[0m\u001b[0;34m*\u001b[0m\u001b[0margs\u001b[0m\u001b[0;34m,\u001b[0m \u001b[0;34m**\u001b[0m\u001b[0mkw\u001b[0m\u001b[0;34m)\u001b[0m\u001b[0;34m\u001b[0m\u001b[0;34m\u001b[0m\u001b[0m\n\u001b[0m\u001b[1;32m    808\u001b[0m \u001b[0;34m\u001b[0m\u001b[0m\n\u001b[1;32m    809\u001b[0m     \u001b[0mfuncname\u001b[0m \u001b[0;34m=\u001b[0m \u001b[0mgetattr\u001b[0m\u001b[0;34m(\u001b[0m\u001b[0mfunc\u001b[0m\u001b[0;34m,\u001b[0m \u001b[0;34m'__name__'\u001b[0m\u001b[0;34m,\u001b[0m \u001b[0;34m'singledispatch function'\u001b[0m\u001b[0;34m)\u001b[0m\u001b[0;34m\u001b[0m\u001b[0;34m\u001b[0m\u001b[0m\n",
      "\u001b[0;32m<ipython-input-28-d4f246b11b47>\u001b[0m in \u001b[0;36mpack\u001b[0;34m(obj)\u001b[0m\n\u001b[1;32m      4\u001b[0m \u001b[0;32mdef\u001b[0m \u001b[0mpack\u001b[0m\u001b[0;34m(\u001b[0m\u001b[0mobj\u001b[0m\u001b[0;34m)\u001b[0m\u001b[0;34m:\u001b[0m\u001b[0;34m\u001b[0m\u001b[0;34m\u001b[0m\u001b[0m\n\u001b[1;32m      5\u001b[0m     \u001b[0mtype_name\u001b[0m \u001b[0;34m=\u001b[0m \u001b[0mtype\u001b[0m\u001b[0;34m(\u001b[0m\u001b[0mobj\u001b[0m\u001b[0;34m)\u001b[0m\u001b[0;34m.\u001b[0m\u001b[0m__name__\u001b[0m\u001b[0;34m\u001b[0m\u001b[0;34m\u001b[0m\u001b[0m\n\u001b[0;32m----> 6\u001b[0;31m     \u001b[0;32massert\u001b[0m \u001b[0;32mFalse\u001b[0m\u001b[0;34m,\u001b[0m \u001b[0;34m\"Unsupported type: \"\u001b[0m \u001b[0;34m+\u001b[0m \u001b[0mtype_name\u001b[0m\u001b[0;34m\u001b[0m\u001b[0;34m\u001b[0m\u001b[0m\n\u001b[0m\u001b[1;32m      7\u001b[0m \u001b[0;34m\u001b[0m\u001b[0m\n\u001b[1;32m      8\u001b[0m \u001b[0;31m#  Далее перечисляем особые случаи - для каждого типа своя ф-ия:\u001b[0m\u001b[0;34m\u001b[0m\u001b[0;34m\u001b[0m\u001b[0;34m\u001b[0m\u001b[0m\n",
      "\u001b[0;31mAssertionError\u001b[0m: Unsupported type: float"
     ]
    }
   ],
   "source": [
    "# При передаче неподдерживаего типа - ошибка\n",
    "pack(42.)"
   ]
  },
  {
   "cell_type": "markdown",
   "metadata": {},
   "source": [
    "# Слайд 32. Свёртка, мотивация для reduce"
   ]
  },
  {
   "cell_type": "code",
   "execution_count": 33,
   "metadata": {},
   "outputs": [
    {
     "data": {
      "text/plain": [
       "10"
      ]
     },
     "execution_count": 33,
     "metadata": {},
     "output_type": "execute_result"
    }
   ],
   "source": [
    "# Функцию суммирования\n",
    "sum([1, 2, 3, 4])\n",
    "# можно записать скобочками:\n",
    "(((0 + 1) + 2) + 3) + 4"
   ]
  },
  {
   "cell_type": "code",
   "execution_count": 35,
   "metadata": {},
   "outputs": [
    {
     "data": {
      "text/plain": [
       "24"
      ]
     },
     "execution_count": 35,
     "metadata": {},
     "output_type": "execute_result"
    }
   ],
   "source": [
    "# Что если мы захотим использовать другую бинарную \n",
    "# операцию, например, умножение?\n",
    "(((1 * 1) * 2) * 3) * 4"
   ]
  },
  {
   "cell_type": "code",
   "execution_count": 71,
   "metadata": {},
   "outputs": [
    {
     "data": {
      "text/plain": [
       "10"
      ]
     },
     "execution_count": 71,
     "metadata": {},
     "output_type": "execute_result"
    }
   ],
   "source": [
    "# То, что знак + может быть легко заменён другой операцией без изменения\n",
    "# порядка вычеслений, называется `левой свёрткой` = reduce:\n",
    "functools.reduce(lambda acc, x: acc + x, [1, 2, 3, 4])"
   ]
  },
  {
   "cell_type": "markdown",
   "metadata": {},
   "source": [
    "# примеры применения reduce:\n",
    "Функция reduce принимает три аргумента: бинарную\n",
    "функцию и последовательность.\n",
    "\n",
    "• Вычисление reduce(op, xs) можно схематично\n",
    "представить как:\n",
    "```\n",
    "op(op(op(op(xs[0]), xs[1]), xs[2]), ...)\n",
    "op(op(op(xs[0], xs[1]), xs[2]), ...)```"
   ]
  },
  {
   "cell_type": "code",
   "execution_count": 18,
   "metadata": {},
   "outputs": [
    {
     "data": {
      "text/plain": [
       "23"
      ]
     },
     "execution_count": 18,
     "metadata": {},
     "output_type": "execute_result"
    }
   ],
   "source": [
    "functools.reduce(lambda acc, s: 10*acc + int(s), [1, 13])"
   ]
  },
  {
   "cell_type": "code",
   "execution_count": 17,
   "metadata": {},
   "outputs": [
    {
     "data": {
      "text/plain": [
       "1912"
      ]
     },
     "execution_count": 17,
     "metadata": {},
     "output_type": "execute_result"
    }
   ],
   "source": [
    "# Преобразование строки с числом в инт (извращенный эквивалент int(\"1912\"))\n",
    "#      acc  +  s  =  result\n",
    "# 1.    0      1       1\n",
    "# 1.  1*10     9       19\n",
    "# 1.  19*10    1       191\n",
    "# 1.  191*10   2       1912\n",
    "\n",
    "functools.reduce(lambda acc, s: 10*int(acc) + int(s), \"1912\")"
   ]
  },
  {
   "cell_type": "code",
   "execution_count": 82,
   "metadata": {},
   "outputs": [
    {
     "data": {
      "text/plain": [
       "[0, 1, 2, 5, 6, 7]"
      ]
     },
     "execution_count": 82,
     "metadata": {},
     "output_type": "execute_result"
    }
   ],
   "source": [
    "# ф-я merge, которая сливает два сортиррованных списка\n",
    "def merge(list1, list2):\n",
    "    return sorted(list1 + list2)\n",
    "\n",
    "# можно обобщить на произвольное количество списков\n",
    "functools.reduce(merge, [[1, 2, 7], [5, 6], [0]])"
   ]
  },
  {
   "cell_type": "markdown",
   "metadata": {},
   "source": [
    "# reduce: резюме\n",
    "• Несмотря на свою популярность в функциональных\n",
    "языках, в Python довольно сложно придумать полезный\n",
    "пример использования reduce.\n",
    "\n",
    "• Резюме про reduce:\n",
    "- работает с любым объектом, поддерживающим протокол\n",
    "итератора;\n",
    "- работает слева направо;\n",
    "- использует первый элемент последовательности, если\n",
    "начальное значение не указано явно.\n",
    "\n",
    "# functools: резюме\n",
    "• Модуль functools украшает будни любителя\n",
    "функционального программирования.\n",
    "\n",
    "• Мы поговорили про:\n",
    "- lru_cache\n",
    "- partial\n",
    "- singledispatch\n",
    "- reduce"
   ]
  }
 ],
 "metadata": {
  "kernelspec": {
   "display_name": "Python 3",
   "language": "python",
   "name": "python3"
  },
  "language_info": {
   "codemirror_mode": {
    "name": "ipython",
    "version": 3
   },
   "file_extension": ".py",
   "mimetype": "text/x-python",
   "name": "python",
   "nbconvert_exporter": "python",
   "pygments_lexer": "ipython3",
   "version": "3.6.8"
  }
 },
 "nbformat": 4,
 "nbformat_minor": 2
}
